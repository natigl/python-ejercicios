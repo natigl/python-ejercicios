{
 "cells": [
  {
   "attachments": {},
   "cell_type": "markdown",
   "metadata": {},
   "source": [
    "**1. Usando la función input, cread un programa que pregunte al usuario por el nombre de tres amig@s.**"
   ]
  },
  {
   "cell_type": "markdown",
   "metadata": {},
   "source": [
    "Almacenad los resultados del paso anterior en una lista. 💡💡Pista Tendréis que usar métodos de los strings que aprendimos en la lección anterior."
   ]
  },
  {
   "cell_type": "code",
   "execution_count": null,
   "metadata": {},
   "outputs": [],
   "source": []
  },
  {
   "attachments": {},
   "cell_type": "markdown",
   "metadata": {},
   "source": [
    "**2. Usando la función input, cread un programa que ahora le pregunte al usuario por las alturas de sus amig@s. Y almacenar los resultados en una lista.**"
   ]
  },
  {
   "cell_type": "code",
   "execution_count": null,
   "metadata": {},
   "outputs": [],
   "source": []
  },
  {
   "attachments": {},
   "cell_type": "markdown",
   "metadata": {},
   "source": [
    "- Nos interesa que las alturas estén en tipo float para eso, ejecutad el siguiente código. No es necesario que lo entendáis, es un concepto más avanzado que aprenderemos en las siguientes lecciones."
   ]
  },
  {
   "cell_type": "code",
   "execution_count": null,
   "metadata": {},
   "outputs": [],
   "source": []
  },
  {
   "attachments": {},
   "cell_type": "markdown",
   "metadata": {},
   "source": [
    "- Ordenad las dos listas de mayor a menor. ¿Lo podréis hacer para la lista de nombres?"
   ]
  },
  {
   "cell_type": "code",
   "execution_count": null,
   "metadata": {},
   "outputs": [],
   "source": []
  },
  {
   "attachments": {},
   "cell_type": "markdown",
   "metadata": {},
   "source": [
    "- ¿Cuál es la altura máxima de todos nuestros amig@os?"
   ]
  },
  {
   "cell_type": "code",
   "execution_count": null,
   "metadata": {},
   "outputs": [],
   "source": []
  },
  {
   "attachments": {},
   "cell_type": "markdown",
   "metadata": {},
   "source": [
    "- Y la mínima?"
   ]
  },
  {
   "cell_type": "code",
   "execution_count": null,
   "metadata": {},
   "outputs": [],
   "source": []
  },
  {
   "attachments": {},
   "cell_type": "markdown",
   "metadata": {},
   "source": [
    "**3. Dadas las siguientes listas:**\n",
    "\n",
    "lista1 = [44, 55, 67, 44, 98, 29]\n",
    "\n",
    "lista2 = [34, 56, 56, 78, 67, 56]"
   ]
  },
  {
   "attachments": {},
   "cell_type": "markdown",
   "metadata": {},
   "source": [
    "- Unid las dos listas de forma que consigamos el siguiente output. Almacenad los resultados en una nueva variable y llamadla lista_lista."
   ]
  },
  {
   "cell_type": "code",
   "execution_count": null,
   "metadata": {},
   "outputs": [],
   "source": []
  },
  {
   "attachments": {},
   "cell_type": "markdown",
   "metadata": {},
   "source": [
    "- Unid las dos listas de forma que consigamos el siguiente output. Almacenad los resultados en una nueva variable y llamadla lista_numeros."
   ]
  },
  {
   "cell_type": "code",
   "execution_count": null,
   "metadata": {},
   "outputs": [],
   "source": []
  },
  {
   "attachments": {},
   "cell_type": "markdown",
   "metadata": {},
   "source": [
    "- De la lista lista_lista, ¿cuántas veces aparece el número 67? ¿y en la lista lista_numeros.\n",
    "Justificad por qué salen números diferentes"
   ]
  },
  {
   "cell_type": "code",
   "execution_count": null,
   "metadata": {},
   "outputs": [],
   "source": []
  },
  {
   "attachments": {},
   "cell_type": "markdown",
   "metadata": {},
   "source": [
    "- Usando la lista_numeros, dadle la vuelta a la lista."
   ]
  },
  {
   "cell_type": "code",
   "execution_count": null,
   "metadata": {},
   "outputs": [],
   "source": []
  }
 ],
 "metadata": {
  "kernelspec": {
   "display_name": "base",
   "language": "python",
   "name": "python3"
  },
  "language_info": {
   "codemirror_mode": {
    "name": "ipython",
    "version": 3
   },
   "file_extension": ".py",
   "mimetype": "text/x-python",
   "name": "python",
   "nbconvert_exporter": "python",
   "pygments_lexer": "ipython3",
   "version": "3.9.7"
  },
  "orig_nbformat": 4,
  "vscode": {
   "interpreter": {
    "hash": "ebacf0c690606339d2819fda86ce84d5dc8f19bdafd30d1cf039ac39003e3ee9"
   }
  }
 },
 "nbformat": 4,
 "nbformat_minor": 2
}
