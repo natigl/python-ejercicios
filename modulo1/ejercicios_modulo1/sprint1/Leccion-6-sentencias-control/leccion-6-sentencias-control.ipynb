{
 "cells": [
  {
   "cell_type": "markdown",
   "metadata": {},
   "source": [
    "1. En la escuela donde trabajamos tienen el siguiente sistema de notas:"
   ]
  },
  {
   "cell_type": "markdown",
   "metadata": {},
   "source": [
    "- Below 25 - F\n",
    "- 25 to 45 - E\n",
    "- 45 to 50 - D\n",
    "- 50 to 60 - C\n",
    "- 60 to 80 - B\n",
    "- Above 80 - A"
   ]
  },
  {
   "attachments": {},
   "cell_type": "markdown",
   "metadata": {},
   "source": [
    "1. El objetivo de este ejercicio es que le preguntéis al usuario por una nota (numérica) y nosotros le devolvamos la nota con la letra que le corresponde."
   ]
  },
  {
   "cell_type": "code",
   "execution_count": null,
   "metadata": {},
   "outputs": [],
   "source": []
  },
  {
   "cell_type": "markdown",
   "metadata": {},
   "source": [
    "2. Cread tres inputs donde a cada uno de ellos le preguntéis su edad, el objetivo del ejercicio es determinar quien es el más viejo y el más joven."
   ]
  },
  {
   "cell_type": "code",
   "execution_count": null,
   "metadata": {},
   "outputs": [],
   "source": []
  },
  {
   "cell_type": "code",
   "execution_count": null,
   "metadata": {},
   "outputs": [],
   "source": []
  },
  {
   "cell_type": "code",
   "execution_count": null,
   "metadata": {},
   "outputs": [],
   "source": []
  },
  {
   "cell_type": "markdown",
   "metadata": {},
   "source": [
    "3. Escribid un programa que pregunte el nombre del usuario a través de la función input(). Si el nombre es \"Bond\" haced que imprima \"Bienvenido a bordo de 007\". En caso contrario haced que imprima \"Buenos días NOMBRE\". (Reemplace NOMBRE por el nombre del usuario)."
   ]
  },
  {
   "cell_type": "code",
   "execution_count": null,
   "metadata": {},
   "outputs": [],
   "source": []
  },
  {
   "cell_type": "code",
   "execution_count": null,
   "metadata": {},
   "outputs": [],
   "source": []
  },
  {
   "cell_type": "markdown",
   "metadata": {},
   "source": [
    "4. arbol es un diccionario que muestra el número de árboles de países por kilómetro cuadrado para países aleatorios con un número considerable de población. Crea una lista llamada \"masarboles\" que contenga el nombre de los países con más de 40.000 árboles por kilómetro cuadrado."
   ]
  },
  {
   "cell_type": "code",
   "execution_count": null,
   "metadata": {},
   "outputs": [],
   "source": []
  },
  {
   "cell_type": "code",
   "execution_count": null,
   "metadata": {},
   "outputs": [],
   "source": []
  },
  {
   "cell_type": "code",
   "execution_count": null,
   "metadata": {},
   "outputs": [],
   "source": []
  },
  {
   "cell_type": "markdown",
   "metadata": {},
   "source": [
    "5. Los alumnos de un curso se han dividido en dos grupos A y B de acuerdo al sexo y el nombre. El grupo A esta formado por las mujeres con un nombre anterior a la M y los hombres con un nombre posterior a la N y el grupo B por el resto. Escribid un programa que pregunte al usuario su nombre y sexo, y muestre por pantalla el grupo que le corresponde."
   ]
  },
  {
   "cell_type": "code",
   "execution_count": null,
   "metadata": {},
   "outputs": [],
   "source": []
  },
  {
   "attachments": {},
   "cell_type": "markdown",
   "metadata": {},
   "source": [
    "6. Escribid un programa que dada la variable z con valor 0, es decir z = 0.\n",
    "    - Mientras que el valor de z sea menor que 3:\n",
    "        - Si el valor de z es igual a 0:\n",
    "            - Printead el valor de z\n",
    "            - Almancenad el valor en una lista auxiliar\n",
    "            - Sumadle 1 al valor de z\n",
    "        - Si el valor de z es igual a 1:\n",
    "            - Printead el valor de z\n",
    "            - Almancenad el valor en una lista auxiliar\n",
    "            - Sumadle 1 al valor de z\n",
    "    - En caso de que no se cumplan las condiciones anteriores: \n",
    "            - Printead el valor de z\n",
    "            - Sumadle 1 al valor de z"
   ]
  },
  {
   "cell_type": "code",
   "execution_count": null,
   "metadata": {},
   "outputs": [],
   "source": []
  },
  {
   "cell_type": "code",
   "execution_count": null,
   "metadata": {},
   "outputs": [],
   "source": []
  },
  {
   "cell_type": "markdown",
   "metadata": {},
   "source": [
    "7. El objetivo de este ejercicio es añadir elementos a una lista utilizando el bucle while:\n",
    "   \n",
    "Cread una lista vacía\n",
    "\n",
    "Cread una variable cuyo valor sea 0\n",
    "\n",
    "Mientras que la longitud de la lista creada en el primer paso sea menor que 4:\n",
    "\n",
    "Apendead el valor de la variable creada en el paso 2\n",
    "\n",
    "Sumad 1 a la variable creada en el paso 2\n",
    "\n",
    "Por último, printead los valores que hemos añadido en la lista vacía (ya no lo estaría)"
   ]
  },
  {
   "cell_type": "code",
   "execution_count": null,
   "metadata": {},
   "outputs": [],
   "source": []
  },
  {
   "cell_type": "code",
   "execution_count": null,
   "metadata": {},
   "outputs": [],
   "source": []
  },
  {
   "attachments": {},
   "cell_type": "markdown",
   "metadata": {},
   "source": [
    "8. El objetivo de este ejercicio es encontrar la suma de números en una lista usando el bucle while:\n",
    "   \n",
    "    - Cread una variable cuyo valor sea 0, llamadla \"i\"\n",
    "\n",
    "    - Cread una lista que contenga los siguientes números: 23,45,12,10,25\n",
    "\n",
    "    - Cread una variable cuyo valor sea 0, llamadla \"suma\"\n",
    "\n",
    "    - Mientras que el valor de la variable \"i\" sea menor que la longitud de la lista:\n",
    "\n",
    "    - Sumad elemento a elemento los valores de la lista. Es decir, el primero con el segundo; el resultado de la suma anterior más el tercer número, etc\n",
    "\n",
    "    - Sumad 1 a la variable \"i\" por cada iteración por el bucle while\n",
    "\n",
    "El resultado esperado es 115."
   ]
  },
  {
   "cell_type": "code",
   "execution_count": null,
   "metadata": {},
   "outputs": [],
   "source": []
  },
  {
   "cell_type": "markdown",
   "metadata": {},
   "source": [
    "9. Escribid un programa para una empresa que tiene salas de juegos para todas las edades y quiere calcular de forma automática el precio que debe cobrar a sus clientes por entrar. El programa debe preguntar al usuario la edad del cliente y mostrar el precio de la entrada. Si el cliente es menor de 4 años puede entrar gratis, si tiene entre 4 y 18 años debe pagar 5€ y si es mayor de 18 años, 10€."
   ]
  },
  {
   "cell_type": "code",
   "execution_count": null,
   "metadata": {},
   "outputs": [],
   "source": []
  },
  {
   "attachments": {},
   "cell_type": "markdown",
   "metadata": {},
   "source": [
    "10. La pizzería Bella Napoli ofrece pizzas vegetarianas y no vegetarianas a sus clientes. Los ingredientes para cada tipo de pizza aparecen a continuación.\n",
    "    \n",
    "    - Ingredientes vegetarianos: Pimiento y tofu.\n",
    "\n",
    "    - Ingredientes no vegetarianos: Peperoni, Jamón y Salmón.\n",
    "\n",
    "Escribid un programa que pregunte al usuario si quiere una pizza vegetariana o no, y en función de su respuesta le muestre un menú con los ingredientes disponibles para que elija. Solo se puede eligir un ingrediente además de la mozzarella y el tomate que están en todas la pizzas. Al final se debe mostrar por pantalla si la pizza elegida es vegetariana o no y todos los ingredientes que lleva."
   ]
  },
  {
   "cell_type": "code",
   "execution_count": null,
   "metadata": {},
   "outputs": [],
   "source": []
  }
 ],
 "metadata": {
  "kernelspec": {
   "display_name": "Python 3",
   "language": "python",
   "name": "python3"
  },
  "language_info": {
   "codemirror_mode": {
    "name": "ipython",
    "version": 3
   },
   "file_extension": ".py",
   "mimetype": "text/x-python",
   "name": "python",
   "nbconvert_exporter": "python",
   "pygments_lexer": "ipython3",
   "version": "3.6.9"
  },
  "orig_nbformat": 4,
  "vscode": {
   "interpreter": {
    "hash": "31f2aee4e71d21fbe5cf8b01ff0e069b9275f58929596ceb00d14d90e3e16cd6"
   }
  }
 },
 "nbformat": 4,
 "nbformat_minor": 2
}
