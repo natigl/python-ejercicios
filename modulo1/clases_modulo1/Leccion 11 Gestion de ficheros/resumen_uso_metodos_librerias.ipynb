{
 "cells": [
  {
   "cell_type": "code",
   "execution_count": null,
   "metadata": {},
   "outputs": [],
   "source": [
    "# vamos a importar la librería os, ya que a lo largo de la lección usaremos varías funciones de esta librería. \n",
    "import os"
   ]
  },
  {
   "cell_type": "code",
   "execution_count": null,
   "metadata": {},
   "outputs": [],
   "source": [
    "from os import getcwd"
   ]
  },
  {
   "cell_type": "code",
   "execution_count": null,
   "metadata": {},
   "outputs": [],
   "source": [
    "# 📌 fijaos como en estos casos, ya no necesitamos especificar \"os\". Este método nos va a dar información sobre donde estamos trabajando, es como el pwd que usamos en la terminal. \n",
    "getcwd()"
   ]
  },
  {
   "cell_type": "code",
   "execution_count": null,
   "metadata": {},
   "outputs": [],
   "source": [
    "# en el caso de la librería de pandas, usaremos el alias pd CONVENCIONES\n",
    "import pandas as pd\n",
    "\n",
    "# en el caso de la librería de numpy, usaremos el alias np\n",
    "import numpy as np"
   ]
  },
  {
   "cell_type": "code",
   "execution_count": null,
   "metadata": {},
   "outputs": [],
   "source": [
    "#ALMACENANDO LA RUTA EN UNA VARIABLE. \n",
    "# veamos cuál es la ruta de la carpeta donde estamos trabajando, esto es lo mismo que hacer pwd en la terminal\n",
    "# el resultado de esta operación lo vamos a almacenar en una variable a la que llamaremos \"mi_ruta\"\n",
    "\n",
    "mi_ruta = os.getcwd()\n",
    "mi_ruta"
   ]
  },
  {
   "cell_type": "code",
   "execution_count": null,
   "metadata": {},
   "outputs": [],
   "source": [
    "#ls en terminal:\n",
    "print(os.listdir())"
   ]
  },
  {
   "cell_type": "code",
   "execution_count": null,
   "metadata": {},
   "outputs": [],
   "source": [
    "# cambiamos la ruta de trabajo a el escritorio. 📌 Siguiendo esta ruta, os dará error, recordad cambiar esta ruta por la que corresponda con vuestros ordenadores en caso de que queráis seguir la clase con vuestras carpetas\n",
    "os.chdir('/mnt/c/Users/agarc/Desktop')"
   ]
  },
  {
   "cell_type": "code",
   "execution_count": null,
   "metadata": {},
   "outputs": [],
   "source": [
    "# ahora, vamos a chequear cuál es ahora nuestra ruta de trabajo\n",
    "os.getcwd()"
   ]
  },
  {
   "cell_type": "code",
   "execution_count": null,
   "metadata": {},
   "outputs": [],
   "source": [
    "# y que ficheros tenemos ahora en esta carpeta\n",
    "print(os.listdir())"
   ]
  },
  {
   "cell_type": "code",
   "execution_count": null,
   "metadata": {},
   "outputs": [],
   "source": [
    "# creamos la carpeta\n",
    "os.mkdir('Carpeta_os')\n",
    "\n",
    "# listamos los archivos y ficheros que tenemos\n",
    "print(os.listdir())"
   ]
  },
  {
   "cell_type": "code",
   "execution_count": null,
   "metadata": {},
   "outputs": [],
   "source": [
    "# cambiamos el nombre de la carpeta\n",
    "os.rename('Carpeta_os','testtesttest')\n",
    "\n",
    "# chequeamos si se ha cambiado el nombre\n",
    "print(os.listdir())\n"
   ]
  },
  {
   "cell_type": "code",
   "execution_count": null,
   "metadata": {},
   "outputs": [],
   "source": [
    "# eliminamos la carpeta que hemos creado\n",
    "os.rmdir('testtesttest')\n",
    "\n",
    "# chequeamos que ha sido correctamente eliminada\n",
    "print(os.listdir())"
   ]
  },
  {
   "cell_type": "code",
   "execution_count": null,
   "metadata": {},
   "outputs": [],
   "source": [
    "# lo primero que vamos a hacer es cargar la librería, en este caso no lo vamos a cargar todo, solo cargaremos lo que nos interesa\n",
    "\n",
    "from shutil import rmtree"
   ]
  },
  {
   "cell_type": "code",
   "execution_count": null,
   "metadata": {},
   "outputs": [],
   "source": []
  },
  {
   "cell_type": "code",
   "execution_count": null,
   "metadata": {},
   "outputs": [],
   "source": [
    "# Si chequeamos ahora la estructura de carpetas, tendremos \"Carpeta_os\" y dentro una carpeta llamada \"ficheros\". Vamos a proceder a eliminar de forma recursiva todas las carpetas\n",
    "\n",
    "rmtree('Carpeta_os')\n",
    "# printemos ahora las carpetas y archivos que tenemos en nuestro espacio de trabajo, y ya no nos aparecerá la carpeta \"Carpeta_os\"\n",
    "print(os.listdir())"
   ]
  },
  {
   "cell_type": "code",
   "execution_count": null,
   "metadata": {},
   "outputs": [],
   "source": [
    "# primero chequeamos si los ficheros descargados están en la carpeta donde estamos trabajando\n",
    "\n",
    "print(os.listdir())"
   ]
  },
  {
   "cell_type": "code",
   "execution_count": null,
   "metadata": {},
   "outputs": [],
   "source": [
    "# almacenamos en una variable el nombre del archivo de txt que vamos a usar en esta lección\n",
    "nom_archivo = 'ficheros2.txt'\n",
    "nom_archivo"
   ]
  },
  {
   "cell_type": "code",
   "execution_count": null,
   "metadata": {},
   "outputs": [],
   "source": [
    "# almancenamos en una variable la ruta donde esta el archivo\n",
    "ubi_carpeta = os.getcwd()\n",
    "ubi_carpeta"
   ]
  },
  {
   "cell_type": "code",
   "execution_count": null,
   "metadata": {},
   "outputs": [],
   "source": [
    "# establecemos la ruta completa con el nombre del archivo\n",
    "ubi_archivo = ubi_carpeta + '/' + nom_archivo\n",
    "ubi_archivo"
   ]
  },
  {
   "cell_type": "code",
   "execution_count": null,
   "metadata": {},
   "outputs": [],
   "source": [
    "#Otra forma de abrir el fichero \n",
    "# creamos una variable donde tenemos almancenados todos los ficheros y carpetas de nuestra carpeta de trabajo\n",
    "conts = os.listdir()\n",
    "print(conts)"
   ]
  },
  {
   "cell_type": "code",
   "execution_count": null,
   "metadata": {},
   "outputs": [],
   "source": [
    "# establecemos la ruta al fichero usando la variable \"conts\" que creamos anteriormente\n",
    "ubi_archivo = ubi_carpeta + '/' + conts[conts.index('ficheros2.txt')]\n",
    "ubi_archivo"
   ]
  },
  {
   "cell_type": "code",
   "execution_count": null,
   "metadata": {},
   "outputs": [],
   "source": [
    "# abrimos el fichero y lo almacenamos en una variable llamada \"f\". Al abrirlo cargamos sus contenidos y bloqueamos el archivo para que otras aplicaciones no lo puedan usar ni modificar\n",
    "f = open(ubi_archivo)\n",
    "f"
   ]
  },
  {
   "cell_type": "code",
   "execution_count": null,
   "metadata": {},
   "outputs": [],
   "source": [
    "# cerramos el fichero, esto corresponde a cuando cerramos un fichero en nuestro ordenador dándole a la \"x\"\n",
    "f.close()"
   ]
  },
  {
   "cell_type": "code",
   "execution_count": null,
   "metadata": {},
   "outputs": [],
   "source": [
    "# abrimos el archivo\n",
    "f = open(ubi_archivo)\n",
    "\n",
    "# leemos el archivo, para poder ver su contenido\n",
    "f.read()"
   ]
  },
  {
   "cell_type": "code",
   "execution_count": null,
   "metadata": {},
   "outputs": [],
   "source": [
    "# Este método nos permite especificar el número de caracteres que queremos leer, será el número de caracteres que le pasaremos entre paréntesis. Imaginemos que queremos leer solo 10 caracteres\n",
    "f.read(10)"
   ]
  },
  {
   "cell_type": "code",
   "execution_count": null,
   "metadata": {},
   "outputs": [],
   "source": [
    "#Almacenamos el contenido que nos interesa es una variable para asi no tener que mantener el archivo abierto, y lo cerramos \n",
    "f = open(ubi_archivo)\n",
    "principio_archivo = f.read()\n",
    "f.close()"
   ]
  },
  {
   "cell_type": "code",
   "execution_count": null,
   "metadata": {},
   "outputs": [],
   "source": [
    "# esta librería nos va a permitir saber que sistema de encoding estamos usando, pero ojo que a veces puede equivocarse\n",
    "from locale import getpreferredencoding\n",
    "getpreferredencoding()"
   ]
  },
  {
   "cell_type": "code",
   "execution_count": null,
   "metadata": {},
   "outputs": [],
   "source": [
    "# abrimos el archivo\n",
    "f = open(ubi_archivo, encoding=\"utf-8\")\n",
    "\n",
    "# almacenamos en una variable su contenido\n",
    "principio_archivo = f.read()\n",
    "\n",
    "# cerramos el archivo\n",
    "principio_archivo"
   ]
  },
  {
   "cell_type": "code",
   "execution_count": null,
   "metadata": {},
   "outputs": [],
   "source": [
    "# leer en binary, sin encoding #\n",
    "################################\n",
    "# abrimos el archivo\n",
    "f = open(ubi_archivo, mode = \"rb\")\n",
    "\n",
    "# almacenamos en una variable su contenido\n",
    "principio_archivo = f.read()\n",
    "\n",
    "# cerramos el archivo\n",
    "print(principio_archivo)\n",
    "\n",
    "# cerramos el archivo\n",
    "f.close()"
   ]
  },
  {
   "cell_type": "code",
   "execution_count": null,
   "metadata": {},
   "outputs": [],
   "source": [
    "# leer en texto, sinónimo de 'r' ya que la 't' significa usar el encoding de tu sistema operativo #\n",
    "#########################################################################################################\n",
    "\n",
    "\n",
    "# abrimos el archivo\n",
    "f = open(ubi_archivo, mode = \"rt\")\n",
    "\n",
    "# almacenamos en una variable su contenido\n",
    "principio_archivo = f.read()\n",
    "\n",
    "# cerramos el archivo\n",
    "print(principio_archivo)\n",
    "\n",
    "# cerramos el archivo\n",
    "f.close()"
   ]
  },
  {
   "cell_type": "code",
   "execution_count": null,
   "metadata": {},
   "outputs": [],
   "source": [
    "# abrimos el archivo\n",
    "f = open(ubi_archivo)\n",
    "\n",
    "# usamos el método readline para leer las líneas del fichero, lo almacenamos en una variable para poder seguir trabajando con ello más adelante\n",
    "linea_archivo = f.readline()\n",
    "\n",
    "# cerramos el fichero\n",
    "f.close()"
   ]
  },
  {
   "cell_type": "code",
   "execution_count": null,
   "metadata": {},
   "outputs": [],
   "source": [
    "# veamos que contiene la variable \"linea_archivo\". Si nos fijamos, por defecto, nos devuelve la primera línea\n",
    "linea_archivo"
   ]
  },
  {
   "cell_type": "code",
   "execution_count": null,
   "metadata": {},
   "outputs": [],
   "source": [
    "# abrimos el archivo\n",
    "f = open(ubi_archivo)\n",
    "\n",
    "# leemos la primera línea\n",
    "print(f.readline())\n",
    "\n",
    "# leemos la segunda línea\n",
    "print(f.readline())\n",
    "\n",
    "# cerramos el erchivo\n",
    "f.close()"
   ]
  },
  {
   "cell_type": "code",
   "execution_count": null,
   "metadata": {},
   "outputs": [],
   "source": [
    "# abrimos el archivo\n",
    "f = open(ubi_archivo, encoding=\"utf-8\")\n",
    "\n",
    "# leemos todas las líneas del fichero y lo almacenamos en una variable\n",
    "lineas_archivo = f.readlines()\n",
    "\n",
    "# cerramos el fichero\n",
    "f.close()"
   ]
  },
  {
   "cell_type": "code",
   "execution_count": null,
   "metadata": {},
   "outputs": [],
   "source": [
    "# accedemos al primer elemento\n",
    "lineas_archivo[0]"
   ]
  },
  {
   "cell_type": "code",
   "execution_count": null,
   "metadata": {},
   "outputs": [],
   "source": [
    "# accedemos al segundo elemento\n",
    "lineas_archivo[1]"
   ]
  },
  {
   "cell_type": "code",
   "execution_count": null,
   "metadata": {},
   "outputs": [],
   "source": [
    "# abrimos el fichero y le ponemos el nombre de \"f\"\n",
    "with open(ubi_archivo) as f:\n",
    "    # le decimos que nos lea la primera línea y almacenamos los resultados en una variable llamada \"linea_archivo\"\n",
    "    linea_archivo = f.readline()\n",
    "\n",
    "# printeamos la variable\n",
    "print(linea_archivo)"
   ]
  },
  {
   "cell_type": "markdown",
   "metadata": {},
   "source": [
    "CREAR Y ESCRIBIR EN ARCHIVOS DE TEXTO"
   ]
  },
  {
   "cell_type": "code",
   "execution_count": null,
   "metadata": {},
   "outputs": [],
   "source": [
    "# lo primero que tenemos que hacer es asegurarnos de que el fichero está en nuestra carpeta de trabajo. En nuestro casi si que lo está, por lo tanto no tendremos que hacer nada\n",
    "print(os.listdir())"
   ]
  },
  {
   "cell_type": "code",
   "execution_count": null,
   "metadata": {},
   "outputs": [],
   "source": [
    "# ahora vamos a abrir el archivo con el modo de escritura (w)\n",
    "with open('ficheros2.txt') as f:\n",
    "\n",
    "    # y vamos a ver su contenido, lo cual no nos devuelve nada ya que el fichero esta vacío\n",
    "    print(f.read())"
   ]
  },
  {
   "cell_type": "code",
   "execution_count": null,
   "metadata": {},
   "outputs": [],
   "source": [
    "# ahora vamos a abrir el archivo con el modo de escritura (w)\n",
    "with open('ficheros2.txt','w') as f:\n",
    "\n",
    "    # usaremos el método .write para escribir contenido en nuestro archivo, donde se escribirá el contenido que nosotras especifiquemos entre paréntesis. \n",
    "    f.write('Primer texto de un archivo nuevo.')\n",
    "    f.close()"
   ]
  },
  {
   "cell_type": "code",
   "execution_count": null,
   "metadata": {},
   "outputs": [],
   "source": [
    "# leamos ahora el fichero para ver que hay en el archivo. En este caso usaremos el modo \"r\" porque solo nos interesa leerlo. \n",
    "with open('ficheros2.txt','r') as f:\n",
    "    print(f.read())\n",
    "    f.close()"
   ]
  },
  {
   "cell_type": "code",
   "execution_count": null,
   "metadata": {},
   "outputs": [],
   "source": [
    "# añadimos nuevo contenido a nuestro fichero\n",
    "with open('ficheros2.txt','a') as f:\n",
    "    f.write('\\n Tercer texto del archivo nuevo.')"
   ]
  },
  {
   "cell_type": "code",
   "execution_count": null,
   "metadata": {},
   "outputs": [],
   "source": [
    "# lo leemos ahora para ver que ha pasado\n",
    "with open('ficheros2.txt', \"r\") as f:\n",
    "    print(f.read())"
   ]
  },
  {
   "cell_type": "code",
   "execution_count": null,
   "metadata": {},
   "outputs": [],
   "source": [
    "# primero definimos una lista con el contenido que queremos añadir\n",
    "\n",
    "nuevo_contenido = [\"Cuarto texto de nuestro archivo\", \" Quinto texto de nuestro archivo\"]"
   ]
  },
  {
   "cell_type": "code",
   "execution_count": null,
   "metadata": {},
   "outputs": [],
   "source": [
    "# queremos añadir las líenas que hemos especificado en la lista anterior, por lo tanto lo haremos en modo \"a\"\n",
    "with open('ficheros2.txt','a') as f:\n",
    "    f.writelines(nuevo_contenido)"
   ]
  },
  {
   "cell_type": "code",
   "execution_count": null,
   "metadata": {},
   "outputs": [],
   "source": [
    "# veamos ahora que contenido tiene ahora nuestro fichero\n",
    "with open('ficheros2.txt') as f:\n",
    "    print(f.read())"
   ]
  },
  {
   "cell_type": "code",
   "execution_count": null,
   "metadata": {},
   "outputs": [],
   "source": [
    "# volvemos a crear un fichero que se llama  ficheros3\n",
    "with open('ficheros3.txt','x') as f:\n",
    "    f.write(\"Buenos dias\")\n",
    "    f.close()"
   ]
  },
  {
   "cell_type": "code",
   "execution_count": null,
   "metadata": {},
   "outputs": [],
   "source": []
  },
  {
   "cell_type": "markdown",
   "metadata": {},
   "source": [
    "TRABAJAR XML DESDE PYTHON"
   ]
  },
  {
   "cell_type": "code",
   "execution_count": null,
   "metadata": {},
   "outputs": [],
   "source": [
    "# lo primero que hacemos es importar la librería que necesitamos para trabajar con archivos\n",
    "import xml.etree.ElementTree as ET"
   ]
  },
  {
   "cell_type": "code",
   "execution_count": null,
   "metadata": {},
   "outputs": [],
   "source": [
    "# abrimos el fichero\n",
    "tree = ET.parse('contacto.xml')"
   ]
  },
  {
   "cell_type": "code",
   "execution_count": null,
   "metadata": {},
   "outputs": [],
   "source": [
    "#sacamos el elemento que lo envuelve todo\n",
    "root = tree.getroot()"
   ]
  },
  {
   "cell_type": "code",
   "execution_count": null,
   "metadata": {},
   "outputs": [],
   "source": [
    "# printemos cuál es la raiz, el padre de nuestr archivo xml\n",
    "print(root.tag)"
   ]
  },
  {
   "cell_type": "code",
   "execution_count": null,
   "metadata": {},
   "outputs": [],
   "source": [
    "# sacamos los atributos de nuestro fichero\n",
    "print(root.attrib)"
   ]
  },
  {
   "cell_type": "code",
   "execution_count": null,
   "metadata": {},
   "outputs": [],
   "source": [
    "for child in root:\n",
    "    print(f\"{child.tag}: Es un hijo de nuestra raiz 'contact-info'\" )\n",
    "    for subchild in child:\n",
    "        print(f\"{subchild.tag}: Es un nieto de nuestra raiz 'contact-info'\" )"
   ]
  },
  {
   "cell_type": "code",
   "execution_count": null,
   "metadata": {},
   "outputs": [],
   "source": [
    "#Extraemos la primera ocasion en que el tag de un elemento coincida con el string que le damos \n",
    "print(root.find('contact').find('type').text)"
   ]
  },
  {
   "cell_type": "code",
   "execution_count": null,
   "metadata": {},
   "outputs": [],
   "source": [
    "# veamos como podemos acceder a los hijos de profile. Para eso deberemos seguir iterando: \n",
    "\n",
    "# emepzamos interando por todo el archivo\n",
    "for child in root:\n",
    "\n",
    "    # ahora solo nos interesa saber cuales son los \"nietos\" y \"bisnietos\" del atributo \"socialmedia\", por lo que establecemos la condición\n",
    "    if child.tag == \"socialmedia\":\n",
    "\n",
    "        # iteramos por lo \"nietos\"\n",
    "        for subchild in child:\n",
    "\n",
    "            # iteramos por los \"bisnietos\"\n",
    "            for subsubchild in subchild: \n",
    "\n",
    "                # y printemos sus nombres para saber como se llaman y poder acceder a ellos\n",
    "                print(subsubchild.tag)"
   ]
  },
  {
   "cell_type": "code",
   "execution_count": null,
   "metadata": {},
   "outputs": [],
   "source": [
    "# veamos el contenido del \"bisnieto\" name\n",
    "print(root.find('socialmedia').find('profile').find(\"name\").text)"
   ]
  },
  {
   "cell_type": "code",
   "execution_count": null,
   "metadata": {},
   "outputs": [],
   "source": [
    "# veamos el contenido del \"bisnieto\" url\n",
    "print(root.find('socialmedia').find('profile').find(\"url\").text)"
   ]
  },
  {
   "cell_type": "code",
   "execution_count": null,
   "metadata": {},
   "outputs": [],
   "source": [
    "#Sacar lista de todos los tags que coincidan con el string que le pasamos findall()\n",
    "# iteramos por el hijo \"contact\" y accedemos a todos\n",
    "for contact in root.findall('contact'):\n",
    "    # dentro de este sacamos su contenido\n",
    "    print(contact.find('type').text)"
   ]
  },
  {
   "cell_type": "code",
   "execution_count": null,
   "metadata": {},
   "outputs": [],
   "source": [
    "# como lo haríamos para el otro elemento que teníamos\n",
    "for subelement in root.find(campo2).findall('profile'):\n",
    "    print(subelement.find('name').text)"
   ]
  },
  {
   "cell_type": "code",
   "execution_count": null,
   "metadata": {},
   "outputs": [],
   "source": []
  }
 ],
 "metadata": {
  "kernelspec": {
   "display_name": "Python 3.6.9 64-bit",
   "language": "python",
   "name": "python3"
  },
  "language_info": {
   "name": "python",
   "version": "3.6.9"
  },
  "orig_nbformat": 4,
  "vscode": {
   "interpreter": {
    "hash": "31f2aee4e71d21fbe5cf8b01ff0e069b9275f58929596ceb00d14d90e3e16cd6"
   }
  }
 },
 "nbformat": 4,
 "nbformat_minor": 2
}
