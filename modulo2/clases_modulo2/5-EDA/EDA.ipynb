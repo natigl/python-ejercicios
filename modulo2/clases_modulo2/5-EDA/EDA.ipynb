{
 "cells": [
  {
   "cell_type": "markdown",
   "id": "dca15ccd",
   "metadata": {},
   "source": [
    "# EDA I"
   ]
  },
  {
   "cell_type": "markdown",
   "id": "60738109",
   "metadata": {
    "toc": true
   },
   "source": [
    "<h1>Table of Contents<span class=\"tocSkip\"></span></h1>\n",
    "<div class=\"toc\"><ul class=\"toc-item\"><li><span><a href=\"#¿Qué-es-el-EDA?\" data-toc-modified-id=\"¿Qué-es-el-EDA?-1\"><span class=\"toc-item-num\">1&nbsp;&nbsp;</span>¿Qué es el EDA?</a></span></li><li><span><a href=\"#¿Cómo-realizar-un-análisis-exploratorio-de-datos?\" data-toc-modified-id=\"¿Cómo-realizar-un-análisis-exploratorio-de-datos?-2\"><span class=\"toc-item-num\">2&nbsp;&nbsp;</span>¿Cómo realizar un análisis exploratorio de datos?</a></span></li><li><span><a href=\"#Entender-las-variables\" data-toc-modified-id=\"Entender-las-variables-3\"><span class=\"toc-item-num\">3&nbsp;&nbsp;</span>Entender las variables</a></span><ul class=\"toc-item\"><li><span><a href=\"#¿Qué-información-tenemos?\" data-toc-modified-id=\"¿Qué-información-tenemos?-3.1\"><span class=\"toc-item-num\">3.1&nbsp;&nbsp;</span>¿Qué información tenemos?</a></span></li><li><span><a href=\"#¿Tenemos-nulos?\" data-toc-modified-id=\"¿Tenemos-nulos?-3.2\"><span class=\"toc-item-num\">3.2&nbsp;&nbsp;</span>¿Tenemos nulos?</a></span></li><li><span><a href=\"#Valores-únicos-y-Frecuencia\" data-toc-modified-id=\"Valores-únicos-y-Frecuencia-3.3\"><span class=\"toc-item-num\">3.3&nbsp;&nbsp;</span>Valores únicos y frecuencia</a></span></li></ul></li></ul></div>"
   ]
  },
  {
   "cell_type": "markdown",
   "id": "6cc21bdd",
   "metadata": {},
   "source": [
    "## ¿Qué es el EDA? "
   ]
  },
  {
   "cell_type": "markdown",
   "id": "5309bc7b",
   "metadata": {},
   "source": [
    "Imaginemos que estamos con un grupo de amigos y nos dicen de ir a comer a un restaurante del que han oído hablar. Sin embargo, no te dicen nada más, no nos dicen qué tipo de comida sirven, cómo es el restaurante, el precio medio de la comida etc. En esta situación nos podemos ver algo desconcertadas con un montón de preguntas a las que queremos dar una respuesta para tomar una decisión.\n",
    "\n",
    "En esta situación, la primera pregunta que nos haríamos es: ¿qué tipo de comida sirven? o incluso ver algunas opiniones previas de otros clientes. Es decir, haremos un trabajo de investigación para saber si nos interesa ir o no a ese restaurante. Esto no es más que lo que hacen los análistas de datos, solo que nosotras lo llamaremos **Análisis Exploratorio de Datos** o **EDA**. \n",
    "\n",
    "> El Análisis Exploratorio de Datos se refiere al proceso de realizar una serie de investigaciones inciales sobre los datos que tenemos para poder descubrir patrones, detectar anomalías, probar hipótesis y comprobar suposiciones con la ayuda de estadísticas y representaciones gráficas. \n",
    "\n",
    "Y es que es **ESENCIAL ENTENDER LOS DATOS** y tratar de **OBTENER el mayor número de CONOCIMIENTOS** a partir de ellos. \n",
    "\n",
    "Sin embargo, es importante tener en cuenta que el análisis exploratorio de datos no es un conjunto de técnicas, pasos o reglas. **El análisis exploratorio es una \"filosofía\" sobre como se deben analizar los datos** dependiendo en gran parte de las preguntas que queramos responder. "
   ]
  },
  {
   "cell_type": "markdown",
   "id": "7fdbf9b4",
   "metadata": {},
   "source": [
    "## ¿Cómo realizar un análisis exploratorio de datos?"
   ]
  },
  {
   "cell_type": "markdown",
   "id": "5d27082b",
   "metadata": {},
   "source": [
    "Como hemos dicho, el EDA no tiene una receta universal que podamos seguir paso a paso. Entonces nos puede surgir la siguiente pregunta:\n",
    "\n",
    "> **¿Cómo realizar un análisis exploratorio de datos?**\n",
    ">\n",
    ">En realidad, esta es una de las preguntas que todo el mundo desea conocer. \n",
    "\n",
    "La respuesta es que depende del conjunto de datos con el que se trabaje. No hay un método o unos métodos comunes para llevar a cabo EDA. \n",
    "\n",
    "En las próximas clases vamos a tratar de entender algunos métodos comunes y las parcelas que se utilizan en el proceso de EDA. Estas \"parcelas\" podrían ser: \n",
    "\n",
    "- **Entender las variables**: en esta parte entenderemos qué variables tenemos, qué tipos de datos, si tenemos valores nulos o duplicados, qué valores únicos tenemos en nuestro *dataset*, etc.\n",
    "\n",
    "- **Limpiar el *dataset***: una vez identificados todos los valores únicos, los duplicados y/o nulos procederemos a dejar nuestro *dataset* lo más limpio posible, es decir, quitar duplicados, nulos, columnas irrelevantes etc. \n",
    "\n",
    "- **Analizar las relaciones entre las variables**: nos permitirá encontrar patrones, relaciones o anomalías en nuestros datos que nos ayudarán a sacar conclusiones. \n",
    "\n",
    "Cada uno de estos grupos los iremos viendo a lo largo de las sesiones. Hoy empezaremos por la parte de entender las variables."
   ]
  },
  {
   "cell_type": "markdown",
   "id": "1fcda8e3",
   "metadata": {},
   "source": [
    "Antes de empezar importemos las librerías que necesitaremos y el *dataset* con el que trabajaremos a lo largo de esta lección. "
   ]
  },
  {
   "cell_type": "code",
   "execution_count": 1,
   "id": "645786b2",
   "metadata": {},
   "outputs": [],
   "source": [
    "import pandas as pd"
   ]
  },
  {
   "cell_type": "code",
   "execution_count": 5,
   "id": "0083121c",
   "metadata": {},
   "outputs": [],
   "source": [
    "df = pd.read_csv(\"datos/students.csv\")"
   ]
  },
  {
   "cell_type": "markdown",
   "id": "7c1a3ec9",
   "metadata": {},
   "source": [
    "## Entender las variables"
   ]
  },
  {
   "cell_type": "markdown",
   "id": "b6fe5c59",
   "metadata": {},
   "source": [
    "### ¿Qué información tenemos? \n",
    "\n",
    "Métodos como:\n",
    "\n",
    "- `.head()`\n",
    "- `.tail()`\n",
    "- `.describe()`\n",
    "- `.info()`\n",
    "- `.dtypes`\n",
    "\n",
    "nos permitirán hacer una primera exploración de nuestro *dataset*. "
   ]
  },
  {
   "cell_type": "markdown",
   "id": "849ebb1c",
   "metadata": {},
   "source": [
    "Como siempre lo primero que haremos será ver como es nuestro *dataset*. Para eso, recordamos podemos usar el método `.head()` que nos mostrará las primeras filas o el `.tail()` que nos mostrará las últimas filas. "
   ]
  },
  {
   "cell_type": "code",
   "execution_count": 7,
   "id": "b818a6fc",
   "metadata": {},
   "outputs": [
    {
     "data": {
      "text/html": [
       "<div>\n",
       "<style scoped>\n",
       "    .dataframe tbody tr th:only-of-type {\n",
       "        vertical-align: middle;\n",
       "    }\n",
       "\n",
       "    .dataframe tbody tr th {\n",
       "        vertical-align: top;\n",
       "    }\n",
       "\n",
       "    .dataframe thead th {\n",
       "        text-align: right;\n",
       "    }\n",
       "</style>\n",
       "<table border=\"1\" class=\"dataframe\">\n",
       "  <thead>\n",
       "    <tr style=\"text-align: right;\">\n",
       "      <th></th>\n",
       "      <th>gender</th>\n",
       "      <th>race/ethnicity</th>\n",
       "      <th>parental level of education</th>\n",
       "      <th>lunch</th>\n",
       "      <th>test preparation course</th>\n",
       "      <th>math score</th>\n",
       "      <th>reading score</th>\n",
       "      <th>writing score</th>\n",
       "    </tr>\n",
       "  </thead>\n",
       "  <tbody>\n",
       "    <tr>\n",
       "      <th>0</th>\n",
       "      <td>female</td>\n",
       "      <td>group B</td>\n",
       "      <td>bachelor's degree</td>\n",
       "      <td>standard</td>\n",
       "      <td>none</td>\n",
       "      <td>72</td>\n",
       "      <td>72</td>\n",
       "      <td>74</td>\n",
       "    </tr>\n",
       "    <tr>\n",
       "      <th>1</th>\n",
       "      <td>female</td>\n",
       "      <td>group C</td>\n",
       "      <td>some college</td>\n",
       "      <td>standard</td>\n",
       "      <td>completed</td>\n",
       "      <td>69</td>\n",
       "      <td>90</td>\n",
       "      <td>88</td>\n",
       "    </tr>\n",
       "  </tbody>\n",
       "</table>\n",
       "</div>"
      ],
      "text/plain": [
       "   gender race/ethnicity parental level of education     lunch  \\\n",
       "0  female        group B           bachelor's degree  standard   \n",
       "1  female        group C                some college  standard   \n",
       "\n",
       "  test preparation course  math score  reading score  writing score  \n",
       "0                    none          72             72             74  \n",
       "1               completed          69             90             88  "
      ]
     },
     "execution_count": 7,
     "metadata": {},
     "output_type": "execute_result"
    }
   ],
   "source": [
    "df.head(2)"
   ]
  },
  {
   "cell_type": "code",
   "execution_count": 8,
   "id": "010e982d",
   "metadata": {},
   "outputs": [
    {
     "data": {
      "text/html": [
       "<div>\n",
       "<style scoped>\n",
       "    .dataframe tbody tr th:only-of-type {\n",
       "        vertical-align: middle;\n",
       "    }\n",
       "\n",
       "    .dataframe tbody tr th {\n",
       "        vertical-align: top;\n",
       "    }\n",
       "\n",
       "    .dataframe thead th {\n",
       "        text-align: right;\n",
       "    }\n",
       "</style>\n",
       "<table border=\"1\" class=\"dataframe\">\n",
       "  <thead>\n",
       "    <tr style=\"text-align: right;\">\n",
       "      <th></th>\n",
       "      <th>gender</th>\n",
       "      <th>race/ethnicity</th>\n",
       "      <th>parental level of education</th>\n",
       "      <th>lunch</th>\n",
       "      <th>test preparation course</th>\n",
       "      <th>math score</th>\n",
       "      <th>reading score</th>\n",
       "      <th>writing score</th>\n",
       "    </tr>\n",
       "  </thead>\n",
       "  <tbody>\n",
       "    <tr>\n",
       "      <th>998</th>\n",
       "      <td>female</td>\n",
       "      <td>group D</td>\n",
       "      <td>some college</td>\n",
       "      <td>standard</td>\n",
       "      <td>completed</td>\n",
       "      <td>68</td>\n",
       "      <td>78</td>\n",
       "      <td>77</td>\n",
       "    </tr>\n",
       "    <tr>\n",
       "      <th>999</th>\n",
       "      <td>female</td>\n",
       "      <td>group D</td>\n",
       "      <td>some college</td>\n",
       "      <td>free/reduced</td>\n",
       "      <td>none</td>\n",
       "      <td>77</td>\n",
       "      <td>86</td>\n",
       "      <td>86</td>\n",
       "    </tr>\n",
       "  </tbody>\n",
       "</table>\n",
       "</div>"
      ],
      "text/plain": [
       "     gender race/ethnicity parental level of education         lunch  \\\n",
       "998  female        group D                some college      standard   \n",
       "999  female        group D                some college  free/reduced   \n",
       "\n",
       "    test preparation course  math score  reading score  writing score  \n",
       "998               completed          68             78             77  \n",
       "999                    none          77             86             86  "
      ]
     },
     "execution_count": 8,
     "metadata": {},
     "output_type": "execute_result"
    }
   ],
   "source": [
    "df.tail(2)"
   ]
  },
  {
   "cell_type": "markdown",
   "id": "b29f3c47",
   "metadata": {},
   "source": [
    "También podemos ver las dimensiones de nuestro set de datos, usando el método `.shape`:"
   ]
  },
  {
   "cell_type": "code",
   "execution_count": 9,
   "id": "77550993",
   "metadata": {},
   "outputs": [
    {
     "data": {
      "text/plain": [
       "(1000, 8)"
      ]
     },
     "execution_count": 9,
     "metadata": {},
     "output_type": "execute_result"
    }
   ],
   "source": [
    "df.shape"
   ]
  },
  {
   "cell_type": "markdown",
   "id": "7847316a",
   "metadata": {},
   "source": [
    "Como vemos, nuestros datos están conformados por 1000 filas y 8 columnas con información sobre distintos alumnos relacionada con su sexo, raza, información general sobre la educación de sus padres, comida o si hizo el test de preparación, además de una serie de calificaciones. "
   ]
  },
  {
   "cell_type": "markdown",
   "id": "d7f96488",
   "metadata": {},
   "source": [
    "Si hacemos algo de memoria, recordamos que en Pandas tenemos el método `.describe()` el cual nos devolvía los parámetros estadísticos desciptivos para las variables numéricas de nuestro *DataFrame*: "
   ]
  },
  {
   "cell_type": "code",
   "execution_count": 11,
   "id": "f53c483d",
   "metadata": {},
   "outputs": [
    {
     "data": {
      "text/html": [
       "<div>\n",
       "<style scoped>\n",
       "    .dataframe tbody tr th:only-of-type {\n",
       "        vertical-align: middle;\n",
       "    }\n",
       "\n",
       "    .dataframe tbody tr th {\n",
       "        vertical-align: top;\n",
       "    }\n",
       "\n",
       "    .dataframe thead th {\n",
       "        text-align: right;\n",
       "    }\n",
       "</style>\n",
       "<table border=\"1\" class=\"dataframe\">\n",
       "  <thead>\n",
       "    <tr style=\"text-align: right;\">\n",
       "      <th></th>\n",
       "      <th>count</th>\n",
       "      <th>mean</th>\n",
       "      <th>std</th>\n",
       "      <th>min</th>\n",
       "      <th>25%</th>\n",
       "      <th>50%</th>\n",
       "      <th>75%</th>\n",
       "      <th>max</th>\n",
       "    </tr>\n",
       "  </thead>\n",
       "  <tbody>\n",
       "    <tr>\n",
       "      <th>math score</th>\n",
       "      <td>1000.0</td>\n",
       "      <td>66.089</td>\n",
       "      <td>15.163080</td>\n",
       "      <td>0.0</td>\n",
       "      <td>57.00</td>\n",
       "      <td>66.0</td>\n",
       "      <td>77.0</td>\n",
       "      <td>100.0</td>\n",
       "    </tr>\n",
       "    <tr>\n",
       "      <th>reading score</th>\n",
       "      <td>1000.0</td>\n",
       "      <td>69.169</td>\n",
       "      <td>14.600192</td>\n",
       "      <td>17.0</td>\n",
       "      <td>59.00</td>\n",
       "      <td>70.0</td>\n",
       "      <td>79.0</td>\n",
       "      <td>100.0</td>\n",
       "    </tr>\n",
       "    <tr>\n",
       "      <th>writing score</th>\n",
       "      <td>1000.0</td>\n",
       "      <td>68.054</td>\n",
       "      <td>15.195657</td>\n",
       "      <td>10.0</td>\n",
       "      <td>57.75</td>\n",
       "      <td>69.0</td>\n",
       "      <td>79.0</td>\n",
       "      <td>100.0</td>\n",
       "    </tr>\n",
       "  </tbody>\n",
       "</table>\n",
       "</div>"
      ],
      "text/plain": [
       "                count    mean        std   min    25%   50%   75%    max\n",
       "math score     1000.0  66.089  15.163080   0.0  57.00  66.0  77.0  100.0\n",
       "reading score  1000.0  69.169  14.600192  17.0  59.00  70.0  79.0  100.0\n",
       "writing score  1000.0  68.054  15.195657  10.0  57.75  69.0  79.0  100.0"
      ]
     },
     "execution_count": 11,
     "metadata": {},
     "output_type": "execute_result"
    }
   ],
   "source": [
    "df.describe().T"
   ]
  },
  {
   "cell_type": "code",
   "execution_count": 15,
   "id": "05658f31",
   "metadata": {},
   "outputs": [
    {
     "data": {
      "text/html": [
       "<div>\n",
       "<style scoped>\n",
       "    .dataframe tbody tr th:only-of-type {\n",
       "        vertical-align: middle;\n",
       "    }\n",
       "\n",
       "    .dataframe tbody tr th {\n",
       "        vertical-align: top;\n",
       "    }\n",
       "\n",
       "    .dataframe thead th {\n",
       "        text-align: right;\n",
       "    }\n",
       "</style>\n",
       "<table border=\"1\" class=\"dataframe\">\n",
       "  <thead>\n",
       "    <tr style=\"text-align: right;\">\n",
       "      <th></th>\n",
       "      <th>count</th>\n",
       "      <th>unique</th>\n",
       "      <th>top</th>\n",
       "      <th>freq</th>\n",
       "    </tr>\n",
       "  </thead>\n",
       "  <tbody>\n",
       "    <tr>\n",
       "      <th>gender</th>\n",
       "      <td>1000</td>\n",
       "      <td>2</td>\n",
       "      <td>female</td>\n",
       "      <td>518</td>\n",
       "    </tr>\n",
       "    <tr>\n",
       "      <th>race/ethnicity</th>\n",
       "      <td>1000</td>\n",
       "      <td>5</td>\n",
       "      <td>group C</td>\n",
       "      <td>319</td>\n",
       "    </tr>\n",
       "    <tr>\n",
       "      <th>parental level of education</th>\n",
       "      <td>1000</td>\n",
       "      <td>6</td>\n",
       "      <td>some college</td>\n",
       "      <td>226</td>\n",
       "    </tr>\n",
       "    <tr>\n",
       "      <th>lunch</th>\n",
       "      <td>1000</td>\n",
       "      <td>2</td>\n",
       "      <td>standard</td>\n",
       "      <td>645</td>\n",
       "    </tr>\n",
       "    <tr>\n",
       "      <th>test preparation course</th>\n",
       "      <td>1000</td>\n",
       "      <td>2</td>\n",
       "      <td>none</td>\n",
       "      <td>642</td>\n",
       "    </tr>\n",
       "  </tbody>\n",
       "</table>\n",
       "</div>"
      ],
      "text/plain": [
       "                            count unique           top freq\n",
       "gender                       1000      2        female  518\n",
       "race/ethnicity               1000      5       group C  319\n",
       "parental level of education  1000      6  some college  226\n",
       "lunch                        1000      2      standard  645\n",
       "test preparation course      1000      2          none  642"
      ]
     },
     "execution_count": 15,
     "metadata": {},
     "output_type": "execute_result"
    }
   ],
   "source": [
    "# también podemos sacar las de las variables categóricas\n",
    "\n",
    "df.describe(include = ['O']).T"
   ]
  },
  {
   "cell_type": "code",
   "execution_count": 12,
   "id": "cbf79989",
   "metadata": {},
   "outputs": [
    {
     "data": {
      "text/html": [
       "<div>\n",
       "<style scoped>\n",
       "    .dataframe tbody tr th:only-of-type {\n",
       "        vertical-align: middle;\n",
       "    }\n",
       "\n",
       "    .dataframe tbody tr th {\n",
       "        vertical-align: top;\n",
       "    }\n",
       "\n",
       "    .dataframe thead th {\n",
       "        text-align: right;\n",
       "    }\n",
       "</style>\n",
       "<table border=\"1\" class=\"dataframe\">\n",
       "  <thead>\n",
       "    <tr style=\"text-align: right;\">\n",
       "      <th></th>\n",
       "      <th>count</th>\n",
       "      <th>unique</th>\n",
       "      <th>top</th>\n",
       "      <th>freq</th>\n",
       "      <th>mean</th>\n",
       "      <th>std</th>\n",
       "      <th>min</th>\n",
       "      <th>25%</th>\n",
       "      <th>50%</th>\n",
       "      <th>75%</th>\n",
       "      <th>max</th>\n",
       "    </tr>\n",
       "  </thead>\n",
       "  <tbody>\n",
       "    <tr>\n",
       "      <th>gender</th>\n",
       "      <td>1000</td>\n",
       "      <td>2</td>\n",
       "      <td>female</td>\n",
       "      <td>518</td>\n",
       "      <td>NaN</td>\n",
       "      <td>NaN</td>\n",
       "      <td>NaN</td>\n",
       "      <td>NaN</td>\n",
       "      <td>NaN</td>\n",
       "      <td>NaN</td>\n",
       "      <td>NaN</td>\n",
       "    </tr>\n",
       "    <tr>\n",
       "      <th>race/ethnicity</th>\n",
       "      <td>1000</td>\n",
       "      <td>5</td>\n",
       "      <td>group C</td>\n",
       "      <td>319</td>\n",
       "      <td>NaN</td>\n",
       "      <td>NaN</td>\n",
       "      <td>NaN</td>\n",
       "      <td>NaN</td>\n",
       "      <td>NaN</td>\n",
       "      <td>NaN</td>\n",
       "      <td>NaN</td>\n",
       "    </tr>\n",
       "    <tr>\n",
       "      <th>parental level of education</th>\n",
       "      <td>1000</td>\n",
       "      <td>6</td>\n",
       "      <td>some college</td>\n",
       "      <td>226</td>\n",
       "      <td>NaN</td>\n",
       "      <td>NaN</td>\n",
       "      <td>NaN</td>\n",
       "      <td>NaN</td>\n",
       "      <td>NaN</td>\n",
       "      <td>NaN</td>\n",
       "      <td>NaN</td>\n",
       "    </tr>\n",
       "    <tr>\n",
       "      <th>lunch</th>\n",
       "      <td>1000</td>\n",
       "      <td>2</td>\n",
       "      <td>standard</td>\n",
       "      <td>645</td>\n",
       "      <td>NaN</td>\n",
       "      <td>NaN</td>\n",
       "      <td>NaN</td>\n",
       "      <td>NaN</td>\n",
       "      <td>NaN</td>\n",
       "      <td>NaN</td>\n",
       "      <td>NaN</td>\n",
       "    </tr>\n",
       "    <tr>\n",
       "      <th>test preparation course</th>\n",
       "      <td>1000</td>\n",
       "      <td>2</td>\n",
       "      <td>none</td>\n",
       "      <td>642</td>\n",
       "      <td>NaN</td>\n",
       "      <td>NaN</td>\n",
       "      <td>NaN</td>\n",
       "      <td>NaN</td>\n",
       "      <td>NaN</td>\n",
       "      <td>NaN</td>\n",
       "      <td>NaN</td>\n",
       "    </tr>\n",
       "    <tr>\n",
       "      <th>math score</th>\n",
       "      <td>1000.0</td>\n",
       "      <td>NaN</td>\n",
       "      <td>NaN</td>\n",
       "      <td>NaN</td>\n",
       "      <td>66.089</td>\n",
       "      <td>15.16308</td>\n",
       "      <td>0.0</td>\n",
       "      <td>57.0</td>\n",
       "      <td>66.0</td>\n",
       "      <td>77.0</td>\n",
       "      <td>100.0</td>\n",
       "    </tr>\n",
       "    <tr>\n",
       "      <th>reading score</th>\n",
       "      <td>1000.0</td>\n",
       "      <td>NaN</td>\n",
       "      <td>NaN</td>\n",
       "      <td>NaN</td>\n",
       "      <td>69.169</td>\n",
       "      <td>14.600192</td>\n",
       "      <td>17.0</td>\n",
       "      <td>59.0</td>\n",
       "      <td>70.0</td>\n",
       "      <td>79.0</td>\n",
       "      <td>100.0</td>\n",
       "    </tr>\n",
       "    <tr>\n",
       "      <th>writing score</th>\n",
       "      <td>1000.0</td>\n",
       "      <td>NaN</td>\n",
       "      <td>NaN</td>\n",
       "      <td>NaN</td>\n",
       "      <td>68.054</td>\n",
       "      <td>15.195657</td>\n",
       "      <td>10.0</td>\n",
       "      <td>57.75</td>\n",
       "      <td>69.0</td>\n",
       "      <td>79.0</td>\n",
       "      <td>100.0</td>\n",
       "    </tr>\n",
       "  </tbody>\n",
       "</table>\n",
       "</div>"
      ],
      "text/plain": [
       "                              count unique           top freq    mean  \\\n",
       "gender                         1000      2        female  518     NaN   \n",
       "race/ethnicity                 1000      5       group C  319     NaN   \n",
       "parental level of education    1000      6  some college  226     NaN   \n",
       "lunch                          1000      2      standard  645     NaN   \n",
       "test preparation course        1000      2          none  642     NaN   \n",
       "math score                   1000.0    NaN           NaN  NaN  66.089   \n",
       "reading score                1000.0    NaN           NaN  NaN  69.169   \n",
       "writing score                1000.0    NaN           NaN  NaN  68.054   \n",
       "\n",
       "                                   std   min    25%   50%   75%    max  \n",
       "gender                             NaN   NaN    NaN   NaN   NaN    NaN  \n",
       "race/ethnicity                     NaN   NaN    NaN   NaN   NaN    NaN  \n",
       "parental level of education        NaN   NaN    NaN   NaN   NaN    NaN  \n",
       "lunch                              NaN   NaN    NaN   NaN   NaN    NaN  \n",
       "test preparation course            NaN   NaN    NaN   NaN   NaN    NaN  \n",
       "math score                    15.16308   0.0   57.0  66.0  77.0  100.0  \n",
       "reading score                14.600192  17.0   59.0  70.0  79.0  100.0  \n",
       "writing score                15.195657  10.0  57.75  69.0  79.0  100.0  "
      ]
     },
     "execution_count": 12,
     "metadata": {},
     "output_type": "execute_result"
    }
   ],
   "source": [
    "# o incluso pasando el parámetro \"all\" para que nos muestre todas las variables\n",
    "\n",
    "df.describe(include = \"all\").T"
   ]
  },
  {
   "cell_type": "markdown",
   "id": "cb9b7036",
   "metadata": {},
   "source": [
    "- Para las columnas numéricas obtendremos información como la media, desviación estándar, percentiles o el máximo y el mínimo. \n",
    "\n",
    "\n",
    "- Para las columnas categóricas tendremos información sobre el recuento, el número de valores únicos que tenemos en cada columna, el valor más frecuente (top) o la frecuencia correspondiente a ese valor top. "
   ]
  },
  {
   "cell_type": "markdown",
   "id": "d473fe15",
   "metadata": {},
   "source": [
    "Ya sabemos cuántas columnas y filas, cuáles son los principales estadísticos. Ahora es el momento de saber qué tipo de datos tenemos en nuestro *dataset*  para lo que miramos su propiedad `.dtypes`:"
   ]
  },
  {
   "cell_type": "code",
   "execution_count": 18,
   "id": "04d02182",
   "metadata": {},
   "outputs": [
    {
     "data": {
      "text/plain": [
       "gender                         object\n",
       "race/ethnicity                 object\n",
       "parental level of education    object\n",
       "lunch                          object\n",
       "test preparation course        object\n",
       "math score                      int64\n",
       "reading score                   int64\n",
       "writing score                   int64\n",
       "dtype: object"
      ]
     },
     "execution_count": 18,
     "metadata": {},
     "output_type": "execute_result"
    }
   ],
   "source": [
    "df.dtypes"
   ]
  },
  {
   "cell_type": "markdown",
   "id": "1952bda2",
   "metadata": {},
   "source": [
    "Y aquí es importante que sepamos qué tipos de datos tenemos en Pandas. Veámoslos en detalle: \n",
    "\n",
    "|   Tipo en Pandas| Tipo en Python  | Descripción  |  \n",
    "|---|---|---|\n",
    "| object  | string  |  El `dtype` más general. Será asignado a tu columna si la columna contiene tipos mixtos (números y secuencias de caracteres). |\n",
    "| int64  | int  | Caracteres numéricos. `64` se refiere a la memoria asignada para almacenar el caracter.   |\n",
    "|  float64 | float  |  Caracteres numéricos con decimales. Si una columna contiene números y NaNs (ver más abajo), Pandas usará `float64` por defecto, en caso de que los datos faltantes contengan decimales. |  \n",
    "|   datetime, timedelta[ns]  |  librería [datetime](https://docs.python.org/3/library/datetime.html) Python  |bValores destinados a contener datos de tiempo. Mira en estos para experimentos con series de tiempo.|\n",
    "|category|no existe|Lista finita de valores de texto.|\n",
    "|bool|bool|`True` o `False`.|"
   ]
  },
  {
   "cell_type": "markdown",
   "id": "37261ad7",
   "metadata": {},
   "source": [
    "En Pandas también tenemos el método `.info()` que nos va a dar un pequeño resumen sobre los tipos de datos, los nulos, las variables que tenemos etc. "
   ]
  },
  {
   "cell_type": "code",
   "execution_count": 39,
   "id": "fff941d5",
   "metadata": {},
   "outputs": [
    {
     "name": "stdout",
     "output_type": "stream",
     "text": [
      "<class 'pandas.core.frame.DataFrame'>\n",
      "RangeIndex: 1000 entries, 0 to 999\n",
      "Data columns (total 8 columns):\n",
      " #   Column                       Non-Null Count  Dtype \n",
      "---  ------                       --------------  ----- \n",
      " 0   gender                       1000 non-null   object\n",
      " 1   race/ethnicity               1000 non-null   object\n",
      " 2   parental level of education  1000 non-null   object\n",
      " 3   lunch                        1000 non-null   object\n",
      " 4   test preparation course      1000 non-null   object\n",
      " 5   math score                   1000 non-null   int64 \n",
      " 6   reading score                1000 non-null   int64 \n",
      " 7   writing score                1000 non-null   int64 \n",
      "dtypes: int64(3), object(5)\n",
      "memory usage: 62.6+ KB\n"
     ]
    }
   ],
   "source": [
    "df.info()"
   ]
  },
  {
   "cell_type": "markdown",
   "id": "49e31879",
   "metadata": {},
   "source": [
    "### ¿Tenemos nulos? \n",
    "\n",
    "Ahora comprobaremos si hay valores que faltan en nuestro *dataset*, usando el método `.isnull()`. En caso de que haya valores nulos, las imputaremos con los valores apropiados (moda en caso de característica categórica, y mediana o media en caso de característica numérica).\n",
    "\n",
    "📌 **NOTA** La imputación de valores nulos lo veremos en las lecciones de Limpieza e Imputación."
   ]
  },
  {
   "cell_type": "code",
   "execution_count": 19,
   "id": "83210850",
   "metadata": {},
   "outputs": [
    {
     "data": {
      "text/plain": [
       "gender                         0\n",
       "race/ethnicity                 0\n",
       "parental level of education    0\n",
       "lunch                          0\n",
       "test preparation course        0\n",
       "math score                     0\n",
       "reading score                  0\n",
       "writing score                  0\n",
       "dtype: int64"
      ]
     },
     "execution_count": 19,
     "metadata": {},
     "output_type": "execute_result"
    }
   ],
   "source": [
    "df.isnull().sum()"
   ]
  },
  {
   "cell_type": "markdown",
   "id": "d1ca926e",
   "metadata": {},
   "source": [
    "### Valores únicos y frecuencia\n",
    "\n",
    "En el caso de las variables categóricas nos puede resultar muy interesante conocer cuales son los valores únicos que tenemos. Para eso recordemos que tenemos el método `.unique()` de Pandas. "
   ]
  },
  {
   "cell_type": "code",
   "execution_count": 25,
   "id": "63ff82df",
   "metadata": {},
   "outputs": [
    {
     "data": {
      "text/plain": [
       "array(['female', 'male'], dtype=object)"
      ]
     },
     "execution_count": 25,
     "metadata": {},
     "output_type": "execute_result"
    }
   ],
   "source": [
    "# saquemos los valores únicos para la columna \"gender\"\n",
    "\n",
    "df.gender.unique()"
   ]
  },
  {
   "cell_type": "markdown",
   "id": "e442dcf1",
   "metadata": {},
   "source": [
    "Podríamos hacer esto para todas las columnas, pero podría ser un poco tedioso si tenemos muchas columnas de este tipo. Lo que podemos hacer es hacerlo dentro de un *for loop*. "
   ]
  },
  {
   "cell_type": "code",
   "execution_count": 26,
   "id": "751ff53f",
   "metadata": {},
   "outputs": [
    {
     "data": {
      "text/html": [
       "<div>\n",
       "<style scoped>\n",
       "    .dataframe tbody tr th:only-of-type {\n",
       "        vertical-align: middle;\n",
       "    }\n",
       "\n",
       "    .dataframe tbody tr th {\n",
       "        vertical-align: top;\n",
       "    }\n",
       "\n",
       "    .dataframe thead th {\n",
       "        text-align: right;\n",
       "    }\n",
       "</style>\n",
       "<table border=\"1\" class=\"dataframe\">\n",
       "  <thead>\n",
       "    <tr style=\"text-align: right;\">\n",
       "      <th></th>\n",
       "      <th>gender</th>\n",
       "      <th>race/ethnicity</th>\n",
       "      <th>parental level of education</th>\n",
       "      <th>lunch</th>\n",
       "      <th>test preparation course</th>\n",
       "    </tr>\n",
       "  </thead>\n",
       "  <tbody>\n",
       "    <tr>\n",
       "      <th>0</th>\n",
       "      <td>female</td>\n",
       "      <td>group B</td>\n",
       "      <td>bachelor's degree</td>\n",
       "      <td>standard</td>\n",
       "      <td>none</td>\n",
       "    </tr>\n",
       "    <tr>\n",
       "      <th>1</th>\n",
       "      <td>female</td>\n",
       "      <td>group C</td>\n",
       "      <td>some college</td>\n",
       "      <td>standard</td>\n",
       "      <td>completed</td>\n",
       "    </tr>\n",
       "    <tr>\n",
       "      <th>2</th>\n",
       "      <td>female</td>\n",
       "      <td>group B</td>\n",
       "      <td>master's degree</td>\n",
       "      <td>standard</td>\n",
       "      <td>none</td>\n",
       "    </tr>\n",
       "    <tr>\n",
       "      <th>3</th>\n",
       "      <td>male</td>\n",
       "      <td>group A</td>\n",
       "      <td>associate's degree</td>\n",
       "      <td>free/reduced</td>\n",
       "      <td>none</td>\n",
       "    </tr>\n",
       "    <tr>\n",
       "      <th>4</th>\n",
       "      <td>male</td>\n",
       "      <td>group C</td>\n",
       "      <td>some college</td>\n",
       "      <td>standard</td>\n",
       "      <td>none</td>\n",
       "    </tr>\n",
       "  </tbody>\n",
       "</table>\n",
       "</div>"
      ],
      "text/plain": [
       "   gender race/ethnicity parental level of education         lunch  \\\n",
       "0  female        group B           bachelor's degree      standard   \n",
       "1  female        group C                some college      standard   \n",
       "2  female        group B             master's degree      standard   \n",
       "3    male        group A          associate's degree  free/reduced   \n",
       "4    male        group C                some college      standard   \n",
       "\n",
       "  test preparation course  \n",
       "0                    none  \n",
       "1               completed  \n",
       "2                    none  \n",
       "3                    none  \n",
       "4                    none  "
      ]
     },
     "execution_count": 26,
     "metadata": {},
     "output_type": "execute_result"
    }
   ],
   "source": [
    "# sacamos únicamente las variables categóricas\n",
    "\n",
    "categoricas = df.select_dtypes(include = \"object\")\n",
    "categoricas.head()"
   ]
  },
  {
   "cell_type": "code",
   "execution_count": 35,
   "id": "1fce2384",
   "metadata": {},
   "outputs": [
    {
     "name": "stdout",
     "output_type": "stream",
     "text": [
      "------------------------------------------------------------ \n",
      "\n",
      "En la columna gender tenemos los siguientes valores unicos\n",
      "['female' 'male']\n",
      "\n",
      " ------------------------------------------------------------ \n",
      "\n",
      "------------------------------------------------------------ \n",
      "\n",
      "En la columna race/ethnicity tenemos los siguientes valores unicos\n",
      "['group B' 'group C' 'group A' 'group D' 'group E']\n",
      "\n",
      " ------------------------------------------------------------ \n",
      "\n",
      "------------------------------------------------------------ \n",
      "\n",
      "En la columna parental level of education tenemos los siguientes valores unicos\n",
      "[\"bachelor's degree\" 'some college' \"master's degree\" \"associate's degree\"\n",
      " 'high school' 'some high school']\n",
      "\n",
      " ------------------------------------------------------------ \n",
      "\n",
      "------------------------------------------------------------ \n",
      "\n",
      "En la columna lunch tenemos los siguientes valores unicos\n",
      "['standard' 'free/reduced']\n",
      "\n",
      " ------------------------------------------------------------ \n",
      "\n",
      "------------------------------------------------------------ \n",
      "\n",
      "En la columna test preparation course tenemos los siguientes valores unicos\n",
      "['none' 'completed']\n",
      "\n",
      " ------------------------------------------------------------ \n",
      "\n"
     ]
    }
   ],
   "source": [
    "for col in categoricas.columns:\n",
    "    print(\"------------------------------------------------------------\", \"\\n\")\n",
    "    print(f\"En la columna {col} tenemos los siguientes valores unicos\")\n",
    "    print(df[col].unique())\n",
    "    print(\"\\n\", \"------------------------------------------------------------\", \"\\n\")\n"
   ]
  },
  {
   "cell_type": "markdown",
   "id": "a90bcd43",
   "metadata": {},
   "source": [
    "También podemos sacar la frecuencia de cada una de esas categorías usando el método `.value_counts()`:"
   ]
  },
  {
   "cell_type": "code",
   "execution_count": 38,
   "id": "2c186220",
   "metadata": {},
   "outputs": [
    {
     "name": "stdout",
     "output_type": "stream",
     "text": [
      "------------------------------------------------------------ \n",
      "\n",
      "En la columna gender tenemos los siguientes valores unicos\n",
      "        gender\n",
      "female     518\n",
      "male       482\n",
      "\n",
      " ------------------------------------------------------------ \n",
      "\n",
      "------------------------------------------------------------ \n",
      "\n",
      "En la columna race/ethnicity tenemos los siguientes valores unicos\n",
      "         race/ethnicity\n",
      "group C             319\n",
      "group D             262\n",
      "group B             190\n",
      "group E             140\n",
      "group A              89\n",
      "\n",
      " ------------------------------------------------------------ \n",
      "\n",
      "------------------------------------------------------------ \n",
      "\n",
      "En la columna parental level of education tenemos los siguientes valores unicos\n",
      "                    parental level of education\n",
      "some college                                226\n",
      "associate's degree                          222\n",
      "high school                                 196\n",
      "some high school                            179\n",
      "bachelor's degree                           118\n",
      "master's degree                              59\n",
      "\n",
      " ------------------------------------------------------------ \n",
      "\n",
      "------------------------------------------------------------ \n",
      "\n",
      "En la columna lunch tenemos los siguientes valores unicos\n",
      "              lunch\n",
      "standard        645\n",
      "free/reduced    355\n",
      "\n",
      " ------------------------------------------------------------ \n",
      "\n",
      "------------------------------------------------------------ \n",
      "\n",
      "En la columna test preparation course tenemos los siguientes valores unicos\n",
      "           test preparation course\n",
      "none                           642\n",
      "completed                      358\n",
      "\n",
      " ------------------------------------------------------------ \n",
      "\n"
     ]
    }
   ],
   "source": [
    "for col in categoricas.columns:\n",
    "    print(\"------------------------------------------------------------\", \"\\n\")\n",
    "    print(f\"En la columna {col} tenemos los siguientes valores unicos\")\n",
    "    print(pd.DataFrame(df[col].value_counts()))\n",
    "    print(\"\\n\", \"------------------------------------------------------------\", \"\\n\")\n"
   ]
  },
  {
   "cell_type": "markdown",
   "id": "66ca4aa2",
   "metadata": {},
   "source": [
    "### EJERCICIOS\n",
    "\n",
    "EL objetivo de este ejercicio es que uses el dataset de `netflix_titles` y hagas una primer análisis exploratorio del mismo. Para ello tendrás que usar los métodos que hemos aprendido para conseguir extraer información sobre el *dataset*.\n",
    "\n",
    "1️⃣ ¿Qué tipo de información tenemos?\n",
    "\n",
    "2️⃣ ¿Cuántas filas y columnas tenemos?\n",
    "\n",
    "3️⃣ ¿Cuáles son los principales estadísticos de todas las columnas?\n",
    "\n",
    "4️⃣ ¿Hay nulos?\n",
    "\n",
    "5️⃣ ¿Valores únicos de las variables categóricas.\n",
    "\n",
    "6️⃣ ¿Frecuencia de cada una de las categórias.\n",
    "\n",
    "⚠️Somos analistas de datos, no nos vale solo con picar las lineas de código. Debemos hacer una interpretación de los resultados!"
   ]
  },
  {
   "cell_type": "code",
   "execution_count": null,
   "id": "f98cf529",
   "metadata": {},
   "outputs": [],
   "source": []
  }
 ],
 "metadata": {
  "kernelspec": {
   "display_name": "Python 3 (ipykernel)",
   "language": "python",
   "name": "python3"
  },
  "language_info": {
   "codemirror_mode": {
    "name": "ipython",
    "version": 3
   },
   "file_extension": ".py",
   "mimetype": "text/x-python",
   "name": "python",
   "nbconvert_exporter": "python",
   "pygments_lexer": "ipython3",
   "version": "3.9.10"
  },
  "toc": {
   "base_numbering": 1,
   "nav_menu": {},
   "number_sections": true,
   "sideBar": true,
   "skip_h1_title": false,
   "title_cell": "Table of Contents",
   "title_sidebar": "Contents",
   "toc_cell": true,
   "toc_position": {},
   "toc_section_display": true,
   "toc_window_display": false
  }
 },
 "nbformat": 4,
 "nbformat_minor": 5
}
