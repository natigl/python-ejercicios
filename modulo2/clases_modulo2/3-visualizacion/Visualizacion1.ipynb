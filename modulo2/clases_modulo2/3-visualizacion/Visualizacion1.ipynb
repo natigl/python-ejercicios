{
 "cells": [
  {
   "cell_type": "markdown",
   "metadata": {},
   "source": [
    "### Tabla de contenidos\n",
    "\n",
    "* [Visualización](#chapter1)\n",
    "    * [¿Qué es la visualización de datos y como se realiza en Python?](#section_1_1)\n",
    "    * [¿Qué es Matplotlib? ](#section_1_2)\n",
    "        * [¿Qué debemos hacer para trabajar con Matplotlib?](#section_1_2_1)\n",
    "        * [El contenedor figure y sus propiedades](#section_1_2_2)\n",
    "    * [Partes de una gráfica](#section_1_3)\n",
    "    * [Tipos de gráficas](#section_1_4)\n",
    "        * [Gráficas básicas](#section_1_4_1)\n",
    "            * [Gráficas básicas](#section_1_4_1_1)\n",
    "            * [Diagramas de barras](#section_1_4_1_2)\n",
    "                * [Gráficas barras](#section_1_4_1_2_1)\n",
    "                * [Gráficas barras horizontales](#section_1_4_1_2_2)\n",
    "                * [Gráficas barras apiladas](#section_1_4_1_2_3)\n",
    "            * [Gráficas de dispersión](#section_1_4_1_3)\n",
    "        * [Gráficas estadísticas](#section_1_4_2)\n",
    "            * [Histogramas](#section_1_4_2_1)\n",
    "            * [Boxplot](#section_1_4_2_2)\n",
    "            * [Gráficos de sectores](#section_1_4_2_3)\n",
    "            * [Diagrama de violín](#section_1_4_2_4)\n",
    "            "
   ]
  },
  {
   "cell_type": "markdown",
   "metadata": {},
   "source": [
    "## ¿Qué es visualización de datos y como se realiza en Python? <a class=\"anchor\" id=\"section_1_1\"></a>"
   ]
  },
  {
   "attachments": {},
   "cell_type": "markdown",
   "metadata": {},
   "source": [
    "La visualización de datos consiste en la realización de gráficas a partir de un conjunto de datos. Generalmente las gráficas se utilizan para conocer en detalle los datos con los que se va a trabajar además de para  extraer la información contenida de forma visual y así explicar o dar respuesta a preguntas sobre los mismos.\n",
    "\n",
    "Como se suele decir: \"Una imagen vale más que mil palabras.\"\n",
    "\n",
    "Para realizar gráficos en Python existen multitud de paquetes, algunos de los más usuales suelen ser:\n",
    "- Matplotlib\n",
    "- Seaborn\n",
    "- Plotly\n",
    "\n",
    "En nuestro caso vamos a ver en esta lección y las posteriores como realizar gráficas haciendo uso de **Matplotlib** y **Seaborn**. Así como las gráficas más utilizadas para el análisis de datos.\n",
    "\n"
   ]
  },
  {
   "cell_type": "markdown",
   "metadata": {},
   "source": [
    "## ¿Qué es Matplotlib? <a class=\"anchor\" id=\"section_1_2\"></a>"
   ]
  },
  {
   "attachments": {},
   "cell_type": "markdown",
   "metadata": {},
   "source": [
    "Matplotlib es una librería de Python que se utiliza para crear gráficos de todo tipo. Ya que nos permite realizar gráficas estáticas, animadas e interactivas, con funciones como zoom, actualización, etc. \n",
    "\n",
    "Así mismo permite todo tipo de personalización de estilo y fondos, y permite asímismo exportar las gráficas a todo tipo de formatos de imagen.\n",
    "\n",
    "📌 Como analistas de datos, una parte importante  del trabajo será la capacidad de realizar gráficas que permitan explicar particularidades de los datos con los que trabajemos. Ya sea durante el proceso de limpieza de datos, para saber qué datos pueden ser problemáticos, la explicación de las posibles distribuciones estadísitcas que puedan seguir los datos o para la creación y presentación de informes.\n",
    "\n",
    "Os dejamos aquí el [link](https://matplotlib.org/3.5.1/plot_types/index.html) a la documentación oficial de Matplotlib."
   ]
  },
  {
   "cell_type": "markdown",
   "metadata": {},
   "source": [
    "### **¿Qué debemos hacer para trabajar con Matplotlib?** <a class=\"anchor\" id=\"section_1_2_1\"></a>"
   ]
  },
  {
   "attachments": {},
   "cell_type": "markdown",
   "metadata": {},
   "source": [
    "1️⃣ Lo primero que tenemos que hacer es instalar la librería a través de la terminal. Para ello nos vamos a nuestra terminal y escribimos:\n",
    "\n",
    "```\n",
    "pip install matplotlib==3.4.3\n",
    "```\n",
    "\n",
    "2️⃣ Una vez instalado nos vamos a nuestro jupyter notebook y tendremos que importar la librería, por convencion se hace de la siguiente forma. En realidad vamos a importar un submódulo de matplotlib llamado pyplot, que es donde radica casi todas las utilidades para poder realizar multitud de gráficas distintas.\n",
    "\n",
    "```python\n",
    "import matplotlib.pyplot as plt\n",
    "```"
   ]
  },
  {
   "cell_type": "code",
   "execution_count": 1,
   "metadata": {},
   "outputs": [],
   "source": [
    "# como cada día, lo primero que hacemos es importar las librerías que necesitaremos\n",
    "import matplotlib.pyplot as plt\n",
    "import pandas as pd\n"
   ]
  },
  {
   "cell_type": "code",
   "execution_count": 2,
   "metadata": {},
   "outputs": [
    {
     "data": {
      "text/html": [
       "<div>\n",
       "<style scoped>\n",
       "    .dataframe tbody tr th:only-of-type {\n",
       "        vertical-align: middle;\n",
       "    }\n",
       "\n",
       "    .dataframe tbody tr th {\n",
       "        vertical-align: top;\n",
       "    }\n",
       "\n",
       "    .dataframe thead th {\n",
       "        text-align: right;\n",
       "    }\n",
       "</style>\n",
       "<table border=\"1\" class=\"dataframe\">\n",
       "  <thead>\n",
       "    <tr style=\"text-align: right;\">\n",
       "      <th></th>\n",
       "      <th>Id</th>\n",
       "      <th>SepalLengthCm</th>\n",
       "      <th>SepalWidthCm</th>\n",
       "      <th>PetalLengthCm</th>\n",
       "      <th>PetalWidthCm</th>\n",
       "      <th>Species</th>\n",
       "    </tr>\n",
       "  </thead>\n",
       "  <tbody>\n",
       "    <tr>\n",
       "      <th>0</th>\n",
       "      <td>1</td>\n",
       "      <td>5.1</td>\n",
       "      <td>3.5</td>\n",
       "      <td>1.4</td>\n",
       "      <td>0.2</td>\n",
       "      <td>Iris-setosa</td>\n",
       "    </tr>\n",
       "    <tr>\n",
       "      <th>1</th>\n",
       "      <td>2</td>\n",
       "      <td>4.9</td>\n",
       "      <td>3.0</td>\n",
       "      <td>1.4</td>\n",
       "      <td>0.2</td>\n",
       "      <td>Iris-setosa</td>\n",
       "    </tr>\n",
       "    <tr>\n",
       "      <th>2</th>\n",
       "      <td>3</td>\n",
       "      <td>4.7</td>\n",
       "      <td>3.2</td>\n",
       "      <td>1.3</td>\n",
       "      <td>0.2</td>\n",
       "      <td>Iris-setosa</td>\n",
       "    </tr>\n",
       "    <tr>\n",
       "      <th>3</th>\n",
       "      <td>4</td>\n",
       "      <td>4.6</td>\n",
       "      <td>3.1</td>\n",
       "      <td>1.5</td>\n",
       "      <td>0.2</td>\n",
       "      <td>Iris-setosa</td>\n",
       "    </tr>\n",
       "    <tr>\n",
       "      <th>4</th>\n",
       "      <td>5</td>\n",
       "      <td>5.0</td>\n",
       "      <td>3.6</td>\n",
       "      <td>1.4</td>\n",
       "      <td>0.2</td>\n",
       "      <td>Iris-setosa</td>\n",
       "    </tr>\n",
       "  </tbody>\n",
       "</table>\n",
       "</div>"
      ],
      "text/plain": [
       "   Id  SepalLengthCm  SepalWidthCm  PetalLengthCm  PetalWidthCm      Species\n",
       "0   1            5.1           3.5            1.4           0.2  Iris-setosa\n",
       "1   2            4.9           3.0            1.4           0.2  Iris-setosa\n",
       "2   3            4.7           3.2            1.3           0.2  Iris-setosa\n",
       "3   4            4.6           3.1            1.5           0.2  Iris-setosa\n",
       "4   5            5.0           3.6            1.4           0.2  Iris-setosa"
      ]
     },
     "execution_count": 2,
     "metadata": {},
     "output_type": "execute_result"
    }
   ],
   "source": [
    "#cargamos el dataset\n",
    "\n",
    "df_iris = pd.read_csv(\"../files/iris.csv\")\n",
    "df_iris.head()"
   ]
  },
  {
   "attachments": {},
   "cell_type": "markdown",
   "metadata": {},
   "source": [
    "El dataset iris contiene datos sobre la longitud y anchura del sépalo y los pétalos de diferentes especies de flores. Es un *dataset* muy conocido por la inmensa mayoría de analistas de datos, ya que nos permitirá trabajar con datos reales, para poder realizar los ejercicios!\n",
    "\n",
    "Las columnas que nos encontraremos en este conjunto de datos son:\n",
    "\n",
    "- `SepalLengthCm`: nos indica la longitud del sépalo\n",
    "\n",
    "- `SepalWidthCm`: nos indica la ancho del sépalo\n",
    "\n",
    "- `PetalLengthCm`: nos indica la longitud del pétalo\n",
    "\n",
    "- `PetalWidthCm`: nos indica el ancho del pétalo\n",
    "\n",
    "- `Species`: la especie a la que pertenece cada entrada(fila) de nuestro *dataset*"
   ]
  },
  {
   "attachments": {},
   "cell_type": "markdown",
   "metadata": {},
   "source": [
    "## Partes de la figura en Matplotlib <a class=\"anchor\" id=\"section_1_3\"></a>\n",
    "\n",
    "Antes de ponernos manos a la obra veamos cuáles son las principales partes de una gráfica para poder trabajar con más normalidad.\n",
    "\n",
    "- *Figura*: es todo lo contenido por el objeto *figure* de Matplotlib.\n",
    "\n",
    "\n",
    "- *Título*: el título que se mostrará con la gráfica al dibujarla.\n",
    "\n",
    "\n",
    "- *Leyenda*: mostrará los colores y nombres de las diferentes representraciones mostradas, líneas, puntos, etc.\n",
    "\n",
    "\n",
    "- *Cuadrícula*: línea que mostrará una cuadricula por cada uno de los valores de los marcadores mayores.\n",
    "\n",
    "\n",
    "- *Lomo*: son las líneas que conforman los límites de las gráficas representadas.\n",
    "\n",
    "\n",
    "- *Ejes* X e Y: los ejes de las gráficas, sobre los cuales se mostrarán los marcadores mayores y menores. \n",
    "\n",
    "\n",
    "- *Etiqueta* eje X e Y: muestra el nombre de la variable representada en cada eje.\n",
    "\n",
    "\n",
    "- *Marcador mayor*: muestra la división entre los valores que alcanzan las marcas de los datos.\n",
    "\n",
    "\n",
    "- *Marcador menor*: muestra las subdivisiones entre cada una de las marcas mayores.\n",
    "\n",
    "\n",
    "- *Etiqueta de marcador* mayor y menor: muestra el valor numérico asociado a cada marcador, ya sea el mayor o el menor.\n",
    "\n",
    "\n",
    "- *Línea*: representación gráfica de los valores de una gráfica lineal.\n",
    "\n",
    "\n",
    "- *Marcador*: puntos correspondientes a una gráfica de tipo dispersión.\n",
    "\n",
    "![image.png](https://github.com/Adalab/data_imagenes/blob/main/Modulo-2/Visualizacion/partes_gráfica.jpg?raw=true)"
   ]
  },
  {
   "cell_type": "markdown",
   "metadata": {},
   "source": [
    "## Tipos de gráficas <a class=\"anchor\" id=\"section_1_4\"></a>"
   ]
  },
  {
   "cell_type": "markdown",
   "metadata": {},
   "source": [
    "### Gráficas básicas <a class=\"anchor\" id=\"section_1_4_1\"></a>"
   ]
  },
  {
   "cell_type": "markdown",
   "metadata": {},
   "source": [
    "#### Diagramas de tipo barras (*bar plot*) <a class=\"anchor\" id=\"section_1_4_1_2\"></a>"
   ]
  },
  {
   "attachments": {},
   "cell_type": "markdown",
   "metadata": {},
   "source": [
    "Empecemos con las gráfica de barras (tal vez una de las más usadas), este tipo de gráficas nos permite mostrar gráficamente unos valores o conjuntos de datos haciendo uso de barras rectangulares cuya longitud es proporcional a los valores representados.\n",
    "\n",
    "Son muy útiles por ejemplo para contar el número de veces que se repite un valor numérico o para ver como se agrupan los datos por categorías.\n",
    "\n",
    "Existen diferentes tipos de diagramas de barras:\n",
    "- Diagrama de barras\n",
    "- Diagrama de barras horizontal\n",
    "- Diagrama de barras apiladas"
   ]
  },
  {
   "attachments": {},
   "cell_type": "markdown",
   "metadata": {},
   "source": [
    "Para realizar un diagrama de barras empleamos la siguiente sintaxis:\n",
    "\n",
    "```python\n",
    "    plt.figure()\n",
    "    plt.bar(x,y)\n",
    "    plt.show()\n",
    "```\n",
    "\n",
    "Donde en este caso:\n",
    "- `x`: son los diferentes valores de las barras, o columna del dataframe \n",
    "- `y`: es la altura de cada una de las barras, o columna del dataframe "
   ]
  },
  {
   "attachments": {},
   "cell_type": "markdown",
   "metadata": {},
   "source": [
    "En el siguiente ejemplo vamos a querer mostrar las relación entre la longitud del pétalos y las especies"
   ]
  },
  {
   "cell_type": "code",
   "execution_count": 3,
   "metadata": {},
   "outputs": [
    {
     "data": {
      "image/png": "[encoded data removed]",
      "text/plain": [
       "<Figure size 432x288 with 1 Axes>"
      ]
     },
     "metadata": {
      "needs_background": "light"
     },
     "output_type": "display_data"
    }
   ],
   "source": [
    "# iniciamos nuestra gráfica, este comando dibuja el marco de nuestra figura, si lo comparamos con algo conocido de nuestras vidas \n",
    "## sería como el marco de un cuadro o una foto\n",
    "plt.figure()\n",
    "\n",
    "# utilizamos el comando plt.bar para indicar que queremos en nuestros ejes. En este caso, en el eje de la x queremos las distintas \n",
    "## especies que tenemos en nuestro dataset y en el eje de la y las longitudes de los pétalos. \n",
    "plt.bar(df_iris[\"Species\"],df_iris[\"PetalLengthCm\"])\n",
    "\n",
    "# le pedimos a python que nos muestre la figura\n",
    "plt.show()"
   ]
  },
  {
   "attachments": {},
   "cell_type": "markdown",
   "metadata": {},
   "source": [
    "Fijaos que la gráfica no nos muestra lo que tal vez esperamos, y es que este tipo de gráfica a veces, puede no tener sentido hacerla. En realidad estas gráficas funcionan bien cuando queremos hacer recuento de ocurrencias en nuestros datos, es decir, cuantas especies de tipo `setosa` tenemos en nuestro *dataset*, cuántas de `versicolor` y cuántas de `virginica`. Esto lo podremos calcular con Pandas, pero tendremos que esperar a la lección de mañana para poder hacerlo con un `groupby`. \n",
    "\n",
    "Mientras tanto, pongamos otro ejemplo para verlo más claro. Imaginemos que tenemos la información de la cantidad de alumnos que han suspendido, que han aprobado, sacado notable o sobresaliente y que queremos sacar una gráfica de ello, veamos como hacerlo: "
   ]
  },
  {
   "cell_type": "code",
   "execution_count": 4,
   "metadata": {},
   "outputs": [
    {
     "data": {
      "text/html": [
       "<div>\n",
       "<style scoped>\n",
       "    .dataframe tbody tr th:only-of-type {\n",
       "        vertical-align: middle;\n",
       "    }\n",
       "\n",
       "    .dataframe tbody tr th {\n",
       "        vertical-align: top;\n",
       "    }\n",
       "\n",
       "    .dataframe thead th {\n",
       "        text-align: right;\n",
       "    }\n",
       "</style>\n",
       "<table border=\"1\" class=\"dataframe\">\n",
       "  <thead>\n",
       "    <tr style=\"text-align: right;\">\n",
       "      <th></th>\n",
       "      <th>nota</th>\n",
       "      <th>num_alumnos</th>\n",
       "    </tr>\n",
       "  </thead>\n",
       "  <tbody>\n",
       "    <tr>\n",
       "      <th>0</th>\n",
       "      <td>Suspendida</td>\n",
       "      <td>1</td>\n",
       "    </tr>\n",
       "    <tr>\n",
       "      <th>1</th>\n",
       "      <td>Aprobada</td>\n",
       "      <td>5</td>\n",
       "    </tr>\n",
       "    <tr>\n",
       "      <th>2</th>\n",
       "      <td>Notable</td>\n",
       "      <td>4</td>\n",
       "    </tr>\n",
       "    <tr>\n",
       "      <th>3</th>\n",
       "      <td>Sobresaliente</td>\n",
       "      <td>2</td>\n",
       "    </tr>\n",
       "  </tbody>\n",
       "</table>\n",
       "</div>"
      ],
      "text/plain": [
       "            nota  num_alumnos\n",
       "0     Suspendida            1\n",
       "1       Aprobada            5\n",
       "2        Notable            4\n",
       "3  Sobresaliente            2"
      ]
     },
     "execution_count": 4,
     "metadata": {},
     "output_type": "execute_result"
    }
   ],
   "source": [
    "# tenemos nuestro diccionario con las notas y las alumnas en cada grupo\n",
    "dicc_notas = {\"nota\": ['Suspendida','Aprobada', 'Notable', 'Sobresaliente'], \n",
    "             \"num_alumnos\" : [1,5,4,2]}\n",
    "\n",
    "# lo convertimos a dataframe\n",
    "df_notas = pd.DataFrame(dicc_notas)\n",
    "df_notas\n"
   ]
  },
  {
   "cell_type": "code",
   "execution_count": 5,
   "metadata": {},
   "outputs": [
    {
     "data": {
      "image/png": "[encoded data removed]",
      "text/plain": [
       "<Figure size 432x288 with 1 Axes>"
      ]
     },
     "metadata": {
      "needs_background": "light"
     },
     "output_type": "display_data"
    }
   ],
   "source": [
    "# iniciamos el marco de nuestra figura\n",
    "plt.figure()\n",
    "\n",
    "# establecemos nuestra gráfica\n",
    "plt.bar(df_notas[\"nota\"],df_notas[\"num_alumnos\"])\n",
    "\n",
    "# mostramos la gráfica\n",
    "plt.show()"
   ]
  },
  {
   "attachments": {},
   "cell_type": "markdown",
   "metadata": {},
   "source": [
    "Como se puede ver, de un vistazo rápido somos capaces de discernir el número de alumnas por cada una de las categorías representadas, pero como vemos para cada una de las notas tenemos un único valor. "
   ]
  },
  {
   "attachments": {},
   "cell_type": "markdown",
   "metadata": {},
   "source": [
    "##### Diagrama de barras horizontales (*horizontal bar plot*) <a class=\"anchor\" id=\"section_1_4_1_2_2\"></a>\n",
    "\n",
    "Los diagramas de barras horizontales son iguales que los diagramas de barras anteriores, solo que en este caso la orientacion es horizontal, en lugar de vertical. Se puede utilizar ambos estilos de forma indistinta.\n",
    "\n",
    "La sintaxis general es la siguiente:\n",
    "\n",
    "```python\n",
    "    plt.figure()\n",
    "    plt.barh(x,y)\n",
    "    plt.show()\n",
    "```\n",
    "\n",
    "Donde en este caso:\n",
    "- `x`: son los diferentes valores de las barras, o columna del dataframe \n",
    "- `y`: es la altura de cada una de las barras, o columna del dataframe \n",
    "\n",
    "\n",
    "Básicamente hemos cambiado `bar()` por `barh()`."
   ]
  },
  {
   "cell_type": "markdown",
   "metadata": {},
   "source": [
    "Si utilizamos el ejemplo de las notas de las alumnas utilizado en el apartado anterior, pero haciendo uso de las barras hortizontales, quedaría así:"
   ]
  },
  {
   "cell_type": "code",
   "execution_count": 9,
   "metadata": {},
   "outputs": [
    {
     "data": {
      "text/html": [
       "<div>\n",
       "<style scoped>\n",
       "    .dataframe tbody tr th:only-of-type {\n",
       "        vertical-align: middle;\n",
       "    }\n",
       "\n",
       "    .dataframe tbody tr th {\n",
       "        vertical-align: top;\n",
       "    }\n",
       "\n",
       "    .dataframe thead th {\n",
       "        text-align: right;\n",
       "    }\n",
       "</style>\n",
       "<table border=\"1\" class=\"dataframe\">\n",
       "  <thead>\n",
       "    <tr style=\"text-align: right;\">\n",
       "      <th></th>\n",
       "      <th>nota</th>\n",
       "      <th>num_alumnos</th>\n",
       "    </tr>\n",
       "  </thead>\n",
       "  <tbody>\n",
       "    <tr>\n",
       "      <th>0</th>\n",
       "      <td>Suspendida</td>\n",
       "      <td>1</td>\n",
       "    </tr>\n",
       "    <tr>\n",
       "      <th>1</th>\n",
       "      <td>Aprobada</td>\n",
       "      <td>5</td>\n",
       "    </tr>\n",
       "    <tr>\n",
       "      <th>2</th>\n",
       "      <td>Notable</td>\n",
       "      <td>4</td>\n",
       "    </tr>\n",
       "    <tr>\n",
       "      <th>3</th>\n",
       "      <td>Sobresaliente</td>\n",
       "      <td>2</td>\n",
       "    </tr>\n",
       "  </tbody>\n",
       "</table>\n",
       "</div>"
      ],
      "text/plain": [
       "            nota  num_alumnos\n",
       "0     Suspendida            1\n",
       "1       Aprobada            5\n",
       "2        Notable            4\n",
       "3  Sobresaliente            2"
      ]
     },
     "execution_count": 9,
     "metadata": {},
     "output_type": "execute_result"
    }
   ],
   "source": [
    "# recordamos el df de notas\n",
    "df_notas"
   ]
  },
  {
   "cell_type": "code",
   "execution_count": 38,
   "metadata": {},
   "outputs": [
    {
     "data": {
      "image/png": "[encoded data removed]",
      "text/plain": [
       "<Figure size 432x288 with 1 Axes>"
      ]
     },
     "metadata": {
      "needs_background": "light"
     },
     "output_type": "display_data"
    }
   ],
   "source": [
    "# iniciamos el marco de nuestra figura\n",
    "plt.figure()\n",
    "\n",
    "# establecemos como queremos nuestra figura\n",
    "plt.barh(df_notas[\"nota\"],df_notas[\"num_alumnos\"], color = \"grey\")\n",
    "\n",
    "# le pedimos que nos la muestre\n",
    "plt.show()\n"
   ]
  },
  {
   "attachments": {},
   "cell_type": "markdown",
   "metadata": {},
   "source": [
    "Fijaos que este caso hemos añadido un nuevo parámetro a nuestra gráfica, que es el del color de las barras con el parámetro `color`. En este caso podremos usar indistintamente `color` o `facecolor`.  La lista de colores que podemos usar la podréis encontrar [aquí](https://matplotlib.org/3.1.0/gallery/color/named_colors.html)."
   ]
  },
  {
   "attachments": {},
   "cell_type": "markdown",
   "metadata": {},
   "source": [
    "#### Diagrama de barras apiladas (*stacked bar plot*) <a class=\"anchor\" id=\"section_1_4_1_2_3\"></a>\n",
    "\n",
    "Finalmente vamos a ver como podemos realizar diagramas de barras con más que una agrupación, como ya hemos mostrado en un apartado anterior, solo que ahora en lugar de que estas se dibujen una al lado de la otra, vamos a hacer que se apilen una encima de la otra. \n",
    "\n",
    "Es otra forma de mostrar diagramas de barras cuando tenemos más de una agrupación.\n",
    "\n",
    "La sintaxis general para este tipo de gráficas es:\n",
    "\n",
    "```python\n",
    "    plt.figure()\n",
    "    plt.bar(x,y, label = 'Grupo 1')\n",
    "    plt.bar(x2,y2, bottom = y, label='Grupo 2')\n",
    "    plt.show()\n",
    "```\n",
    "\n",
    "Donde en este caso:\n",
    "\n",
    "- `x`: son los diferentes valores de las barras de la primera agrupación, es decir, cada una de las categorías que queremos mostrar en el eje x. \n",
    "- `y`: es la altura de cada una de las barras de la primera agrupación, o lo que es lo mismo, la variable numérica que queremos visualizar.\n",
    "- `x2`: son los diferentes valores de las barras de la segunda agrupación,  es decir, cada una de las categorías que queremos mostrar en el eje x. \n",
    "- `y2`: son las diferentes alturas de las barras de la segunda agrupación o la variable numérica.\n",
    "- `label`: hace referencia a la etiqeuta que le pondremos a cada una de las categorías que queremos visualizar. \n",
    "- `bottom`: será la barra que tomamos de referencia. Sobre la que se contruirá la siguiente. En este caso, siempre, será el valor de la columna de la segunda gráfica que incluyamos. \n",
    "\n",
    "Para entender esto mejor veamos un ejemplo: \n"
   ]
  },
  {
   "cell_type": "code",
   "execution_count": 16,
   "metadata": {},
   "outputs": [
    {
     "data": {
      "image/png": "[encoded data removed]",
      "text/plain": [
       "<Figure size 432x288 with 1 Axes>"
      ]
     },
     "metadata": {
      "needs_background": "light"
     },
     "output_type": "display_data"
    }
   ],
   "source": [
    "\n",
    "# iniciamos nuestra figura\n",
    "plt.figure()\n",
    "\n",
    "# establcemos los datos que vamos a querer visualizar. Como son dos variables las que queremos visualizar tendremos que hacer dos barplots\n",
    "plt.bar(df_iris[\"Species\"],df_iris[\"PetalLengthCm\"], bottom= df_iris[\"SepalLengthCm\"], label = 'petal')\n",
    "plt.bar(df_iris[\"Species\"],df_iris[\"SepalLengthCm\"], label = 'sepal')\n",
    "\n",
    "\n",
    "# especificamos que queremos que nos muestre la leyenda\n",
    "plt.legend()\n",
    "\n",
    "# mostramos al gráfica\n",
    "plt.show()"
   ]
  },
  {
   "cell_type": "markdown",
   "metadata": {},
   "source": [
    "Como se puede ver, ahora se muestra una gráfica de barras apilada sobre la otra. Fíjate que como ambos diagramas de barras utilizan la misma variable del eje X, la hemos reutilizado para la realización del segundo gráfico de barras."
   ]
  },
  {
   "cell_type": "markdown",
   "metadata": {},
   "source": [
    "#### Gráfica de dispersión (*scatter plot*) <a class=\"anchor\" id=\"section_1_4_1_3\"></a>"
   ]
  },
  {
   "attachments": {},
   "cell_type": "markdown",
   "metadata": {},
   "source": [
    "Las gráficas de dispersión se utilizan normalmente para representar los valores de dos pares de variables numéricas y de esta forma estudiar las posibles relaciones que pueden existir entre ambas variables.\n",
    "\n",
    "Es decir, nos va a dar información sobre como de correlacionadas (como de relacionadas) están ambas variables. Si la gráfica de dispersion forma casi una línea recta, esto implicaría que ambas variables están relacionadas.\n",
    "\n",
    "Por otro lado, si no intuimos ninguna forma y estan distribuidos por todos lados, muy probablemente ambas variables no estarán relacionadas.\n",
    "\n",
    "La forma general de realizar un gráfico de dispersión es el siguente:\n",
    "\n",
    "```python\n",
    "\n",
    "    plt.figure()\n",
    "    plt.scatter(x,y)\n",
    "    plt.show()\n",
    "```\n",
    "\n",
    "Donde en este caso:\n",
    "- `x`: la primera variable que queremos incluir en nuestra gráfica\n",
    "- `y`: la segunda variable que queremos incluir en nuestra gráfica\n"
   ]
  },
  {
   "attachments": {},
   "cell_type": "markdown",
   "metadata": {},
   "source": [
    "Imaginemos ahora que queremos saber si existe alguna relación entre la anchura de los pétalos y su longitud. Nuestro sentido común nos puede decir que aquellas plantas con una mayor anchura de los pétalos tendrán también una mayor longitud, pero podría no ser así. Para contestar esta pregunta podemos usar este tipo de gráfico que de una forma muy visual nos ayudará a entender nuestros datos. "
   ]
  },
  {
   "cell_type": "code",
   "execution_count": 6,
   "metadata": {},
   "outputs": [
    {
     "data": {
      "text/html": [
       "<div>\n",
       "<style scoped>\n",
       "    .dataframe tbody tr th:only-of-type {\n",
       "        vertical-align: middle;\n",
       "    }\n",
       "\n",
       "    .dataframe tbody tr th {\n",
       "        vertical-align: top;\n",
       "    }\n",
       "\n",
       "    .dataframe thead th {\n",
       "        text-align: right;\n",
       "    }\n",
       "</style>\n",
       "<table border=\"1\" class=\"dataframe\">\n",
       "  <thead>\n",
       "    <tr style=\"text-align: right;\">\n",
       "      <th></th>\n",
       "      <th>Id</th>\n",
       "      <th>SepalLengthCm</th>\n",
       "      <th>SepalWidthCm</th>\n",
       "      <th>PetalLengthCm</th>\n",
       "      <th>PetalWidthCm</th>\n",
       "      <th>Species</th>\n",
       "    </tr>\n",
       "  </thead>\n",
       "  <tbody>\n",
       "    <tr>\n",
       "      <th>0</th>\n",
       "      <td>1</td>\n",
       "      <td>5.1</td>\n",
       "      <td>3.5</td>\n",
       "      <td>1.4</td>\n",
       "      <td>0.2</td>\n",
       "      <td>Iris-setosa</td>\n",
       "    </tr>\n",
       "    <tr>\n",
       "      <th>1</th>\n",
       "      <td>2</td>\n",
       "      <td>4.9</td>\n",
       "      <td>3.0</td>\n",
       "      <td>1.4</td>\n",
       "      <td>0.2</td>\n",
       "      <td>Iris-setosa</td>\n",
       "    </tr>\n",
       "    <tr>\n",
       "      <th>2</th>\n",
       "      <td>3</td>\n",
       "      <td>4.7</td>\n",
       "      <td>3.2</td>\n",
       "      <td>1.3</td>\n",
       "      <td>0.2</td>\n",
       "      <td>Iris-setosa</td>\n",
       "    </tr>\n",
       "    <tr>\n",
       "      <th>3</th>\n",
       "      <td>4</td>\n",
       "      <td>4.6</td>\n",
       "      <td>3.1</td>\n",
       "      <td>1.5</td>\n",
       "      <td>0.2</td>\n",
       "      <td>Iris-setosa</td>\n",
       "    </tr>\n",
       "    <tr>\n",
       "      <th>4</th>\n",
       "      <td>5</td>\n",
       "      <td>5.0</td>\n",
       "      <td>3.6</td>\n",
       "      <td>1.4</td>\n",
       "      <td>0.2</td>\n",
       "      <td>Iris-setosa</td>\n",
       "    </tr>\n",
       "  </tbody>\n",
       "</table>\n",
       "</div>"
      ],
      "text/plain": [
       "   Id  SepalLengthCm  SepalWidthCm  PetalLengthCm  PetalWidthCm      Species\n",
       "0   1            5.1           3.5            1.4           0.2  Iris-setosa\n",
       "1   2            4.9           3.0            1.4           0.2  Iris-setosa\n",
       "2   3            4.7           3.2            1.3           0.2  Iris-setosa\n",
       "3   4            4.6           3.1            1.5           0.2  Iris-setosa\n",
       "4   5            5.0           3.6            1.4           0.2  Iris-setosa"
      ]
     },
     "execution_count": 6,
     "metadata": {},
     "output_type": "execute_result"
    }
   ],
   "source": [
    "# recordemos el df\n",
    "df_iris.head()"
   ]
  },
  {
   "cell_type": "code",
   "execution_count": 19,
   "metadata": {},
   "outputs": [
    {
     "data": {
      "image/png": "[encoded data removed]",
      "text/plain": [
       "<Figure size 432x288 with 1 Axes>"
      ]
     },
     "metadata": {
      "needs_background": "light"
     },
     "output_type": "display_data"
    }
   ],
   "source": [
    "# iniciamos nuestra figura\n",
    "plt.figure()\n",
    "\n",
    "# usamos el métdp scatter para hacer este tipo de gráfica donde especificamos lo que queremos en cada eje\n",
    "plt.scatter(df_iris[\"PetalLengthCm\"],df_iris[\"PetalWidthCm\"])\n",
    "\n",
    "# mostramos la gráfica\n",
    "plt.show()"
   ]
  },
  {
   "attachments": {},
   "cell_type": "markdown",
   "metadata": {},
   "source": [
    "Si nos fijamos en este gráfico, vemos que no tenemos los nombres de los ejes. Nosotras lo  sabemos porque hemos escrito el código, pero si alguien ve esta gráfica no sabría a que corresponden cada uno de los ejes. Para poder poner nombre a los ejes usaremos el método `plt.xlabel` y `plt.ylabel`. Completemos un poco más nuestra gráfica anterior: \n"
   ]
  },
  {
   "cell_type": "code",
   "execution_count": 9,
   "metadata": {},
   "outputs": [
    {
     "data": {
      "image/png": "[encoded data removed]",
      "text/plain": [
       "<Figure size 432x288 with 1 Axes>"
      ]
     },
     "metadata": {
      "needs_background": "light"
     },
     "output_type": "display_data"
    }
   ],
   "source": [
    "# iniciamos nuestra figura\n",
    "plt.figure()\n",
    "\n",
    "# usamos el métdp scatter para hacer este tipo de gráfica donde especificamos lo que queremos en cada eje\n",
    "# además vamos a añadir un parámetro que ya aprendimos en esta lección, el parámetro color que servía para cambiar el color de los puntos en este caso\n",
    "plt.scatter(df_iris[\"PetalLengthCm\"],df_iris[\"PetalWidthCm\"])\n",
    "\n",
    "# establecemos el nombre del eje x\n",
    "plt.xlabel(\"petal_length\")\n",
    "\n",
    "# establecemos el nombre del eje y\n",
    "plt.ylabel(\"petal_width\")\n",
    "\n",
    "# mostramos la gráfica\n",
    "plt.show()"
   ]
  },
  {
   "attachments": {},
   "cell_type": "markdown",
   "metadata": {},
   "source": [
    "Ahora ya podemos interpretar mejor la gráfica, en este caso vemos que: \n",
    "\n",
    "- Los puntos se distribuyen más o menos a lo largo de la diagonal de la gráfica. \n",
    "\n",
    "- Además vemos que esta diagonal tiende hacia arriba, esto indica que a mayor longitud de pétalo mayor anchura de pétalo, lo cuál si lo pensamos era nuestra hipótesis inicial. Es decir, estabamos en lo cierto que a mayor anchura de pétalo mayor longitud de pétalo. "
   ]
  },
  {
   "attachments": {},
   "cell_type": "markdown",
   "metadata": {},
   "source": [
    "Veamos ahora otro ejemplo, donde no veamos ninguna relación entre las dos variables que estamos visualizando: "
   ]
  },
  {
   "cell_type": "code",
   "execution_count": 22,
   "metadata": {},
   "outputs": [
    {
     "data": {
      "text/html": [
       "<div>\n",
       "<style scoped>\n",
       "    .dataframe tbody tr th:only-of-type {\n",
       "        vertical-align: middle;\n",
       "    }\n",
       "\n",
       "    .dataframe tbody tr th {\n",
       "        vertical-align: top;\n",
       "    }\n",
       "\n",
       "    .dataframe thead th {\n",
       "        text-align: right;\n",
       "    }\n",
       "</style>\n",
       "<table border=\"1\" class=\"dataframe\">\n",
       "  <thead>\n",
       "    <tr style=\"text-align: right;\">\n",
       "      <th></th>\n",
       "      <th>Id</th>\n",
       "      <th>SepalLengthCm</th>\n",
       "      <th>SepalWidthCm</th>\n",
       "      <th>PetalLengthCm</th>\n",
       "      <th>PetalWidthCm</th>\n",
       "      <th>Species</th>\n",
       "    </tr>\n",
       "  </thead>\n",
       "  <tbody>\n",
       "    <tr>\n",
       "      <th>0</th>\n",
       "      <td>1</td>\n",
       "      <td>5.1</td>\n",
       "      <td>3.5</td>\n",
       "      <td>1.4</td>\n",
       "      <td>0.2</td>\n",
       "      <td>Iris-setosa</td>\n",
       "    </tr>\n",
       "    <tr>\n",
       "      <th>1</th>\n",
       "      <td>2</td>\n",
       "      <td>4.9</td>\n",
       "      <td>3.0</td>\n",
       "      <td>1.4</td>\n",
       "      <td>0.2</td>\n",
       "      <td>Iris-setosa</td>\n",
       "    </tr>\n",
       "    <tr>\n",
       "      <th>2</th>\n",
       "      <td>3</td>\n",
       "      <td>4.7</td>\n",
       "      <td>3.2</td>\n",
       "      <td>1.3</td>\n",
       "      <td>0.2</td>\n",
       "      <td>Iris-setosa</td>\n",
       "    </tr>\n",
       "    <tr>\n",
       "      <th>3</th>\n",
       "      <td>4</td>\n",
       "      <td>4.6</td>\n",
       "      <td>3.1</td>\n",
       "      <td>1.5</td>\n",
       "      <td>0.2</td>\n",
       "      <td>Iris-setosa</td>\n",
       "    </tr>\n",
       "    <tr>\n",
       "      <th>4</th>\n",
       "      <td>5</td>\n",
       "      <td>5.0</td>\n",
       "      <td>3.6</td>\n",
       "      <td>1.4</td>\n",
       "      <td>0.2</td>\n",
       "      <td>Iris-setosa</td>\n",
       "    </tr>\n",
       "  </tbody>\n",
       "</table>\n",
       "</div>"
      ],
      "text/plain": [
       "   Id  SepalLengthCm  SepalWidthCm  PetalLengthCm  PetalWidthCm      Species\n",
       "0   1            5.1           3.5            1.4           0.2  Iris-setosa\n",
       "1   2            4.9           3.0            1.4           0.2  Iris-setosa\n",
       "2   3            4.7           3.2            1.3           0.2  Iris-setosa\n",
       "3   4            4.6           3.1            1.5           0.2  Iris-setosa\n",
       "4   5            5.0           3.6            1.4           0.2  Iris-setosa"
      ]
     },
     "execution_count": 22,
     "metadata": {},
     "output_type": "execute_result"
    }
   ],
   "source": [
    "df_iris.head()"
   ]
  },
  {
   "cell_type": "code",
   "execution_count": 8,
   "metadata": {},
   "outputs": [
    {
     "data": {
      "image/png": "[encoded data removed]",
      "text/plain": [
       "<Figure size 432x288 with 1 Axes>"
      ]
     },
     "metadata": {
      "needs_background": "light"
     },
     "output_type": "display_data"
    }
   ],
   "source": [
    "# iniciamos nuestra figura\n",
    "plt.figure()\n",
    "\n",
    "# usamos el métdp scatter para hacer este tipo de gráfica donde especificamos lo que queremos en cada eje\n",
    "# además vamos a añadir un parámetro que ya aprendimos en esta lección, el parámetro color que servía para cambiar el color de los puntos en este caso\n",
    "plt.scatter(df_iris[\"PetalLengthCm\"],df_iris[\"SepalWidthCm\"], color = \"orange\")\n",
    "\n",
    "# establecemos el nombre del eje x\n",
    "plt.xlabel(\"petal_length\")\n",
    "\n",
    "# establecemos el nombre del eje y\n",
    "plt.ylabel(\"sepal_width\")\n",
    "\n",
    "# mostramos la gráfica\n",
    "plt.show()"
   ]
  },
  {
   "attachments": {},
   "cell_type": "markdown",
   "metadata": {},
   "source": [
    "Si nos fijamos ahora en los resultados, vemos que los datos se distribuyen más o menos homogeneamente en nuestra gráfica y que no podemos decir como antes que a mayor tamaño de pétalo mayor anchura de sépalo, por lo tanto, no hay una relación clara entre ambas variables. "
   ]
  },
  {
   "cell_type": "markdown",
   "metadata": {},
   "source": [
    "## Gráficas Estadísticas <a class=\"anchor\" id=\"section_1_4_2\"></a>"
   ]
  },
  {
   "attachments": {},
   "cell_type": "markdown",
   "metadata": {},
   "source": [
    "Es el momento de explicar una serie de gráficas muy útiles para extraer información estadística de las variables con las que estamos trabajando. Si bien es cierto que todavía no hemos empezado con las lecciones de estadística, este apartado vamos a ver los conceptos más básicos. "
   ]
  },
  {
   "cell_type": "markdown",
   "metadata": {},
   "source": [
    "### Gráficas de tipo histograma (*histogram plot*) <a class=\"anchor\" id=\"section_1_4_2_1\"></a>"
   ]
  },
  {
   "attachments": {},
   "cell_type": "markdown",
   "metadata": {},
   "source": [
    "Los histogramas son gráficas utilizadas para mostrar las frecuencias de una distribución de datos. Dicho de otra forma, nos permite ver la cantidad de veces que se repite un mismo dato en un conjunto de datos, así como ver qué valores son los más comunes.\n",
    "\n",
    "La sintaxis general para este tipo de gráficas es el siguente:\n",
    "\n",
    "```python\n",
    "    x = lista de valores, array o variable\n",
    "\n",
    "    plt.figure()\n",
    "    plt.hist(x = datos, facecolor = \"b\", edgecolor = \"b\", bins = 10 )\n",
    "    plt.show()\n",
    "```\n",
    "Donde: \n",
    "\n",
    "- `x`: hace referencia a la variable de interés, es decir, la columna sobre la que queremos la distribución de sus datos. \n",
    "\n",
    "- `facecolor`: hace referencia al color de las barras, es como el `color` que vimos un poco más arriba en la lección. \n",
    "\n",
    "- `edgecolor`: hace referencia al color de los bordes de las barras de la gráfica. \n",
    "\n",
    "- `bins`: hace referencia al número de barras que querremos ver en nuestra gráfica. \n",
    "\n",
    "🚨🚨 Estos dos nuevos métodos se pueden aplicar a cualquiera de las gráficas que hemos visto hasta ahora. \n",
    "\n",
    "En este ejemplo, veremos en primer lugar como están distribuidos nuestros datos en para la variable `sepal_length`, es decir, vamos a querer saber que longitudes de sépalos son más comunes entre nuestras plantas. Podríamos esperar que en general fueran muy pequeñas, o que la mayoría de ellas midieran en torno a un valor. Si bien, con un buen analisis exploratorio de los datos nos podríamos hacer una idea, este es un claro ejemplo de que una imagen vale más que mil palabras. "
   ]
  },
  {
   "cell_type": "code",
   "execution_count": 25,
   "metadata": {},
   "outputs": [
    {
     "data": {
      "text/html": [
       "<div>\n",
       "<style scoped>\n",
       "    .dataframe tbody tr th:only-of-type {\n",
       "        vertical-align: middle;\n",
       "    }\n",
       "\n",
       "    .dataframe tbody tr th {\n",
       "        vertical-align: top;\n",
       "    }\n",
       "\n",
       "    .dataframe thead th {\n",
       "        text-align: right;\n",
       "    }\n",
       "</style>\n",
       "<table border=\"1\" class=\"dataframe\">\n",
       "  <thead>\n",
       "    <tr style=\"text-align: right;\">\n",
       "      <th></th>\n",
       "      <th>Id</th>\n",
       "      <th>SepalLengthCm</th>\n",
       "      <th>SepalWidthCm</th>\n",
       "      <th>PetalLengthCm</th>\n",
       "      <th>PetalWidthCm</th>\n",
       "      <th>Species</th>\n",
       "    </tr>\n",
       "  </thead>\n",
       "  <tbody>\n",
       "    <tr>\n",
       "      <th>0</th>\n",
       "      <td>1</td>\n",
       "      <td>5.1</td>\n",
       "      <td>3.5</td>\n",
       "      <td>1.4</td>\n",
       "      <td>0.2</td>\n",
       "      <td>Iris-setosa</td>\n",
       "    </tr>\n",
       "    <tr>\n",
       "      <th>1</th>\n",
       "      <td>2</td>\n",
       "      <td>4.9</td>\n",
       "      <td>3.0</td>\n",
       "      <td>1.4</td>\n",
       "      <td>0.2</td>\n",
       "      <td>Iris-setosa</td>\n",
       "    </tr>\n",
       "    <tr>\n",
       "      <th>2</th>\n",
       "      <td>3</td>\n",
       "      <td>4.7</td>\n",
       "      <td>3.2</td>\n",
       "      <td>1.3</td>\n",
       "      <td>0.2</td>\n",
       "      <td>Iris-setosa</td>\n",
       "    </tr>\n",
       "    <tr>\n",
       "      <th>3</th>\n",
       "      <td>4</td>\n",
       "      <td>4.6</td>\n",
       "      <td>3.1</td>\n",
       "      <td>1.5</td>\n",
       "      <td>0.2</td>\n",
       "      <td>Iris-setosa</td>\n",
       "    </tr>\n",
       "    <tr>\n",
       "      <th>4</th>\n",
       "      <td>5</td>\n",
       "      <td>5.0</td>\n",
       "      <td>3.6</td>\n",
       "      <td>1.4</td>\n",
       "      <td>0.2</td>\n",
       "      <td>Iris-setosa</td>\n",
       "    </tr>\n",
       "  </tbody>\n",
       "</table>\n",
       "</div>"
      ],
      "text/plain": [
       "   Id  SepalLengthCm  SepalWidthCm  PetalLengthCm  PetalWidthCm      Species\n",
       "0   1            5.1           3.5            1.4           0.2  Iris-setosa\n",
       "1   2            4.9           3.0            1.4           0.2  Iris-setosa\n",
       "2   3            4.7           3.2            1.3           0.2  Iris-setosa\n",
       "3   4            4.6           3.1            1.5           0.2  Iris-setosa\n",
       "4   5            5.0           3.6            1.4           0.2  Iris-setosa"
      ]
     },
     "execution_count": 25,
     "metadata": {},
     "output_type": "execute_result"
    }
   ],
   "source": [
    "# volvemos a ver que teniamos en el df\n",
    "df_iris.head()"
   ]
  },
  {
   "cell_type": "code",
   "execution_count": 10,
   "metadata": {},
   "outputs": [
    {
     "data": {
      "image/png": "[encoded data removed]",
      "text/plain": [
       "<Figure size 432x288 with 1 Axes>"
      ]
     },
     "metadata": {
      "needs_background": "light"
     },
     "output_type": "display_data"
    }
   ],
   "source": [
    "# establecemos el marco de nuestra gráfica\n",
    "plt.figure()\n",
    "\n",
    "# utilizamos el método hist para hacer el histograma\n",
    "plt.hist(x = df_iris[\"PetalLengthCm\"], facecolor  = 'turquoise', edgecolor = \"black\" )\n",
    "\n",
    "# mostramos la gráfica\n",
    "plt.show() "
   ]
  },
  {
   "attachments": {},
   "cell_type": "markdown",
   "metadata": {},
   "source": [
    "Podemos ver la mayoría de nuestras flores tienen una longitud de pétalo entre 1 y 1.5 mientras que entre 2 y 2.5 no tenemos ninguna planta. Si vamos un paso más allá y recordamos el *dataset*, teníamos tres tipos de especies. En este gráfico podríamos decir que vemos como dos grupos de longitudes de sépalos, lo que podría hacernos sospechar que las que parecen más pequeñas pueden pertenecer a una especie concreta. Fijaos como, una visualización correcta puede resolver nuestra pregunta pero a la misma vez hacernos seguir investigando y entendiendo más los datos. \n",
    "\n",
    "Veamos ahora otro ejemplo aumentando los bins en la gráfica."
   ]
  },
  {
   "cell_type": "code",
   "execution_count": 11,
   "metadata": {},
   "outputs": [
    {
     "data": {
      "image/png": "[encoded data removed]",
      "text/plain": [
       "<Figure size 432x288 with 1 Axes>"
      ]
     },
     "metadata": {
      "needs_background": "light"
     },
     "output_type": "display_data"
    }
   ],
   "source": [
    "# establecemos el marco de nuestra gráfica\n",
    "plt.figure()\n",
    "\n",
    "# utilizamos el método hist para hacer el histograma\n",
    "plt.hist(x = df_iris[\"PetalLengthCm\"], facecolor  = 'turquoise', edgecolor = \"black\", bins = 25 )\n",
    "\n",
    "# mostramos la gráfica\n",
    "plt.show() "
   ]
  },
  {
   "attachments": {},
   "cell_type": "markdown",
   "metadata": {},
   "source": [
    "Ahora vemos que al aumentar los bins hemos aumentado el número de barritas en nuestra gráfica. Ahora tenemos más detalle sobre como se distribuyen nuestros datos de las longitudes de los pétalos, y podemos concluir que entre 2 y 3 no tenemos apenas flores, igual que antes vemos que la mayoría de las flores tienen una longitud de pétalo entre 1 y , pero podemos ver con más claridad que a partir de tres tendemos a tener más flores pero que a partir de 5 tendemos a bajar en el número de flores con grandes pétalos.  "
   ]
  },
  {
   "cell_type": "markdown",
   "metadata": {},
   "source": [
    "#### EJERCICIO 8\n",
    "\n",
    "Obtén el histograma del 'Sepal length (cm)' para el dataset `df_iris` y explica algunas de las conclusiones que se pueden extraer del mismo."
   ]
  },
  {
   "cell_type": "code",
   "execution_count": null,
   "metadata": {},
   "outputs": [],
   "source": [
    "# Solucion Ejercicio 8"
   ]
  },
  {
   "cell_type": "markdown",
   "metadata": {},
   "source": [
    "### Diagrama de cajas (*boxplot*) <a class=\"anchor\" id=\"section_1_4_2_2\"></a>"
   ]
  },
  {
   "attachments": {},
   "cell_type": "markdown",
   "metadata": {},
   "source": [
    "Vamos a explicar ahora otra gráfica muy utilizada para estudiar las caracterísitcas de una variable de tipo numérica.\n",
    "Los llamados *boxplot* son gráficas muy útiles ya que nos permiten obtener muchísima información en un mismo gráfico. \n",
    "\n",
    "Nos proporciona la siguiente información:\n",
    "- Media\n",
    "\n",
    "- Mínimo y máximo\n",
    "\n",
    "- Cuartiles_: si bien esto lo veremos más adelante, a modo introductorio los cuartiles son una herramienta que usamos en la estadística y que nos sirve para administrar grupos de datos previamente ordenados. En concreto, los cuartiles son los tres valores de la variable que dividen a un conjunto de datos ordenados en cuatro partes iguales. \n",
    "\n",
    "- Rango intercuartílico: este valor será resultado de quedarnos con una pequeña parte de los datos. \n",
    "\n",
    "- Datos atípicos u *outliers*: son datos cuyos valores son muy diferentes a las otras observaciones del conjunto de datos. \n",
    "\n",
    "![image.png](https://github.com/Adalab/data_imagenes/blob/main/Modulo-2/Visualizacion/boxplot.png?raw=true)\n",
    "\n",
    "De la imagen anterior podemos ver las diferentes partes que forman un diagrama de tipo caja. Algunos de estos conceptos los vamos a ver más en detalle en las lecciones de estadística, pero hagamos una pequeña introducción de estos conceptos: \n",
    "\n",
    "- *Mediana*: la línea de color naranja, es el valor central del conjunto de datos. Es aquel valor que tiene por detrás y por delante de él, el 50 % del resto de los datos. Tambien llamado *Q2* o segundo cuartil.\n",
    "- *Mínimo* y *máximo*: las líneas que se extienden fuera del dibujo central y crea los llamados \"bigotes\". **NOTA: No son los máximos y los mínimos de el conjunto de datos.**\n",
    "    - \"Mínimo\": Q1 - 1.5*IQR\n",
    "    - \"Máximo\": Q3 + 1.5*IQR\n",
    "- *Rango intercuartílico (IQR)*: diferencia entre el Q3 y Q1.\n",
    "\n",
    "- *Cuartiles*:\n",
    "    - *Q1* o 1er cuartil: el 25 % de los datos es menor que o igual a este valor.\n",
    "    - *Q3* o 3er cuartil: el 75 % de los datos es menor o igual a este valor.\n",
    "- *Rango intercuartílico*: diferencia entre el Q3 y Q1.\n",
    "- *Datos atípicos*: datos extremos que se encuentran muy alejados de la mediana o del Q1 o Q3. Estos son de especial interes, ya que pueden implicar que son datos incorrectos o datos interesantes de estudiar, como se alejan del resto de los datos.\n",
    "\n",
    "La sintaxis general para obtener los boxplots es la siguiente:\n",
    "\n",
    "```python\n",
    "\n",
    "    plt.figure()\n",
    "    plt.boxplot(x)\n",
    "    plt.show()\n",
    "```\n",
    "\n",
    "Donde: \n",
    "- `x` = lista de valores, array o variable\n"
   ]
  },
  {
   "cell_type": "markdown",
   "metadata": {},
   "source": [
    "Tomamos el ejemplo anterior de los datos de las edades, solo que ahora tenemos una lista de 1000 edades diferentes."
   ]
  },
  {
   "cell_type": "code",
   "execution_count": 28,
   "metadata": {},
   "outputs": [
    {
     "data": {
      "text/html": [
       "<div>\n",
       "<style scoped>\n",
       "    .dataframe tbody tr th:only-of-type {\n",
       "        vertical-align: middle;\n",
       "    }\n",
       "\n",
       "    .dataframe tbody tr th {\n",
       "        vertical-align: top;\n",
       "    }\n",
       "\n",
       "    .dataframe thead th {\n",
       "        text-align: right;\n",
       "    }\n",
       "</style>\n",
       "<table border=\"1\" class=\"dataframe\">\n",
       "  <thead>\n",
       "    <tr style=\"text-align: right;\">\n",
       "      <th></th>\n",
       "      <th>Id</th>\n",
       "      <th>SepalLengthCm</th>\n",
       "      <th>SepalWidthCm</th>\n",
       "      <th>PetalLengthCm</th>\n",
       "      <th>PetalWidthCm</th>\n",
       "      <th>Species</th>\n",
       "    </tr>\n",
       "  </thead>\n",
       "  <tbody>\n",
       "    <tr>\n",
       "      <th>0</th>\n",
       "      <td>1</td>\n",
       "      <td>5.1</td>\n",
       "      <td>3.5</td>\n",
       "      <td>1.4</td>\n",
       "      <td>0.2</td>\n",
       "      <td>Iris-setosa</td>\n",
       "    </tr>\n",
       "    <tr>\n",
       "      <th>1</th>\n",
       "      <td>2</td>\n",
       "      <td>4.9</td>\n",
       "      <td>3.0</td>\n",
       "      <td>1.4</td>\n",
       "      <td>0.2</td>\n",
       "      <td>Iris-setosa</td>\n",
       "    </tr>\n",
       "    <tr>\n",
       "      <th>2</th>\n",
       "      <td>3</td>\n",
       "      <td>4.7</td>\n",
       "      <td>3.2</td>\n",
       "      <td>1.3</td>\n",
       "      <td>0.2</td>\n",
       "      <td>Iris-setosa</td>\n",
       "    </tr>\n",
       "    <tr>\n",
       "      <th>3</th>\n",
       "      <td>4</td>\n",
       "      <td>4.6</td>\n",
       "      <td>3.1</td>\n",
       "      <td>1.5</td>\n",
       "      <td>0.2</td>\n",
       "      <td>Iris-setosa</td>\n",
       "    </tr>\n",
       "    <tr>\n",
       "      <th>4</th>\n",
       "      <td>5</td>\n",
       "      <td>5.0</td>\n",
       "      <td>3.6</td>\n",
       "      <td>1.4</td>\n",
       "      <td>0.2</td>\n",
       "      <td>Iris-setosa</td>\n",
       "    </tr>\n",
       "  </tbody>\n",
       "</table>\n",
       "</div>"
      ],
      "text/plain": [
       "   Id  SepalLengthCm  SepalWidthCm  PetalLengthCm  PetalWidthCm      Species\n",
       "0   1            5.1           3.5            1.4           0.2  Iris-setosa\n",
       "1   2            4.9           3.0            1.4           0.2  Iris-setosa\n",
       "2   3            4.7           3.2            1.3           0.2  Iris-setosa\n",
       "3   4            4.6           3.1            1.5           0.2  Iris-setosa\n",
       "4   5            5.0           3.6            1.4           0.2  Iris-setosa"
      ]
     },
     "execution_count": 28,
     "metadata": {},
     "output_type": "execute_result"
    }
   ],
   "source": [
    "df_iris.head()"
   ]
  },
  {
   "cell_type": "code",
   "execution_count": 30,
   "metadata": {},
   "outputs": [
    {
     "data": {
      "image/png": "[encoded data removed]",
      "text/plain": [
       "<Figure size 432x288 with 1 Axes>"
      ]
     },
     "metadata": {
      "needs_background": "light"
     },
     "output_type": "display_data"
    }
   ],
   "source": [
    "# establecemos el marco de nuestra gráfica\n",
    "plt.figure()\n",
    "\n",
    "# utilizamos el método hist para hacer el histograma\n",
    "plt.boxplot(x = df_iris[\"PetalLengthCm\"])\n",
    "\n",
    "# mostramos la gráfica\n",
    "plt.show() "
   ]
  },
  {
   "attachments": {},
   "cell_type": "markdown",
   "metadata": {},
   "source": [
    "Entendamos los resultados que estamos viendo en la gráfica: \n",
    "\n",
    "- La línea naranja nos indica la mediana, en nuestro caso está en torno a 4.5, lo que significa que el 50% de nuestras plantas tienen una longitud de pétalo mayor que 4.5 y el otro 50% de las plantas tienen una longitud de pétalo menor que 4.5. \n",
    "\n",
    "- El límite de la caja  por arriba representa el Q3 está en torno a 5, ¿qué quiere decir esto? Qué el 75% de nuestras plantas tienen un tamaño de pétalo menor que 5. \n",
    "\n",
    "- El límite de la caja  por abajo representa el Q2 está en torno a 1.8, ¿qué quiere decir esto? Qué el 25% de nuestras plantas tienen un tamaño de pétalo menor que 1.8. \n",
    "\n",
    "- En este caso, no tenemos valores más alla de los bigotes de la gráfica, es decir, no tenemos valores atípicos. Pero... ¿qué significa esto? Que no tenemos ninguna planta con ningún tamaño de pétalo excesivamente grande o pequeño en nuestro conjunto de datos. \n",
    "\n",
    "\n",
    "Veamos algún ejemplo de variable que tiene estos valores atípicos, como es el caso de la anchura del sépalo 👇🏽: \n",
    "\n"
   ]
  },
  {
   "cell_type": "code",
   "execution_count": 32,
   "metadata": {},
   "outputs": [
    {
     "data": {
      "image/png": "[encoded data removed]",
      "text/plain": [
       "<Figure size 432x288 with 1 Axes>"
      ]
     },
     "metadata": {
      "needs_background": "light"
     },
     "output_type": "display_data"
    }
   ],
   "source": [
    "# establecemos el marco de nuestra gráfica\n",
    "plt.figure()\n",
    "\n",
    "# utilizamos el método hist para hacer el histograma\n",
    "plt.boxplot(x = df_iris[\"SepalWidthCm\"])\n",
    "\n",
    "# mostramos la gráfica\n",
    "plt.show() "
   ]
  },
  {
   "attachments": {},
   "cell_type": "markdown",
   "metadata": {},
   "source": [
    "Como vemos ahora, vemos que ha diferencia con la gráfica anterior es que tenemos algunos puntos fuera de los bigotes, estos puntos son los valores atípicos, en concreto vemos que: \n",
    "\n",
    "- Tenemos 3 puntos por encima del bigote superior: es decir, tenemos 3 plantas que tienen un tamaño de sépalo especialmente grande.\n",
    "\n",
    "- Tenemos 3 puntos por debajo del bigote inferior: es decir, tenemos 1 planta que tiene un tamaño de sépalo especialmente pequeño."
   ]
  },
  {
   "cell_type": "markdown",
   "metadata": {},
   "source": [
    "#### EJERCICIO 9\n",
    "\n",
    "Obtene el boxplot para las diferentes variables de dataset `df_iris`.\n",
    "Recordatorio: No se puede realizar un boxplot para las variables de tipo categórico."
   ]
  },
  {
   "cell_type": "code",
   "execution_count": null,
   "metadata": {},
   "outputs": [],
   "source": [
    "# Solucion Ejercicio 9"
   ]
  },
  {
   "cell_type": "markdown",
   "metadata": {},
   "source": [
    "### Gráficos de sectores o tarta (*pie chart*) <a class=\"anchor\" id=\"section_1_4_2_3\"></a>"
   ]
  },
  {
   "attachments": {},
   "cell_type": "markdown",
   "metadata": {},
   "source": [
    "Los gráficos de sectores (o de quesitos) es otro tipo de gráfica que realiza la representación de los datos en un círculo, donde en función de las frecuencias de datos el valor es representada por una porción del círculo. Logicamente a mayor frecuencia de un valor, mayor será la porción que ocupe en este gráfico.\n",
    "\n",
    "La sintaxis a utilizar es la siguente:\n",
    "\n",
    "```python\n",
    "\n",
    "    plt.figure()\n",
    "    plt.pie(x, labels = x, autopct=formato, radius= num )\n",
    "    plt.show()\n",
    "```\n",
    "Donde:\n",
    "- `x`: lista de valores, array o columna del *dataframe*\n",
    "- `labels`: será cada una de los valores por lo que dividiremos el quesito. Es decir, cada una de las cuñas del quesito.\n",
    "- `autopct`: nos permitirá añadir los porcentajes del total de cada una de las partes del quesito\n",
    "- `radius`: para hacer más grande la figura, aumentamos su radio.\n"
   ]
  },
  {
   "cell_type": "markdown",
   "metadata": {},
   "source": [
    "Imaginemos que ahora tenemos una lista de diferentes edades de alumnas entre 20 y 30 años, y que queremos ver el diagrama de tarta de las edades. Para ello podríamos utilizar el siguiente código."
   ]
  },
  {
   "cell_type": "code",
   "execution_count": 46,
   "metadata": {},
   "outputs": [
    {
     "data": {
      "text/html": [
       "<div>\n",
       "<style scoped>\n",
       "    .dataframe tbody tr th:only-of-type {\n",
       "        vertical-align: middle;\n",
       "    }\n",
       "\n",
       "    .dataframe tbody tr th {\n",
       "        vertical-align: top;\n",
       "    }\n",
       "\n",
       "    .dataframe thead th {\n",
       "        text-align: right;\n",
       "    }\n",
       "</style>\n",
       "<table border=\"1\" class=\"dataframe\">\n",
       "  <thead>\n",
       "    <tr style=\"text-align: right;\">\n",
       "      <th></th>\n",
       "      <th>Id</th>\n",
       "      <th>SepalLengthCm</th>\n",
       "      <th>SepalWidthCm</th>\n",
       "      <th>PetalLengthCm</th>\n",
       "      <th>PetalWidthCm</th>\n",
       "      <th>Species</th>\n",
       "    </tr>\n",
       "  </thead>\n",
       "  <tbody>\n",
       "    <tr>\n",
       "      <th>0</th>\n",
       "      <td>1</td>\n",
       "      <td>5.1</td>\n",
       "      <td>3.5</td>\n",
       "      <td>1.4</td>\n",
       "      <td>0.2</td>\n",
       "      <td>Iris-setosa</td>\n",
       "    </tr>\n",
       "    <tr>\n",
       "      <th>1</th>\n",
       "      <td>2</td>\n",
       "      <td>4.9</td>\n",
       "      <td>3.0</td>\n",
       "      <td>1.4</td>\n",
       "      <td>0.2</td>\n",
       "      <td>Iris-setosa</td>\n",
       "    </tr>\n",
       "  </tbody>\n",
       "</table>\n",
       "</div>"
      ],
      "text/plain": [
       "   Id  SepalLengthCm  SepalWidthCm  PetalLengthCm  PetalWidthCm      Species\n",
       "0   1            5.1           3.5            1.4           0.2  Iris-setosa\n",
       "1   2            4.9           3.0            1.4           0.2  Iris-setosa"
      ]
     },
     "execution_count": 46,
     "metadata": {},
     "output_type": "execute_result"
    }
   ],
   "source": [
    "df_iris.head(2)"
   ]
  },
  {
   "cell_type": "code",
   "execution_count": 47,
   "metadata": {},
   "outputs": [
    {
     "data": {
      "image/png": "[encoded data removed]",
      "text/plain": [
       "<Figure size 432x288 with 1 Axes>"
      ]
     },
     "metadata": {},
     "output_type": "display_data"
    }
   ],
   "source": [
    "# iniciamos la figura\n",
    "plt.figure()\n",
    "\n",
    "# establecemos la gráfica que queremos. En este caso querremos visualizar la anchura del pétalo para cada especie. \n",
    "plt.pie(df_iris[\"PetalWidthCm\"], labels=df_iris[\"Species\"])\n",
    "\n",
    "#mostramos al gráfica\n",
    "plt.show();\n"
   ]
  },
  {
   "attachments": {},
   "cell_type": "markdown",
   "metadata": {},
   "source": [
    "Madre mía!! que ha pasado aquí, no se parece en nada a lo que esperaríamos, y es que, lo que ha pasado es que nos ha generado una porción de quesito para cada una de las filas que tenemos en nuestro dataframe!!!! Esto se puede solucionar con el siguiente código, no hace falta que lo entendáis ya que os lo explicaremos en las siguientes lecciones de Pandas. Basicamente lo que vamos a hacer es agrupar nuestros datos por especies, y calcular la media de su anchura de pétalo. "
   ]
  },
  {
   "cell_type": "code",
   "execution_count": 12,
   "metadata": {},
   "outputs": [
    {
     "data": {
      "text/html": [
       "<div>\n",
       "<style scoped>\n",
       "    .dataframe tbody tr th:only-of-type {\n",
       "        vertical-align: middle;\n",
       "    }\n",
       "\n",
       "    .dataframe tbody tr th {\n",
       "        vertical-align: top;\n",
       "    }\n",
       "\n",
       "    .dataframe thead th {\n",
       "        text-align: right;\n",
       "    }\n",
       "</style>\n",
       "<table border=\"1\" class=\"dataframe\">\n",
       "  <thead>\n",
       "    <tr style=\"text-align: right;\">\n",
       "      <th></th>\n",
       "      <th>Species</th>\n",
       "      <th>PetalWidthCm</th>\n",
       "    </tr>\n",
       "  </thead>\n",
       "  <tbody>\n",
       "    <tr>\n",
       "      <th>0</th>\n",
       "      <td>Iris-setosa</td>\n",
       "      <td>0.244</td>\n",
       "    </tr>\n",
       "    <tr>\n",
       "      <th>1</th>\n",
       "      <td>Iris-versicolor</td>\n",
       "      <td>1.326</td>\n",
       "    </tr>\n",
       "    <tr>\n",
       "      <th>2</th>\n",
       "      <td>Iris-virginica</td>\n",
       "      <td>2.026</td>\n",
       "    </tr>\n",
       "  </tbody>\n",
       "</table>\n",
       "</div>"
      ],
      "text/plain": [
       "           Species  PetalWidthCm\n",
       "0      Iris-setosa         0.244\n",
       "1  Iris-versicolor         1.326\n",
       "2   Iris-virginica         2.026"
      ]
     },
     "execution_count": 12,
     "metadata": {},
     "output_type": "execute_result"
    }
   ],
   "source": [
    "# este código no hace falta que lo entendamos todavía\n",
    "df_petalos = pd.DataFrame(df_iris.groupby(\"Species\")[\"PetalWidthCm\"].mean()).reset_index()\n",
    "df_petalos"
   ]
  },
  {
   "cell_type": "code",
   "execution_count": 13,
   "metadata": {},
   "outputs": [
    {
     "data": {
      "image/png": "[encoded data removed]",
      "text/plain": [
       "<Figure size 432x288 with 1 Axes>"
      ]
     },
     "metadata": {},
     "output_type": "display_data"
    }
   ],
   "source": [
    "# iniciamos la figura\n",
    "plt.figure()\n",
    "\n",
    "# establecemos la gráfica que queremos. En este caso querremos visualizar la anchura del pétalo para cada especie. \n",
    "plt.pie(df_petalos[\"PetalWidthCm\"], labels=df_petalos[\"Species\"], radius= 3)\n",
    "\n",
    "#mostramos al gráfica\n",
    "plt.show();"
   ]
  },
  {
   "attachments": {},
   "cell_type": "markdown",
   "metadata": {},
   "source": [
    "Ahora ya si que tenemos los datos un poco más ordenados, y podemos ver que la especie virginica es la que tiene de media la anchura de pétalo más grande, seguido de versicolor y por último setosa. "
   ]
  },
  {
   "cell_type": "markdown",
   "metadata": {},
   "source": [
    "#### EJERCICIO 10\n",
    "\n",
    "Utilizando de nuevo el conjunto de datos `df_iris`, realiza un gráfico de sectores para cada variable, para los datos pertenecientes a la especie 'setosa'."
   ]
  },
  {
   "cell_type": "code",
   "execution_count": null,
   "metadata": {},
   "outputs": [],
   "source": [
    "# Solucion Ejercicio 10"
   ]
  },
  {
   "attachments": {},
   "cell_type": "markdown",
   "metadata": {},
   "source": [
    "#### Diagrama de violin (*violin plot*) <a class=\"anchor\" id=\"section_1_4_2_4\"></a>\n",
    "\n",
    "Finalmente vamos a explicar el último tipo de gráficas que aprenderemos a realizar en esta lección. Los llamados diagramas de violín son gráficos bastante similares a los boxplot, con la particularidad que ademas, muestran la distribución de frecuencias de los datos.\n",
    "\n",
    "Sería una forma de combinar parte de la información de un boxplot y de un histograma en una única gráfica.\n",
    "\n",
    "La sintaxis general para este tipo de gráficas es:\n",
    "\n",
    "```python\n",
    "    x = lista de valores, array o variable\n",
    "\n",
    "    plt.figure()\n",
    "    plt.violinplot(x, showmedians =True)\n",
    "    plt.show()\n",
    "```\n",
    "\n",
    "Donde: \n",
    "\n",
    "- `x`: lista de valores, array o columna del *dataframe*\n",
    "\n",
    "- `showmedians`: para que en la gráfica nos muestre la mediana\n",
    "\n",
    "- `showmeans`: para que en la gráfica nos muestre la media"
   ]
  },
  {
   "cell_type": "code",
   "execution_count": 61,
   "metadata": {},
   "outputs": [
    {
     "data": {
      "image/png": "[encoded data removed]",
      "text/plain": [
       "<Figure size 432x288 with 1 Axes>"
      ]
     },
     "metadata": {
      "needs_background": "light"
     },
     "output_type": "display_data"
    }
   ],
   "source": [
    "# establecemos el marco de nuestra gráfica\n",
    "plt.figure()\n",
    "\n",
    "# utilizamos el método hist para hacer el histograma\n",
    "plt.violinplot( df_iris[\"SepalWidthCm\"], showmedians= True, showmeans= True)\n",
    "\n",
    "# mostramos la gráfica\n",
    "plt.show() "
   ]
  },
  {
   "attachments": {},
   "cell_type": "markdown",
   "metadata": {},
   "source": [
    "De esta forma podemos ver que nos recuerda a la forma general de un boxplot, aunque ahora **no** nos muestra la informacion del 1er y 3er cuartil, ya que las puntas de los \"bigotes\", nos indican donde se encuentra el valor máximo y el valor mínimo de los datos que se han graficado.\n",
    "\n",
    "A pesar de esto, esta gráfica es muy útil, debido a que en más de una ocasión nos interesará conocer la distribución que siguen los datos, a la hora de hacer predicciones o otro tipo de transformaciones sobre los datos."
   ]
  },
  {
   "cell_type": "markdown",
   "metadata": {},
   "source": [
    "#### EJERCICIO 11\n",
    "\n",
    "Utilizando de nuevo el conjunto de datos `df_iris`, el diagrama de violin para cada una de las variables del dataset."
   ]
  },
  {
   "cell_type": "code",
   "execution_count": null,
   "metadata": {},
   "outputs": [],
   "source": [
    "# Solucion Ejercicio 11"
   ]
  },
  {
   "cell_type": "markdown",
   "metadata": {},
   "source": [
    "A lo largo de esta lección hemos aprendido un monton de formas diversas de realizar todo tipo de gráficas con Python.\n",
    "\n",
    "A pesar de esto, las gráficas obtenidas hasta este punto han sido bastante simples y sin complicaciones, debido a que no hemos prestado atención a las opciones de personalización, leyenda, nombre de los ejes, tipo de marcadores y otras opciones que permiten hacer unas gráficas aún más informativas y que facilitan su interpretación.\n",
    "\n",
    "Esto lo veremos en la siguiente lección!"
   ]
  }
 ],
 "metadata": {
  "kernelspec": {
   "display_name": "base",
   "language": "python",
   "name": "python3"
  },
  "language_info": {
   "codemirror_mode": {
    "name": "ipython",
    "version": 3
   },
   "file_extension": ".py",
   "mimetype": "text/x-python",
   "name": "python",
   "nbconvert_exporter": "python",
   "pygments_lexer": "ipython3",
   "version": "3.9.7"
  },
  "orig_nbformat": 4,
  "vscode": {
   "interpreter": {
    "hash": "f7912e45f56376859e46a323936f3af5ef395502effe5c6049b04a4785be6cad"
   }
  }
 },
 "nbformat": 4,
 "nbformat_minor": 2
}
