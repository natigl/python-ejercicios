{
 "cells": [
  {
   "cell_type": "markdown",
   "metadata": {},
   "source": [
    "# Visualización 2"
   ]
  },
  {
   "cell_type": "markdown",
   "metadata": {},
   "source": [
    "## Tabla de contenídos\n",
    "\n",
    "* [Visualización 2](#chapter1)\n",
    "    * [Importación de los paquetes necesarios](#section_1_1)\n",
    "    * [Parámetros de personalización](#section_1_2)\n",
    "    * [Gráficas con estilos](#section_1_3)\n",
    "        * [Tamaños de las gráficas](#section_1_3_1)\n",
    "        * [Ejes](#section_1_3_2)\n",
    "            * [Título](#section_1_3_3)\n",
    "            * [Etiquetas de los ejes](#section_1_3_4)\n",
    "            * [Límites de los ejes](#section_1_3_5)\n",
    "            * [Cuadrícula](#section_1_3_6)\n",
    "            * [Colores](#section_1_3_8)\n",
    "            * [Leyenda](#section_1_3_7)\n",
    "        * [Marcadores](#section_1_3_9)\n",
    "    * [Multigráficas](#section_1_4)\n",
    "    * [Exportar figuras](#section_1_5)\n"
   ]
  },
  {
   "cell_type": "markdown",
   "metadata": {},
   "source": [
    "## Importación de los paquetes necesarios <a class=\"anchor\" id=\"section_1_1\"></a>"
   ]
  },
  {
   "cell_type": "code",
   "execution_count": 1,
   "metadata": {},
   "outputs": [],
   "source": [
    "import matplotlib.pyplot as plt\n",
    "import numpy as np # Ya que usaremos algunas de sus funciones ;)\n",
    "import pandas as pd\n"
   ]
  },
  {
   "attachments": {},
   "cell_type": "markdown",
   "metadata": {},
   "source": [
    "En la lección de hoy seguiremos trabajando con el csv de Iris que usamos ayer. Para recordad que información teníamos, os dejamos aquí las columnas:\n",
    "\n",
    "\n",
    "- `SepalLengthCm`: nos indica la longitud del sépalo\n",
    "\n",
    "- `SepalWidthCm`: nos indica la ancho del sépalo\n",
    "\n",
    "- `PetalLengthCm`: nos indica la longitud del pétalo\n",
    "\n",
    "- `PetalWidthCm`: nos indica el ancho del pétalo\n",
    "\n",
    "- `Species`: la especie a la que pertenece cada entrada(fila) de nuestro *dataset*"
   ]
  },
  {
   "cell_type": "code",
   "execution_count": 3,
   "metadata": {},
   "outputs": [
    {
     "data": {
      "text/html": [
       "<div>\n",
       "<style scoped>\n",
       "    .dataframe tbody tr th:only-of-type {\n",
       "        vertical-align: middle;\n",
       "    }\n",
       "\n",
       "    .dataframe tbody tr th {\n",
       "        vertical-align: top;\n",
       "    }\n",
       "\n",
       "    .dataframe thead th {\n",
       "        text-align: right;\n",
       "    }\n",
       "</style>\n",
       "<table border=\"1\" class=\"dataframe\">\n",
       "  <thead>\n",
       "    <tr style=\"text-align: right;\">\n",
       "      <th></th>\n",
       "      <th>Id</th>\n",
       "      <th>SepalLengthCm</th>\n",
       "      <th>SepalWidthCm</th>\n",
       "      <th>PetalLengthCm</th>\n",
       "      <th>PetalWidthCm</th>\n",
       "      <th>Species</th>\n",
       "    </tr>\n",
       "  </thead>\n",
       "  <tbody>\n",
       "    <tr>\n",
       "      <th>0</th>\n",
       "      <td>1</td>\n",
       "      <td>5.1</td>\n",
       "      <td>3.5</td>\n",
       "      <td>1.4</td>\n",
       "      <td>0.2</td>\n",
       "      <td>Iris-setosa</td>\n",
       "    </tr>\n",
       "    <tr>\n",
       "      <th>1</th>\n",
       "      <td>2</td>\n",
       "      <td>4.9</td>\n",
       "      <td>3.0</td>\n",
       "      <td>1.4</td>\n",
       "      <td>0.2</td>\n",
       "      <td>Iris-setosa</td>\n",
       "    </tr>\n",
       "    <tr>\n",
       "      <th>2</th>\n",
       "      <td>3</td>\n",
       "      <td>4.7</td>\n",
       "      <td>3.2</td>\n",
       "      <td>1.3</td>\n",
       "      <td>0.2</td>\n",
       "      <td>Iris-setosa</td>\n",
       "    </tr>\n",
       "    <tr>\n",
       "      <th>3</th>\n",
       "      <td>4</td>\n",
       "      <td>4.6</td>\n",
       "      <td>3.1</td>\n",
       "      <td>1.5</td>\n",
       "      <td>0.2</td>\n",
       "      <td>Iris-setosa</td>\n",
       "    </tr>\n",
       "    <tr>\n",
       "      <th>4</th>\n",
       "      <td>5</td>\n",
       "      <td>5.0</td>\n",
       "      <td>3.6</td>\n",
       "      <td>1.4</td>\n",
       "      <td>0.2</td>\n",
       "      <td>Iris-setosa</td>\n",
       "    </tr>\n",
       "  </tbody>\n",
       "</table>\n",
       "</div>"
      ],
      "text/plain": [
       "   Id  SepalLengthCm  SepalWidthCm  PetalLengthCm  PetalWidthCm      Species\n",
       "0   1            5.1           3.5            1.4           0.2  Iris-setosa\n",
       "1   2            4.9           3.0            1.4           0.2  Iris-setosa\n",
       "2   3            4.7           3.2            1.3           0.2  Iris-setosa\n",
       "3   4            4.6           3.1            1.5           0.2  Iris-setosa\n",
       "4   5            5.0           3.6            1.4           0.2  Iris-setosa"
      ]
     },
     "execution_count": 3,
     "metadata": {},
     "output_type": "execute_result"
    }
   ],
   "source": [
    "#cargamos el dataset\n",
    "\n",
    "df_iris = pd.read_csv(\"iris.csv\")\n",
    "df_iris.head()"
   ]
  },
  {
   "cell_type": "markdown",
   "metadata": {},
   "source": [
    "## Parámetros de personalización <a class=\"anchor\" id=\"section_1_2\"></a>"
   ]
  },
  {
   "attachments": {},
   "cell_type": "markdown",
   "metadata": {},
   "source": [
    "Hasta ahora las gráficas que hemos realizado han utilizado los parámetros por defecto de las mismas y apenas hemos prestado atención sobre el título, nombre de los ejes, leyenda, colores de las gráficas, tipos de marcadores, tamaños, o la posibilidad de agrupar más de una gráfica sobre una misma figura.\n",
    "\n",
    "A lo largo de esta lección vamos a profundizar sobre estos aspectos, para sacar toda la potencia posible a las gráficas que realizaremos para que sean lo más informativas y estéticamente agradables.\n",
    "\n",
    "Las partes que explicaremos en esta leccion son los siguientes:\n",
    "\n",
    "- Tamaños de las gráficas\n",
    "- Ejes\n",
    "    - Título\n",
    "    - Etiquetas de los ejes\n",
    "    - Límites de los ejes\n",
    "    - Cuadrícula\n",
    "    - Colores - Categorías coloreadas\n",
    "    - Leyenda\n",
    "    - Tipos de marcadores\n",
    "- Multigráficas\n",
    "- Exportar gráficas"
   ]
  },
  {
   "attachments": {},
   "cell_type": "markdown",
   "metadata": {},
   "source": [
    "## Tamaño de la gráfica <a class=\"anchor\" id=\"section_1_3_1\"></a>\n",
    "\n",
    "En la lección de ayer aprendimos el método `plt.figure` que nos servía para establecer el marco de nuestra figura. Uno de los parámetros que podemos usar dentro de este método es el `figsize`.  Lo tendremos que pasar de la siguiente forma `figsize = (ancho, alto)`. Aquí, ancho y alto serán los números en pulgadas que definan el tamaño de la gráfica.\n",
    "De esta forma nos quedaría lo siguente:\n",
    "\n",
    "```python\n",
    "   plt.figure(figsize =(8,4))\n",
    "```\n",
    "\n",
    "En este caso vamos a hacer un *scatterplot* para las variables de `sepal_length` y `sepal_width`. Recordemos que este gráfico nos permitía ver visualmente la relación entre dos variables numéricas, es decir, trataremos de contestar si existe alguna relación entre la anchura y la longitud de los sépalos. "
   ]
  },
  {
   "cell_type": "code",
   "execution_count": null,
   "metadata": {},
   "outputs": [],
   "source": [
    "# recordamos el df\n",
    "df_iris.head(2)"
   ]
  },
  {
   "cell_type": "code",
   "execution_count": null,
   "metadata": {},
   "outputs": [],
   "source": [
    "# Creamos la gráfica sin establecer un tamaño. plt.figure(figsize =(8,4))\n",
    "plt.figure()\n",
    "\n",
    "plt.scatter(df_iris[\"SepalLengthCm\"], df_iris[\"SepalWidthCm\"])\n",
    "\n",
    "# ponemos nombres a los ejes\n",
    "plt.xlabel(\"sepal_length\")\n",
    "plt.ylabel(\"sepal_width\")\n",
    "\n",
    "# mostramos la gráfica\n",
    "plt.show()"
   ]
  },
  {
   "cell_type": "code",
   "execution_count": null,
   "metadata": {},
   "outputs": [],
   "source": [
    "# Hacemos la misma gráfica pero cambiando el tamaño, usando el parámetro figsize\n",
    "plt.figure(figsize = (10,5))\n",
    "\n",
    "plt.scatter(df_iris[\"SepalLengthCm\"], df_iris[\"SepalWidthCm\"])\n",
    "\n",
    "# ponemos nombres a los ejes\n",
    "plt.xlabel(\"sepal_length\")\n",
    "plt.ylabel(\"sepal_width\")\n",
    "\n",
    "# mostramos la gráfica\n",
    "plt.show()"
   ]
  },
  {
   "attachments": {},
   "cell_type": "markdown",
   "metadata": {},
   "source": [
    "#### EJERCICIO 1\n",
    "\n",
    "Crea una gráfica para representar las variables `PetalLengthCm`\", `PetalWidthCm`. Haz que el tamaño de la gráfica sea de 20 pulgadas de ancho y 10 de alto. Una vez obtenida la gráfica haz una interpretación de ella. "
   ]
  },
  {
   "cell_type": "code",
   "execution_count": null,
   "metadata": {},
   "outputs": [],
   "source": [
    "# Solución Ejercicio 1"
   ]
  },
  {
   "attachments": {},
   "cell_type": "markdown",
   "metadata": {},
   "source": [
    "### Título <a class=\"anchor\" id=\"section_1_3_3\"></a>\n",
    "\n",
    "Por lo general suele ser importante poner un título sobre la gráfica que describa lo que se esta representando, ya que toda persona que vea la gráfica debería de saber sin mucho esfuerzo lo que se le está mostrando.\n",
    "\n",
    "Para añadir un título a un gráfico deberemos hacer uso de la siguiente instrucción:\n",
    "\n",
    "```python\n",
    "    plt.title(label='titulo de la gráfica')\n",
    "```\n",
    "\n",
    "Basándonos en la gráfica que hemos creado en el paso anterior, vamos a añadir un título a nuestra gráfica"
   ]
  },
  {
   "cell_type": "code",
   "execution_count": null,
   "metadata": {},
   "outputs": [],
   "source": [
    "# Hacemos la misma gráfica pero cambiando el tamaño\n",
    "plt.figure(figsize = (10,5))\n",
    "\n",
    "plt.scatter(df_iris[\"SepalLengthCm\"], df_iris[\"SepalWidthCm\"])\n",
    "\n",
    "# ponemos nombres a los ejes\n",
    "plt.xlabel(\"sepal_length\")\n",
    "plt.ylabel(\"sepal_width\")\n",
    "\n",
    "# establecemos el título\n",
    "plt.title(label = \"Gráfica de dispersion de los sépalos\")\n",
    "\n",
    "# mostramos la gráfica\n",
    "plt.show()"
   ]
  },
  {
   "attachments": {},
   "cell_type": "markdown",
   "metadata": {},
   "source": [
    "#### EJERCICIO 2\n",
    "\n",
    "A la gráfica anterior añadele un título. "
   ]
  },
  {
   "cell_type": "code",
   "execution_count": null,
   "metadata": {},
   "outputs": [],
   "source": [
    "# Solución Ejercicio 2"
   ]
  },
  {
   "attachments": {},
   "cell_type": "markdown",
   "metadata": {},
   "source": [
    "### Límites de los ejes <a class=\"anchor\" id=\"section_1_3_5\"></a>\n",
    "\n",
    "Asímismo a la hora de realizar las figuras podemos querer mostrar únicamente una parte de la figura. Para ello vamos a diminuir o aumentar la longitud de los ejes.\n",
    "\n",
    "Para poder realizar esto haremos uso de las siguientes instrucciones:\n",
    "\n",
    "```python\n",
    "    plt.xlim([,])\n",
    "    plt.ylim([,])\n",
    "```\n",
    "Donde en `[,]` escribiremos el rango que deseamos mostrar.\n",
    "\n",
    "Sigamos componiendo nuestra gráfica, nuestros valores originales iban: \n",
    "\n",
    "- En el eje x: de 4 a 8\n",
    "\n",
    "- En el eje y: de 2 a 4.5"
   ]
  },
  {
   "cell_type": "code",
   "execution_count": null,
   "metadata": {},
   "outputs": [],
   "source": [
    "df_iris.head()"
   ]
  },
  {
   "cell_type": "code",
   "execution_count": null,
   "metadata": {},
   "outputs": [],
   "source": [
    "# Hacemos la misma gráfica pero cambiando el tamaño\n",
    "plt.figure(figsize = (10,5))\n",
    "\n",
    "plt.scatter(df_iris[\"SepalLengthCm\"], df_iris[\"SepalWidthCm\"])\n",
    "\n",
    "# ponemos nombres a los ejes\n",
    "plt.xlabel(\"sepal_length\")\n",
    "plt.ylabel(\"sepal_width\")\n",
    "\n",
    "# establecemos el título\n",
    "plt.title(label = \"Gráfica de dispersion de los sépalos\")\n",
    "\n",
    "# en este caso vamos a ampliar los límites de los ejes\n",
    "plt.xlim(2,10) # cambiamos el eje x\n",
    "plt.ylim(0,8) # cambiamos el eje y\n",
    "\n",
    "# mostramos la gráfica\n",
    "plt.show()"
   ]
  },
  {
   "attachments": {},
   "cell_type": "markdown",
   "metadata": {},
   "source": [
    "Si os fijais es como si estuvieramos haciendo un zoom de la figura, en este caso hemos ampliado la vista de la gráfic, de la misma forma que lo podemos hacer en un sentido, lo podemos hacer en el otro. Veamos un ejemplo: "
   ]
  },
  {
   "cell_type": "code",
   "execution_count": null,
   "metadata": {},
   "outputs": [],
   "source": [
    "# Hacemos la misma gráfica pero cambiando el tamaño\n",
    "plt.figure(figsize = (10,5))\n",
    "\n",
    "plt.scatter(df_iris[\"SepalLengthCm\"], df_iris[\"SepalWidthCm\"])\n",
    "\n",
    "# ponemos nombres a los ejes\n",
    "plt.xlabel(\"sepal_length\")\n",
    "plt.ylabel(\"sepal_width\")\n",
    "\n",
    "# establecemos el título\n",
    "plt.title(\"Gráfica de dispersion de los sépalos\")\n",
    "\n",
    "# en este caso vamos a ampliar los límites de los ejes\n",
    "plt.xlim(5,7) # cambiamos el eje x\n",
    "plt.ylim(3,4) # cambiamos el eje y\n",
    "\n",
    "# mostramos la gráfica\n",
    "plt.show()"
   ]
  },
  {
   "attachments": {},
   "cell_type": "markdown",
   "metadata": {},
   "source": [
    "#### EJERCICIO 3\n",
    "\n",
    "Basándonos en la gráfica creada en el ejericicio 1, añade los nombres a los ejes (lo aprendimos en la lección de ayer), para mostar qué se está representando en cada uno de los ejes.\n",
    "Adicionalmente añade los límites a los ejes para que estos se limiten a estos rangos:\n",
    "\n",
    "* Rango X: 4 - 9\n",
    "* Rango Y: 2 - 4.5"
   ]
  },
  {
   "cell_type": "code",
   "execution_count": null,
   "metadata": {},
   "outputs": [],
   "source": [
    "# Solución Ejercicio 3"
   ]
  },
  {
   "attachments": {},
   "cell_type": "markdown",
   "metadata": {},
   "source": [
    "### Cuadrícula <a class=\"anchor\" id=\"section_1_3_6\"></a>\n",
    "\n",
    "Si ahora deseamos mostar en el fondo de la figura una cuadrícula, para hacer más sencilla la interpretacion de las escalas de los ejes, podemos añadir la siguiente instrucción a la hora de realizar la gráfica:\n",
    "\n",
    "```python\n",
    "    plt.grid()\n",
    "```\n",
    "\n",
    "Donde podemos incluir algunas preferencias tales como:\n",
    "- color,\n",
    "- tipo de línea,\n",
    "- sobre qué ejes queremos mostar la cuadrícula,\n",
    "- tamaño,\n",
    "- etc.\n",
    "\n",
    "Para ello añadiríamos estos argumentos sobre la instrucción utilizada a la hora de representar la cuadrícula:\n",
    "\n",
    "```python\n",
    "    plt.grid(color = '' , linestyle= '',linewidth = 2)\n",
    "```\n",
    "\n",
    "Donde:\n",
    "- `color = ''` sirve para definir el color que deseamos. Introducimos la primera letra del color en inglés o el nombre completo del color.\n",
    "    Ejemplos: \n",
    "    - Rojo: `'r'` \n",
    "    - Azul: `'b'`\n",
    "    - Verde: `'g'`\n",
    "    - Violeta: `'violet'`\n",
    "\n",
    "- `linestyle= ''` sirve para mostar el tipo de línea que deseamos dibujar. Algunas de las opciones disponibles serían:\n",
    "\n",
    "    Ejemplos:\n",
    "    - `'-'` o `'solid'`: línea sólida\n",
    "    - `'--'` o `'dashed'`: línea punteada con líneas\n",
    "    - `'-.'` o `'dashdot'`: línea solida y con puntos\n",
    "    - `':'` o `'dotted'`: línea punteada con puntos\n",
    "\n",
    "- `linewidth = 2` es el valor numérico para la anchura de la línea.\n",
    "\n",
    "Para ver en detalle todas las opciones de configuración de los ejes os dejamos [este](https://matplotlib.org/stable/api/_as_gen/matplotlib.axes.Axes.grid.html?highlight=grid) link\n",
    "\n",
    "Vamos a completar más nuestra gráfica añadiendo la cuadrícula"
   ]
  },
  {
   "cell_type": "code",
   "execution_count": null,
   "metadata": {},
   "outputs": [],
   "source": [
    "# Hacemos la misma gráfica pero cambiando el tamaño\n",
    "plt.figure(figsize = (10,5))\n",
    "\n",
    "plt.scatter(df_iris[\"SepalLengthCm\"], df_iris[\"SepalWidthCm\"])\n",
    "\n",
    "# ponemos nombres a los ejes\n",
    "plt.xlabel(\"sepal_length\")\n",
    "plt.ylabel(\"sepal_width\")\n",
    "\n",
    "# establecemos el título\n",
    "plt.title(\"Gráfica de dispersion de los sépalos\")\n",
    "\n",
    "# en este caso vamos a ampliar los límites de los ejes\n",
    "plt.xlim(4,8) # cambiamos el eje x\n",
    "plt.ylim(2,5) # cambiamos el eje y\n",
    "\n",
    "# establecemos la cuadrícula\n",
    "plt.grid()\n",
    "\n",
    "# mostramos la gráfica\n",
    "plt.show()"
   ]
  },
  {
   "cell_type": "code",
   "execution_count": null,
   "metadata": {},
   "outputs": [],
   "source": [
    "# Hacemos la misma gráfica pero cambiando el color de la cuadrícula\n",
    "plt.figure(figsize = (10,5))\n",
    "\n",
    "plt.scatter(df_iris[\"SepalLengthCm\"], df_iris[\"SepalWidthCm\"])\n",
    "\n",
    "# ponemos nombres a los ejes\n",
    "plt.xlabel(\"sepal_length\")\n",
    "plt.ylabel(\"sepal_width\")\n",
    "\n",
    "# establecemos el título\n",
    "plt.title(\"Gráfica de dispersion de los sépalos\")\n",
    "\n",
    "# en este caso vamos a ampliar los límites de los ejes\n",
    "plt.xlim(4,8) # cambiamos el eje x\n",
    "plt.ylim(2,5) # cambiamos el eje y\n",
    "\n",
    "# establecemos la cuadrícula y la ponemos de color violeta\n",
    "plt.grid(color = \"violet\", linestyle = \"-.\")\n",
    "\n",
    "# mostramos la gráfica\n",
    "plt.show()"
   ]
  },
  {
   "attachments": {},
   "cell_type": "markdown",
   "metadata": {},
   "source": [
    "#### EJERCICIO 4\n",
    "Continuando con la misma gráfica del ejercicio anterior añade la cuadrícula de color negro, con lineas punteadas y de anchura 0.5."
   ]
  },
  {
   "cell_type": "code",
   "execution_count": null,
   "metadata": {},
   "outputs": [],
   "source": [
    "# Solución Ejercicio 4"
   ]
  },
  {
   "attachments": {},
   "cell_type": "markdown",
   "metadata": {},
   "source": [
    "### Colores <a class=\"anchor\" id=\"section_1_3_8\"></a>\n",
    "\n",
    "\n",
    "Esto ya lo anticipamos en la lección anterior, pero recordemoslo hoy de nuevo, el atributo de color nos permite cambiar los colores de los objetos representado. Para hacer uso de este atributo deberemos añadir en la función del tipo de gráfica que estemos realizando el atributo siguiente:\n",
    "\n",
    "    `c` (o `color`) `= 'Nombre_del_color'`\n",
    "\n",
    "Vamos a ver como especificaríamos este atributo para algunas de las gráficas que explicamos en la lección anterior:\n",
    "\n",
    "```python\n",
    "    - plot(x, y, color ='r') # o de forma alternativa plot(x, y, c ='r')\n",
    "    - bar(x, y, color ='blue')\n",
    "    - scatter(x,y, c(or color)='yellow')\n",
    "    - hist(x, color ='green')\n",
    "```\n",
    "\n",
    "Mostramos ahora el ejemplo de como colorear un gráfico:"
   ]
  },
  {
   "cell_type": "code",
   "execution_count": null,
   "metadata": {},
   "outputs": [],
   "source": [
    "# Hacemos la misma gráfica pero cambiando el tamaño\n",
    "plt.figure(figsize = (10,5))\n",
    "\n",
    "# cambiamos el color de los puntos\n",
    "plt.scatter(df_iris[\"SepalLengthCm\"], df_iris[\"SepalWidthCm\"])\n",
    "\n",
    "# ponemos nombres a los ejes\n",
    "plt.xlabel(\"sepal_length\")\n",
    "plt.ylabel(\"sepal_width\")\n",
    "\n",
    "# establecemos el título\n",
    "plt.title(\"Gráfica de dispersion de los sépalos\")\n",
    "\n",
    "# en este caso vamos a ampliar los límites de los ejes\n",
    "plt.xlim(4,8) # cambiamos el eje x\n",
    "plt.ylim(2,5) # cambiamos el eje y\n",
    "\n",
    "# establecemos la cuadrícula y la ponemos de color violeta\n",
    "plt.grid(color = \"violet\", linestyle = \"-.\")\n",
    "\n",
    "# mostramos la gráfica\n",
    "plt.show()"
   ]
  },
  {
   "attachments": {},
   "cell_type": "markdown",
   "metadata": {},
   "source": [
    "Hasta ahora estabamos haciendo un *scatterplot* donde no estabamos teniendo en cuenta cada una de las especies. Imaginaos ahora que queremos hacer la misma gráfica, pero en este caso queremos que cada especie aparezca en un color, para esto necesitaremos: \n",
    "\n",
    "- Crear un diccionario donde especifiquemos que color queremos para cada categoría \n",
    "\n",
    "- Usar el parámetro `c` cuando definimos la gráfica que nos ayudará a asignar los colores. "
   ]
  },
  {
   "cell_type": "code",
   "execution_count": null,
   "metadata": {},
   "outputs": [],
   "source": [
    "df_iris.Species.unique()"
   ]
  },
  {
   "cell_type": "code",
   "execution_count": null,
   "metadata": {},
   "outputs": [],
   "source": [
    "# Hacemos la misma gráfica pero cambiando el tamaño\n",
    "plt.figure(figsize = (10,5))\n",
    "\n",
    "# creamos un diccionario donde establecemos los colores que vamos a querer para cada una de las especies. \n",
    "colors = {'Iris-virginica':'blue', 'Iris-setosa':'orange', 'Iris-versicolor':'green'}\n",
    "\n",
    "\n",
    "# cambiamos el color de los puntos. para cambiar la opacidad del color usaremos el parámetro \"alpha\"\n",
    "plt.scatter(df_iris[\"SepalLengthCm\"], df_iris[\"SepalWidthCm\"],  c= df_iris['Species'].map(colors) , alpha = 0.8)\n",
    "\n",
    "# ponemos nombres a los ejes\n",
    "plt.xlabel(\"sepal_length\")\n",
    "plt.ylabel(\"sepal_width\")\n",
    "\n",
    "# establecemos el título\n",
    "plt.title(\"Gráfica de dispersion de los sépalos\")\n",
    "\n",
    "# en este caso vamos a ampliar los límites de los ejes\n",
    "plt.xlim(4,8) # cambiamos el eje x\n",
    "plt.ylim(2,5) # cambiamos el eje y\n",
    "\n",
    "# establecemos la cuadrícula y la ponemos de color violeta\n",
    "plt.grid(color = \"violet\", linestyle = \"-.\")\n",
    "\n",
    "# mostramos la gráfica\n",
    "plt.show()"
   ]
  },
  {
   "attachments": {},
   "cell_type": "markdown",
   "metadata": {},
   "source": [
    "Mostramos ahora un ejemplo para un *boxplot*, y fijaos que podremos usar los mismos métodos que hemos ido aprendiendo en toda la lección:"
   ]
  },
  {
   "cell_type": "code",
   "execution_count": null,
   "metadata": {},
   "outputs": [],
   "source": [
    "# Hacemos la misma gráfica pero cambiando el tamaño\n",
    "plt.figure(figsize = (10,5))\n",
    "\n",
    "# cambiamos el color de los puntos\n",
    "plt.hist(df_iris[\"SepalLengthCm\"], color = \"grey\")\n",
    "\n",
    "# ponemos nombres a los ejes\n",
    "plt.ylabel(\"sepal_length\")\n",
    "\n",
    "# establecemos el título\n",
    "plt.title(\"Histograma \")\n",
    "\n",
    "# establecemos la cuadrícula y la ponemos de color violeta\n",
    "plt.grid(color = \"violet\", linestyle = \"-.\")\n",
    "\n",
    "# mostramos la gráfica\n",
    "plt.show()"
   ]
  },
  {
   "attachments": {},
   "cell_type": "markdown",
   "metadata": {},
   "source": [
    "#### EJERCICIO 5\n",
    "A la gráfica del ejercicio 4 cambiale la cuadrícula a color negro, con líneas punteadas y de anchura 0.5.\n"
   ]
  },
  {
   "cell_type": "code",
   "execution_count": null,
   "metadata": {},
   "outputs": [],
   "source": [
    "# Solución Ejercicio 5"
   ]
  },
  {
   "attachments": {},
   "cell_type": "markdown",
   "metadata": {},
   "source": [
    "### Leyenda <a class=\"anchor\" id=\"section_1_3_8\"></a>\n",
    "\n",
    "La leyenda de una gráfica nos permite identificar con claridad los diferentes conjuntos de datos representados en una gráfica. Esto resulta extremadamente útil cuando estamos representando más de un conjunto de datos sobre una misma gráfica, ya que de un vistazo nos permite identificar los diferentes grupos, variables o elementos representandos.\n",
    "\n",
    "La sintaxis general para incluir una leyenda en un gráfico es la siguente:\n",
    "\n",
    "```python\n",
    "    plt.legend()\n",
    "```\n",
    "\n",
    "De forma automática debería listar los nombres de las variables representadas, no obstante si se desea tener mayor control, se puede escribir el nombre de las etiquetas que se desean representar añadiendo lo siguiente:\n",
    "\n",
    "```python\n",
    "    plt.legend(labels =['label1','label2',...])\n",
    "```\n",
    "\n",
    "Nota: En la anterior lección ya se utilizó este argumento, sin hacer hincapié en él, para cuando se mostraron los diagramas barras apiladas y cuando se mostraron dos diagramas de barras lado a lado.\n",
    "\n",
    "**NOTA** Incluir la leyenda en *matplotlib* puede resultar algo complejo y poco práctico. Os mostramos el código pero os preocupéis si no lo entendéis del todo. Mañana aprenderemos una nueva herramienta de visualización que nos permitirá hacer esto de una forma mucho más sencilla!"
   ]
  },
  {
   "cell_type": "code",
   "execution_count": null,
   "metadata": {},
   "outputs": [],
   "source": [
    "\n",
    "# iniciamos nuestra gráfica con un tamaño deseado\n",
    "plt.figure(figsize = (15,5))\n",
    "\n",
    "# establcemos los datos que vamos a querer visualizar. Como son dos variables las que queremos visualizar tendremos que hacer dos barplots\n",
    "plt.bar(df_iris[\"Species\"],df_iris[\"PetalLengthCm\"], bottom= df_iris[\"SepalLengthCm\"], label = 'petal', color = \"grey\")\n",
    "plt.bar(df_iris[\"Species\"],df_iris[\"SepalLengthCm\"],label = 'sepal', color = \"whitesmoke\")\n",
    "\n",
    "\n",
    "# especificamos que queremos que nos muestre la leyenda\n",
    "plt.legend()\n",
    "\n",
    "# mostramos al gráfica\n",
    "plt.show()"
   ]
  },
  {
   "cell_type": "markdown",
   "metadata": {},
   "source": [
    "## Marcadores <a class=\"anchor\" id=\"section_1_3_9\"></a>\n",
    "\n",
    "Finalmente vamos a hablar ahora de los marcadores, siendo estos los iconos que representan los datos dibujados. Por ejemplo, en los diagramas de dispersión por defecto el marcador es un círculo, como se ha podido ver en los ejemplos anteriores.\n",
    "\n",
    "Los tipos de marcadores son personalizables para las gráficas de tipo:\n",
    "\n",
    "- plot\n",
    "- scatter\n",
    "- errorbar (no se ha explicado, se utiliza para mostar la barras de error de los datos)\n",
    "\n",
    "Únicamente tiene sentido para aquellas gráficas en la que representemos los diferentes puntos de los datos. Por ejemplo, sería incoherente querer mostrar los marcadores en una gráfica de barras o un diagrama de sectores.\n",
    "\n",
    "Por un lado, podemos personalizar el tamaño del marcador, haciendo uso de la siguiente instrucción, dentro del tipo de gráfica que estemos realizando:\n",
    "\n",
    "```python\n",
    "    - plot(x, y, markersize = valor_numérico) \n",
    "    - scatter(x,y,s= valor_numérico)\n",
    "```\n",
    "\n",
    "Por otro, si queremos personalizar el tipo de marcador, tomando un marcador de la siguiente lista:\n",
    "\n",
    "|Marcador| Descripción|\n",
    "|----|-----|\n",
    "|\".\"|Punto|\n",
    "|\",\" |Pixel|\n",
    "|\"o\" |Cirulo|\n",
    "|\"v\" |Triángulo abajo|\n",
    "|\"^\" |Triángulo arriba|\n",
    "|\"<\" |Triángulo izquierda|\n",
    "|\">\" |Triángulo derecha|\n",
    "|\"8\" |Octágono|\n",
    "|\"s\" |Cuadrado|\n",
    "|\"p\" |Pentágono|\n",
    "|\"P\" |Más (relleno)|\n",
    "|\"*\" |Estrella|\n",
    "|\"h\" |Hexágono 1|\n",
    "|\"H\" |Hexágono 2|\n",
    "|\"+\" |Más|\n",
    "|\"x\" |x|\n",
    "|\"X\" |x (relleno)|\n",
    "|\"D\" |Diamante|\n",
    "|\"d\" | Diamante fino|\n"
   ]
  },
  {
   "cell_type": "code",
   "execution_count": null,
   "metadata": {},
   "outputs": [],
   "source": [
    "df_iris.head()"
   ]
  },
  {
   "cell_type": "code",
   "execution_count": null,
   "metadata": {},
   "outputs": [],
   "source": [
    "\n",
    "# Hacemos la misma gráfica pero cambiando el tamaño\n",
    "plt.figure(figsize = (10,5))\n",
    "\n",
    "# creamos un diccionario donde establecemos los colores que vamos a querer para cada una de las especies. \n",
    "colors = {'Iris-virginica':'blue', 'Iris-setosa':'orange', 'Iris-versicolor':'green'}\n",
    "\n",
    "\n",
    "# cambiamos el color de los puntos. añadimos el parámetro \"marker\" para cambiar el marcador\n",
    "plt.scatter(df_iris[\"SepalLengthCm\"], df_iris[\"SepalWidthCm\"], marker = 'v', c= df_iris['Species'].map(colors) , alpha = 0.8 )\n",
    "\n",
    "# ponemos nombres a los ejes\n",
    "plt.xlabel(\"sepal_length\")\n",
    "plt.ylabel(\"sepal_width\")\n",
    "\n",
    "# establecemos el título\n",
    "plt.title(\"Gráfica de dispersion de los sépalos\")\n",
    "\n",
    "# en este caso vamos a ampliar los límites de los ejes\n",
    "plt.xlim(4,8) # cambiamos el eje x\n",
    "plt.ylim(2,5) # cambiamos el eje y\n",
    "\n",
    "# establecemos la cuadrícula y la ponemos de color violeta\n",
    "plt.grid(color = \"violet\", linestyle = \"-.\")\n",
    "\n",
    "\n",
    "# mostramos la gráfica\n",
    "plt.show()"
   ]
  },
  {
   "attachments": {},
   "cell_type": "markdown",
   "metadata": {},
   "source": [
    "Como se puede ver en la gráfica anterior, ahora a parte de la línea que forman los puntos para cada gráfico, se muestra la posición exacta de cada punto representado con un marcador diferente del que habíamos estado usando hasta ahora."
   ]
  },
  {
   "attachments": {},
   "cell_type": "markdown",
   "metadata": {},
   "source": [
    "#### EJERCICIO 6\n",
    "\n",
    "Cambia los marcadores de la gráfica del ejercicio 5 al que más te guste. "
   ]
  },
  {
   "cell_type": "code",
   "execution_count": null,
   "metadata": {},
   "outputs": [],
   "source": [
    "# Solución Ejercicio 6"
   ]
  },
  {
   "cell_type": "markdown",
   "metadata": {},
   "source": [
    "Existen multitud de formas adicionales de personalizar las gráficas que se realizen con Matplotlib, de todas formas hemos hecho un resumen de las más comunes e importantes.\n",
    "\n",
    "En la documentación de Matplotlib se puede encontar más detalles sobre las opciones explicadas y opciones adicionales."
   ]
  },
  {
   "attachments": {},
   "cell_type": "markdown",
   "metadata": {},
   "source": [
    "## Multigráficas <a class=\"anchor\" id=\"section_1_4\"></a>\n",
    "\n",
    "Hasta ahora hemos explicado cómo realizar gráficas de forma independientes una de otras, pero Matplotlib es muy versátil y también nos permite incluir en la misma figura más de una gráfica.\n",
    "\n",
    "Para ello vamos a explicar ahora en más detalle como funciona la instrucción de \n",
    "\n",
    "```python\n",
    "    plt.subplots()\n",
    "```\n",
    "\n",
    "que hemos venido utilizando hasta ahora, sin entender exactamente su funcionamiento.\n",
    "\n",
    "De esta forma en subplot podemos incluir lo siguiente para mostrar más de una gráfica:\n",
    "\n",
    "```python\n",
    "    plt.subplots((numero_filas, numero_columnas), figsize= (ancho,alto)))\n",
    "```\n",
    "\n",
    "Por ejemplo si quisieramos representar 2 gráficas una al lado de la otra, podríamos escribir lo siguiente:\n",
    "\n",
    "```python\n",
    "    fig, ax = plt.subplots((2, 2), figsize= (8,4)))\n",
    "```\n",
    "\n",
    "Así mismo podríamos querer personalizar las etiquetas, títulos, etc de cada una de las gráficas.\n",
    "\n",
    "Imaginemos ahora que queremos hacer dos *scatterplots*: \n",
    "\n",
    "- El primero será como el primero que hemos estado construyendo hasta ahora, relacionando `sepal_length` y `sepal_width`\n",
    "\n",
    "- En el segundo querremos establecer la relación entre `petal_length` y `petal_width`. \n",
    "\n",
    "Con lo que hemos aprendido hasta ahora lo podríamos hacer, haciendo las gráficas por separado. Para eso usaremos el método `plt.subplots()`. Veamos un ejemplo: \n"
   ]
  },
  {
   "cell_type": "code",
   "execution_count": null,
   "metadata": {},
   "outputs": [],
   "source": [
    "# establacemos nuestra gráfica que va a estar compuesta por dos figuras\n",
    "fig,ax = plt.subplots(1,2)\n",
    "\n",
    "# mostramos lo que nos devuelve esto: \n",
    "plt.show()"
   ]
  },
  {
   "attachments": {},
   "cell_type": "markdown",
   "metadata": {},
   "source": [
    "Si nos fijamos, el objeto *subplots* nos devuelve dos gráficas vacías, porque todavía no le hemos especificado que es lo que queremos en cada una de ellas. ¿Cómo le diremos que es lo que queremos en cada una? Usando indices!!! Pero antes de desarrollar más esto veamos que es eso de fig y ax. "
   ]
  },
  {
   "cell_type": "code",
   "execution_count": null,
   "metadata": {},
   "outputs": [],
   "source": [
    "# visualizamos que es fig. Es toda la figura al completo, hasta ahora teniamos un unico marco cuando hacíamos plt.figure. Ahora tenemos un marco más grande con dos marcos pequeñitos dentro. \n",
    "fig"
   ]
  },
  {
   "cell_type": "code",
   "execution_count": null,
   "metadata": {},
   "outputs": [],
   "source": [
    "# visualizamos que es ax. Esto es un array de numpy que corresponde cada uno de los elementos a un subplot de nuestra gráfica. \n",
    "ax"
   ]
  },
  {
   "cell_type": "code",
   "execution_count": null,
   "metadata": {},
   "outputs": [],
   "source": [
    "# utilizando los distintos elementos del array \"ax\" iremos definiendo nuestras gráficas\n",
    "# establacemos nuestra gráfica que va a estar compuesta por dos figuras\n",
    "fig,ax = plt.subplots(1,2)\n",
    "\n",
    "\n",
    "# creamos un diccionario donde establecemos los colores que vamos a querer para cada una de las especies. \n",
    "colors = {'Iris-virginica':'blue', 'Iris-setosa':'orange', 'Iris-versicolor':'green'}\n",
    "\n",
    "\n",
    "# en el array 0 de nuestro ax querremos la siguiente gráfica\n",
    "ax[0].scatter(df_iris[\"SepalLengthCm\"], df_iris[\"SepalWidthCm\"], marker = 'v', c= df_iris['Species'].map(colors) , alpha = 0.8 )\n",
    "\n",
    "\n",
    "# en el array 1 de nuestro ax querremos la siguiente gráfica\n",
    "ax[1].scatter(df_iris[\"PetalLengthCm\"], df_iris[\"PetalWidthCm\"], marker = 'h', c= df_iris['Species'].map(colors) , alpha = 0.8 )\n",
    "\n",
    "# mostramos lo que nos devuelve esto: \n",
    "plt.show()\n"
   ]
  },
  {
   "attachments": {},
   "cell_type": "markdown",
   "metadata": {},
   "source": [
    "Como veis hemos conseguido tener dos figuras en una única gráfica. Ahora nos puede surgir la duda, ¿podemos cambiar el título de las gráficas pequeñas? ¿Y el tamaño de la gráfica en general? ¿Y ponerle nombre a los ejes? \n",
    "\n",
    "Veamos como hacerlo: "
   ]
  },
  {
   "cell_type": "code",
   "execution_count": null,
   "metadata": {},
   "outputs": [],
   "source": [
    "# utilizando los distintos elementos del array \"ax\" iremos definiendo nuestras gráficas\n",
    "# establacemos nuestra gráfica que va a estar compuesta por dos figuras\n",
    "# añadimos el parámetro figsize para establecer el tamaño de la gráfica\n",
    "fig,ax = plt.subplots(1,2, figsize =( 15,5))\n",
    "\n",
    "\n",
    "# creamos un diccionario donde establecemos los colores que vamos a querer para cada una de las especies. \n",
    "colors = {'Iris-virginica':'blue', 'Iris-setosa':'orange', 'Iris-versicolor':'green'}\n",
    "\n",
    "\n",
    "# en el array 0 de nuestro ax querremos la siguiente gráfica\n",
    "ax[0].scatter(df_iris[\"SepalLengthCm\"], df_iris[\"SepalWidthCm\"], marker = 'v', c= df_iris['Species'].map(colors) , alpha = 0.8 )\n",
    "\n",
    "\n",
    "# en el array 1 de nuestro ax querremos la siguiente gráfica\n",
    "ax[1].scatter(df_iris[\"PetalLengthCm\"], df_iris[\"PetalWidthCm\"], marker = 'h', c= df_iris['Species'].map(colors) , alpha = 0.8 )\n",
    "\n",
    "\n",
    "# para poner los títulos usaremos el método set_title\n",
    "ax[0].set_title(\"Gráfico dispersión sépalos\")\n",
    "ax[1].set_title(\"Gráfico dispersión pétalos\")\n",
    "\n",
    "# cambiamos el nombre de los ejes x e y\n",
    "ax[0].set_xlabel(\"sepal_length\")\n",
    "ax[0].set_ylabel(\"sepal_width\")\n",
    "\n",
    "ax[1].set_xlabel(\"sepal_length\")\n",
    "ax[1].set_ylabel(\"sepal_width\")\n",
    "\n",
    "# cambiamos los valores de los ejes:\n",
    "ax[1].set_xlim(0,8)\n",
    "ax[1].set_ylim(-1,3)\n",
    "\n",
    "# mostramos lo que nos devuelve esto: \n",
    "plt.show()"
   ]
  },
  {
   "attachments": {},
   "cell_type": "markdown",
   "metadata": {},
   "source": [
    "¿Qué pasaría si quisieramos tener una figura que tiviera varias filas y varias columnas? Veamos un ejemplo: "
   ]
  },
  {
   "cell_type": "code",
   "execution_count": null,
   "metadata": {},
   "outputs": [],
   "source": [
    "# utilizando los distintos elementos del array \"ax\" iremos definiendo nuestras gráficas\n",
    "# establacemos nuestra gráfica que va a estar compuesta por 4 figuras\n",
    "# añadimos el parámetro figsize para establecer el tamaño de la gráfica\n",
    "fig,ax = plt.subplots(2,2, figsize =( 15,5))\n",
    "\n",
    "# creamos un diccionario donde establecemos los colores que vamos a querer para cada una de las especies. \n",
    "colors = {'Iris-virginica':'blue', 'Iris-setosa':'orange', 'Iris-versicolor':'green'}\n",
    "\n",
    "\n",
    "# en el array 0 de nuestro ax querremos la siguiente gráfica\n",
    "ax[0][0].scatter(df_iris[\"SepalLengthCm\"], df_iris[\"SepalWidthCm\"], marker = 'v', c= df_iris['Species'].map(colors) , alpha = 0.8 )\n",
    "\n",
    "\n",
    "# en el array 1 de nuestro ax querremos la siguiente gráfica\n",
    "ax[0][1].scatter(df_iris[\"PetalLengthCm\"], df_iris[\"PetalWidthCm\"], marker = 'h', c= df_iris['Species'].map(colors) , alpha = 0.8 )\n",
    "\n",
    "\n",
    "# en el array de la fila 1 y la columna 0 de nuestro ax querremos la siguiente gráfica\n",
    "ax[1][0].scatter(df_iris[\"PetalLengthCm\"], df_iris[\"SepalLengthCm\"], marker = 'h', c= df_iris['Species'].map(colors) , alpha = 0.8 )\n",
    "\n",
    "\n",
    "# en el array de la fila 1 y la columna 1 de nuestro ax querremos la siguiente gráfica\n",
    "ax[1][1].scatter(df_iris[\"PetalWidthCm\"], df_iris[\"SepalWidthCm\"], marker = 'h', c= df_iris['Species'].map(colors) , alpha = 0.8 )\n",
    "\n",
    "\n",
    "# mostramos lo que nos devuelve esto: \n",
    "plt.show()"
   ]
  },
  {
   "attachments": {},
   "cell_type": "markdown",
   "metadata": {},
   "source": [
    "#### EJERCICIO 7\n",
    "\n",
    "Hasta ahora te hemos ido marcando que gráfica hacer, en realidad solo hemos usado una durante todos los ejercicios. Piensa que dos tipos de gráficas podrías usar con los datos que tenemos e incluyelas en un subplot que tenga dos figuras dentro. "
   ]
  },
  {
   "cell_type": "code",
   "execution_count": null,
   "metadata": {},
   "outputs": [],
   "source": [
    "# Solución Ejercicio 7"
   ]
  },
  {
   "cell_type": "markdown",
   "metadata": {},
   "source": [
    "## Exportar figuras <a class=\"anchor\" id=\"section_1_5\"></a>\n",
    "\n",
    "Para finalizar la lección vamos a explicar como exportar las imágenes creadas, para poder introducirlas en un informe, mostrarlas en un powerpoint, o lo que se desee hacer con ella.\n",
    "\n",
    "Para ello tenemos un par de formas de realizarlo:\n",
    "\n",
    "- Método 1: Guardado manual. Al poner el cursor sobre la gráfica, veremos que aparece a la derecha del todo de la celda el icono de guardar. Haz clic, escoge el nombre de la gráfica y guárdala.\n",
    "- Método 2: Al final de la imagen añade la siguiente línea:\n",
    "\n",
    "```python\n",
    "    plt.savefig(nombre_de_la_figura.extension)\n",
    "```\n",
    "\n",
    "Las extensiones pueden ser:\n",
    "\n",
    "- png\n",
    "- jpg\n",
    "- jpeg\n",
    "- tiff\n",
    "\n",
    "Te guardará la imagen en la misma ruta en que tengas guardado el Jupyter notebook que estás ejecutando."
   ]
  },
  {
   "cell_type": "code",
   "execution_count": 9,
   "metadata": {},
   "outputs": [
    {
     "data": {
      "image/png": "[encoded data removed]",
      "text/plain": [
       "<Figure size 720x360 with 1 Axes>"
      ]
     },
     "metadata": {
      "needs_background": "light"
     },
     "output_type": "display_data"
    }
   ],
   "source": [
    "\n",
    "# Hacemos la misma gráfica pero cambiando el tamaño\n",
    "plt.figure(figsize = (10,5))\n",
    "\n",
    "\n",
    "# creamos un diccionario donde establecemos los colores que vamos a querer para cada una de las especies. \n",
    "colors = {'Iris-virginica':'blue', 'Iris-setosa':'orange', 'Iris-versicolor':'green'}\n",
    "\n",
    "\n",
    "# en el array 0 de nuestro ax querremos la siguiente gráfica\n",
    "plt.scatter(df_iris[\"SepalLengthCm\"], df_iris[\"SepalWidthCm\"], marker = 'v', c= df_iris['Species'].map(colors) , alpha = 0.8 )\n",
    "\n",
    "# ponemos nombres a los ejes\n",
    "plt.xlabel(\"sepal_length\")\n",
    "plt.ylabel(\"sepal_width\")\n",
    "\n",
    "# establecemos el título\n",
    "plt.title(\"Gráfica de dispersion de los sépalos\")\n",
    "\n",
    "# en este caso vamos a ampliar los límites de los ejes\n",
    "plt.xlim(4,8) # cambiamos el eje x\n",
    "plt.ylim(2,5) # cambiamos el eje y\n",
    "\n",
    "# establecemos la cuadrícula y la ponemos de color violeta\n",
    "plt.grid(color = \"violet\", linestyle = \"-.\")\n",
    "\n",
    "# guardamos la figura en formato tiff, lo podríamos guaradr en cualquier otro formato\n",
    "plt.savefig('tirori.jpg')\n",
    "\n",
    "# mostramos la gráfica\n",
    "plt.show()\n"
   ]
  },
  {
   "attachments": {},
   "cell_type": "markdown",
   "metadata": {},
   "source": [
    "#### EJERCICIO 8\n",
    "Toma la gráfica del ejercicio 7 y guárdala de forma manual, así como utilizando la instrucción savefig."
   ]
  },
  {
   "cell_type": "code",
   "execution_count": null,
   "metadata": {},
   "outputs": [],
   "source": [
    "# Solución Ejercicio 8"
   ]
  },
  {
   "cell_type": "markdown",
   "metadata": {},
   "source": [
    "Ahora ya sabemos hacer muchísimas cosas, para realizar gráficas y personalizarlas. Como podemos ver, existe una grán versatilidad a la hora de hacer gráficas y personalizarlas de mil formas diferentes.\n",
    "\n",
    "Esto es un trabajo que nunca termina, pero para ello tenemos en la documentación oficial cientos de ejemplos, así como StackOverflow, para cualquier duda que tengamos a la hora de personalizar las gráficas.\n",
    "\n",
    "Espero que hayais disfrutado de la lección!"
   ]
  }
 ],
 "metadata": {
  "kernelspec": {
   "display_name": "base",
   "language": "python",
   "name": "python3"
  },
  "language_info": {
   "codemirror_mode": {
    "name": "ipython",
    "version": 3
   },
   "file_extension": ".py",
   "mimetype": "text/x-python",
   "name": "python",
   "nbconvert_exporter": "python",
   "pygments_lexer": "ipython3",
   "version": "3.9.7"
  },
  "orig_nbformat": 4,
  "vscode": {
   "interpreter": {
    "hash": "ebacf0c690606339d2819fda86ce84d5dc8f19bdafd30d1cf039ac39003e3ee9"
   }
  }
 },
 "nbformat": 4,
 "nbformat_minor": 2
}
