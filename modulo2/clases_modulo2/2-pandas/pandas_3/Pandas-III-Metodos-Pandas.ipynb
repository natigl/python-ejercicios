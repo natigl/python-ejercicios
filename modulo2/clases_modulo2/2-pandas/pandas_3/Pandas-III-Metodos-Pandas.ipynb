{
 "cells": [
  {
   "cell_type": "markdown",
   "id": "89afc61d",
   "metadata": {
    "toc": true
   },
   "source": [
    "<h1>Table of Contents<span class=\"tocSkip\"></span></h1>\n",
    "<div class=\"toc\"><ul class=\"toc-item\"><li><span><a href=\"#Métodos-de-pandas\" data-toc-modified-id=\"Métodos-de-pandas-1\"><span class=\"toc-item-num\">1&nbsp;&nbsp;</span>Métodos de pandas</a></span><ul class=\"toc-item\"><li><span><a href=\"#Métodos-para-explorar-nuestro-DataFrame\" data-toc-modified-id=\"Métodos-para-explorar-nuestro-DataFrame-1.1\"><span class=\"toc-item-num\">1.1&nbsp;&nbsp;</span>Métodos para explorar nuestro <em>DataFrame</em></a></span></li><li><span><a href=\"#Métodos-para-modificar-algunas-características\" data-toc-modified-id=\"Métodos-para-modificar-algunas-características-1.2\"><span class=\"toc-item-num\">1.2&nbsp;&nbsp;</span>Métodos para modificar algunas características</a></span></li></ul></li><li><span><a href=\"#Reasignación-columnas-df[‘x’]-=-df[‘x’]\" data-toc-modified-id=\"Reasignación-columnas-df[‘x’]-=-df[‘x’]-2\"><span class=\"toc-item-num\">2&nbsp;&nbsp;</span>Reasignación columnas df[‘x’] = df[‘x’]</a></span></li></ul></div>"
   ]
  },
  {
   "cell_type": "markdown",
   "id": "951972a5",
   "metadata": {},
   "source": [
    "**Como siempre antes de empezar tenemos que hacer el import!!**"
   ]
  },
  {
   "cell_type": "code",
   "execution_count": 1,
   "id": "40ccb5f2",
   "metadata": {},
   "outputs": [],
   "source": [
    "import pandas as pd"
   ]
  },
  {
   "cell_type": "markdown",
   "id": "b4fd5310",
   "metadata": {},
   "source": [
    "# Métodos de pandas "
   ]
  },
  {
   "cell_type": "markdown",
   "id": "0aa1ef83",
   "metadata": {},
   "source": [
    "En este apartado vamos a ver algunos de los principales que podemos aplicar a nuestros *DataFrames*. El principal objetivo de estos métodos es hacer una exploración inicial de nuestro DataFrame, aunque algunos de ellos nos servirán para hacer algunos cambios en nuestro DataFrame, como por ejemplo cambiar el nombre de las columnas o reemplazar ciertos caracteres. Algunos de los métodos son: \n",
    "\n",
    "- Métodos para exploración básica del *DataFrame*: \n",
    "\n",
    "    - `.head()`\n",
    "    - `.tail()`\n",
    "    - `.sample()`\n",
    "    - `.columns`\n",
    "    - `.shape`\n",
    "    - `.describe()`\n",
    "    - `.info()`\n",
    "    - `.unique`\n",
    "    - `.value_counts()`\n",
    "    - `.isnull()`\n",
    "    - `.isna()`\n",
    "    - `.corr()`\n",
    "\n",
    "- Métodos para modificar algunas características básicas de nuestro *DataFrame*: \n",
    "\n",
    "    - `.set_index()`\n",
    "    - `.reset_index()`\n",
    "    - `.rename()`\n",
    "    - `.drop()`\n",
    "    - `.cut()`\n",
    "    - `.replace()`\n",
    "    "
   ]
  },
  {
   "cell_type": "markdown",
   "id": "5dd3d666",
   "metadata": {},
   "source": [
    "📌Antes de empezar vamos a cargar un dataset para poder trabajar. En Python tenemos una serie de librerias que nos van a proveer de datasets para que nosotros podamos trabajar. En este caso usaremos la librería `PyDataset`\n",
    "\n",
    "- Lo primero que tenemos que hacer es instalarla desde la terminal\n",
    "\n",
    "  `pip install pydataset`\n",
    "\n",
    "  o \n",
    "\n",
    "  `pip3 install pydataset`\n",
    "\n",
    "- Una vez instalado lo importamos en nuestro jupyter: \n",
    "\n",
    "  ```python\n",
    "  from pydataset import data\n",
    "  ```"
   ]
  },
  {
   "cell_type": "code",
   "execution_count": 2,
   "id": "8c3051b6",
   "metadata": {},
   "outputs": [],
   "source": [
    "from pydataset import data"
   ]
  },
  {
   "cell_type": "code",
   "execution_count": 3,
   "id": "47f2f7f1",
   "metadata": {},
   "outputs": [
    {
     "data": {
      "text/html": [
       "<div>\n",
       "<style scoped>\n",
       "    .dataframe tbody tr th:only-of-type {\n",
       "        vertical-align: middle;\n",
       "    }\n",
       "\n",
       "    .dataframe tbody tr th {\n",
       "        vertical-align: top;\n",
       "    }\n",
       "\n",
       "    .dataframe thead th {\n",
       "        text-align: right;\n",
       "    }\n",
       "</style>\n",
       "<table border=\"1\" class=\"dataframe\">\n",
       "  <thead>\n",
       "    <tr style=\"text-align: right;\">\n",
       "      <th></th>\n",
       "      <th>dataset_id</th>\n",
       "      <th>title</th>\n",
       "    </tr>\n",
       "  </thead>\n",
       "  <tbody>\n",
       "    <tr>\n",
       "      <th>0</th>\n",
       "      <td>AirPassengers</td>\n",
       "      <td>Monthly Airline Passenger Numbers 1949-1960</td>\n",
       "    </tr>\n",
       "    <tr>\n",
       "      <th>1</th>\n",
       "      <td>BJsales</td>\n",
       "      <td>Sales Data with Leading Indicator</td>\n",
       "    </tr>\n",
       "    <tr>\n",
       "      <th>2</th>\n",
       "      <td>BOD</td>\n",
       "      <td>Biochemical Oxygen Demand</td>\n",
       "    </tr>\n",
       "    <tr>\n",
       "      <th>3</th>\n",
       "      <td>Formaldehyde</td>\n",
       "      <td>Determination of Formaldehyde</td>\n",
       "    </tr>\n",
       "    <tr>\n",
       "      <th>4</th>\n",
       "      <td>HairEyeColor</td>\n",
       "      <td>Hair and Eye Color of Statistics Students</td>\n",
       "    </tr>\n",
       "  </tbody>\n",
       "</table>\n",
       "</div>"
      ],
      "text/plain": [
       "      dataset_id                                        title\n",
       "0  AirPassengers  Monthly Airline Passenger Numbers 1949-1960\n",
       "1        BJsales            Sales Data with Leading Indicator\n",
       "2            BOD                    Biochemical Oxygen Demand\n",
       "3   Formaldehyde                Determination of Formaldehyde\n",
       "4   HairEyeColor    Hair and Eye Color of Statistics Students"
      ]
     },
     "execution_count": 3,
     "metadata": {},
     "output_type": "execute_result"
    }
   ],
   "source": [
    "# para saber que datasets tenemos \n",
    "dfs = data()\n",
    "dfs.head()"
   ]
  },
  {
   "cell_type": "markdown",
   "id": "c2cd3d71",
   "metadata": {},
   "source": [
    "Si nos fijamos tenemos 757 datasets, donde tenemos información sobre su título y un `id` el cual usaremos para cargar ese dataset. En este jupyter usaremos un dataset con información sobre plantas petrolíferas."
   ]
  },
  {
   "cell_type": "code",
   "execution_count": 4,
   "id": "ba212b6f",
   "metadata": {},
   "outputs": [],
   "source": [
    "# cargamos el DataFrame con el que queremos trabajar\n",
    "\n",
    "df = data('rock')"
   ]
  },
  {
   "cell_type": "code",
   "execution_count": 5,
   "id": "e9a04146",
   "metadata": {},
   "outputs": [
    {
     "data": {
      "text/html": [
       "<div>\n",
       "<style scoped>\n",
       "    .dataframe tbody tr th:only-of-type {\n",
       "        vertical-align: middle;\n",
       "    }\n",
       "\n",
       "    .dataframe tbody tr th {\n",
       "        vertical-align: top;\n",
       "    }\n",
       "\n",
       "    .dataframe thead th {\n",
       "        text-align: right;\n",
       "    }\n",
       "</style>\n",
       "<table border=\"1\" class=\"dataframe\">\n",
       "  <thead>\n",
       "    <tr style=\"text-align: right;\">\n",
       "      <th></th>\n",
       "      <th>area</th>\n",
       "      <th>peri</th>\n",
       "      <th>shape</th>\n",
       "      <th>perm</th>\n",
       "    </tr>\n",
       "  </thead>\n",
       "  <tbody>\n",
       "    <tr>\n",
       "      <th>1</th>\n",
       "      <td>4990</td>\n",
       "      <td>2791.90</td>\n",
       "      <td>0.090330</td>\n",
       "      <td>6.3</td>\n",
       "    </tr>\n",
       "    <tr>\n",
       "      <th>2</th>\n",
       "      <td>7002</td>\n",
       "      <td>3892.60</td>\n",
       "      <td>0.148622</td>\n",
       "      <td>6.3</td>\n",
       "    </tr>\n",
       "    <tr>\n",
       "      <th>3</th>\n",
       "      <td>7558</td>\n",
       "      <td>3930.66</td>\n",
       "      <td>0.183312</td>\n",
       "      <td>6.3</td>\n",
       "    </tr>\n",
       "    <tr>\n",
       "      <th>4</th>\n",
       "      <td>7352</td>\n",
       "      <td>3869.32</td>\n",
       "      <td>0.117063</td>\n",
       "      <td>6.3</td>\n",
       "    </tr>\n",
       "    <tr>\n",
       "      <th>5</th>\n",
       "      <td>7943</td>\n",
       "      <td>3948.54</td>\n",
       "      <td>0.122417</td>\n",
       "      <td>17.1</td>\n",
       "    </tr>\n",
       "  </tbody>\n",
       "</table>\n",
       "</div>"
      ],
      "text/plain": [
       "   area     peri     shape  perm\n",
       "1  4990  2791.90  0.090330   6.3\n",
       "2  7002  3892.60  0.148622   6.3\n",
       "3  7558  3930.66  0.183312   6.3\n",
       "4  7352  3869.32  0.117063   6.3\n",
       "5  7943  3948.54  0.122417  17.1"
      ]
     },
     "execution_count": 5,
     "metadata": {},
     "output_type": "execute_result"
    }
   ],
   "source": [
    "df.head()"
   ]
  },
  {
   "cell_type": "markdown",
   "id": "b5a67907",
   "metadata": {},
   "source": [
    "## Métodos para explorar nuestro *DataFrame*"
   ]
  },
  {
   "cell_type": "markdown",
   "id": "124916ce",
   "metadata": {},
   "source": [
    "- `head()`\n",
    "\n",
    "Nos permite ver las primeras lineas de nuestro *DataFrame*. Por defecto, nos devolverá las 5 primeras lineas. "
   ]
  },
  {
   "cell_type": "code",
   "execution_count": 6,
   "id": "04d80f3e",
   "metadata": {},
   "outputs": [
    {
     "data": {
      "text/html": [
       "<div>\n",
       "<style scoped>\n",
       "    .dataframe tbody tr th:only-of-type {\n",
       "        vertical-align: middle;\n",
       "    }\n",
       "\n",
       "    .dataframe tbody tr th {\n",
       "        vertical-align: top;\n",
       "    }\n",
       "\n",
       "    .dataframe thead th {\n",
       "        text-align: right;\n",
       "    }\n",
       "</style>\n",
       "<table border=\"1\" class=\"dataframe\">\n",
       "  <thead>\n",
       "    <tr style=\"text-align: right;\">\n",
       "      <th></th>\n",
       "      <th>area</th>\n",
       "      <th>peri</th>\n",
       "      <th>shape</th>\n",
       "      <th>perm</th>\n",
       "    </tr>\n",
       "  </thead>\n",
       "  <tbody>\n",
       "    <tr>\n",
       "      <th>1</th>\n",
       "      <td>4990</td>\n",
       "      <td>2791.90</td>\n",
       "      <td>0.090330</td>\n",
       "      <td>6.3</td>\n",
       "    </tr>\n",
       "    <tr>\n",
       "      <th>2</th>\n",
       "      <td>7002</td>\n",
       "      <td>3892.60</td>\n",
       "      <td>0.148622</td>\n",
       "      <td>6.3</td>\n",
       "    </tr>\n",
       "    <tr>\n",
       "      <th>3</th>\n",
       "      <td>7558</td>\n",
       "      <td>3930.66</td>\n",
       "      <td>0.183312</td>\n",
       "      <td>6.3</td>\n",
       "    </tr>\n",
       "    <tr>\n",
       "      <th>4</th>\n",
       "      <td>7352</td>\n",
       "      <td>3869.32</td>\n",
       "      <td>0.117063</td>\n",
       "      <td>6.3</td>\n",
       "    </tr>\n",
       "    <tr>\n",
       "      <th>5</th>\n",
       "      <td>7943</td>\n",
       "      <td>3948.54</td>\n",
       "      <td>0.122417</td>\n",
       "      <td>17.1</td>\n",
       "    </tr>\n",
       "  </tbody>\n",
       "</table>\n",
       "</div>"
      ],
      "text/plain": [
       "   area     peri     shape  perm\n",
       "1  4990  2791.90  0.090330   6.3\n",
       "2  7002  3892.60  0.148622   6.3\n",
       "3  7558  3930.66  0.183312   6.3\n",
       "4  7352  3869.32  0.117063   6.3\n",
       "5  7943  3948.54  0.122417  17.1"
      ]
     },
     "execution_count": 6,
     "metadata": {},
     "output_type": "execute_result"
    }
   ],
   "source": [
    "df.head()"
   ]
  },
  {
   "cell_type": "code",
   "execution_count": 7,
   "id": "2bd309aa",
   "metadata": {},
   "outputs": [
    {
     "data": {
      "text/html": [
       "<div>\n",
       "<style scoped>\n",
       "    .dataframe tbody tr th:only-of-type {\n",
       "        vertical-align: middle;\n",
       "    }\n",
       "\n",
       "    .dataframe tbody tr th {\n",
       "        vertical-align: top;\n",
       "    }\n",
       "\n",
       "    .dataframe thead th {\n",
       "        text-align: right;\n",
       "    }\n",
       "</style>\n",
       "<table border=\"1\" class=\"dataframe\">\n",
       "  <thead>\n",
       "    <tr style=\"text-align: right;\">\n",
       "      <th></th>\n",
       "      <th>area</th>\n",
       "      <th>peri</th>\n",
       "      <th>shape</th>\n",
       "      <th>perm</th>\n",
       "    </tr>\n",
       "  </thead>\n",
       "  <tbody>\n",
       "    <tr>\n",
       "      <th>1</th>\n",
       "      <td>4990</td>\n",
       "      <td>2791.90</td>\n",
       "      <td>0.090330</td>\n",
       "      <td>6.3</td>\n",
       "    </tr>\n",
       "    <tr>\n",
       "      <th>2</th>\n",
       "      <td>7002</td>\n",
       "      <td>3892.60</td>\n",
       "      <td>0.148622</td>\n",
       "      <td>6.3</td>\n",
       "    </tr>\n",
       "    <tr>\n",
       "      <th>3</th>\n",
       "      <td>7558</td>\n",
       "      <td>3930.66</td>\n",
       "      <td>0.183312</td>\n",
       "      <td>6.3</td>\n",
       "    </tr>\n",
       "    <tr>\n",
       "      <th>4</th>\n",
       "      <td>7352</td>\n",
       "      <td>3869.32</td>\n",
       "      <td>0.117063</td>\n",
       "      <td>6.3</td>\n",
       "    </tr>\n",
       "    <tr>\n",
       "      <th>5</th>\n",
       "      <td>7943</td>\n",
       "      <td>3948.54</td>\n",
       "      <td>0.122417</td>\n",
       "      <td>17.1</td>\n",
       "    </tr>\n",
       "    <tr>\n",
       "      <th>6</th>\n",
       "      <td>7979</td>\n",
       "      <td>4010.15</td>\n",
       "      <td>0.167045</td>\n",
       "      <td>17.1</td>\n",
       "    </tr>\n",
       "    <tr>\n",
       "      <th>7</th>\n",
       "      <td>9333</td>\n",
       "      <td>4345.75</td>\n",
       "      <td>0.189651</td>\n",
       "      <td>17.1</td>\n",
       "    </tr>\n",
       "  </tbody>\n",
       "</table>\n",
       "</div>"
      ],
      "text/plain": [
       "   area     peri     shape  perm\n",
       "1  4990  2791.90  0.090330   6.3\n",
       "2  7002  3892.60  0.148622   6.3\n",
       "3  7558  3930.66  0.183312   6.3\n",
       "4  7352  3869.32  0.117063   6.3\n",
       "5  7943  3948.54  0.122417  17.1\n",
       "6  7979  4010.15  0.167045  17.1\n",
       "7  9333  4345.75  0.189651  17.1"
      ]
     },
     "execution_count": 7,
     "metadata": {},
     "output_type": "execute_result"
    }
   ],
   "source": [
    "# en caso de que queramos más filas solo tendremos que especificar el número entre paréntesis\n",
    "\n",
    "df.head(7)"
   ]
  },
  {
   "cell_type": "markdown",
   "id": "be2a8ec5",
   "metadata": {},
   "source": [
    "- `tail()` \n",
    "\n",
    "Nos permite ver las últimas filas de nuestro *DataFrame*, por defecto 5. Pero al igual que en `head()`, podemos especificar el número de filas que querremos ver. "
   ]
  },
  {
   "cell_type": "code",
   "execution_count": 8,
   "id": "9c359a42",
   "metadata": {},
   "outputs": [
    {
     "data": {
      "text/html": [
       "<div>\n",
       "<style scoped>\n",
       "    .dataframe tbody tr th:only-of-type {\n",
       "        vertical-align: middle;\n",
       "    }\n",
       "\n",
       "    .dataframe tbody tr th {\n",
       "        vertical-align: top;\n",
       "    }\n",
       "\n",
       "    .dataframe thead th {\n",
       "        text-align: right;\n",
       "    }\n",
       "</style>\n",
       "<table border=\"1\" class=\"dataframe\">\n",
       "  <thead>\n",
       "    <tr style=\"text-align: right;\">\n",
       "      <th></th>\n",
       "      <th>area</th>\n",
       "      <th>peri</th>\n",
       "      <th>shape</th>\n",
       "      <th>perm</th>\n",
       "    </tr>\n",
       "  </thead>\n",
       "  <tbody>\n",
       "    <tr>\n",
       "      <th>44</th>\n",
       "      <td>8793</td>\n",
       "      <td>2280.490</td>\n",
       "      <td>0.420477</td>\n",
       "      <td>1300.0</td>\n",
       "    </tr>\n",
       "    <tr>\n",
       "      <th>45</th>\n",
       "      <td>3475</td>\n",
       "      <td>1174.110</td>\n",
       "      <td>0.200744</td>\n",
       "      <td>580.0</td>\n",
       "    </tr>\n",
       "    <tr>\n",
       "      <th>46</th>\n",
       "      <td>1651</td>\n",
       "      <td>597.808</td>\n",
       "      <td>0.262651</td>\n",
       "      <td>580.0</td>\n",
       "    </tr>\n",
       "    <tr>\n",
       "      <th>47</th>\n",
       "      <td>5514</td>\n",
       "      <td>1455.880</td>\n",
       "      <td>0.182453</td>\n",
       "      <td>580.0</td>\n",
       "    </tr>\n",
       "    <tr>\n",
       "      <th>48</th>\n",
       "      <td>9718</td>\n",
       "      <td>1485.580</td>\n",
       "      <td>0.200447</td>\n",
       "      <td>580.0</td>\n",
       "    </tr>\n",
       "  </tbody>\n",
       "</table>\n",
       "</div>"
      ],
      "text/plain": [
       "    area      peri     shape    perm\n",
       "44  8793  2280.490  0.420477  1300.0\n",
       "45  3475  1174.110  0.200744   580.0\n",
       "46  1651   597.808  0.262651   580.0\n",
       "47  5514  1455.880  0.182453   580.0\n",
       "48  9718  1485.580  0.200447   580.0"
      ]
     },
     "execution_count": 8,
     "metadata": {},
     "output_type": "execute_result"
    }
   ],
   "source": [
    "df.tail()"
   ]
  },
  {
   "cell_type": "code",
   "execution_count": 9,
   "id": "70aff616",
   "metadata": {},
   "outputs": [
    {
     "data": {
      "text/html": [
       "<div>\n",
       "<style scoped>\n",
       "    .dataframe tbody tr th:only-of-type {\n",
       "        vertical-align: middle;\n",
       "    }\n",
       "\n",
       "    .dataframe tbody tr th {\n",
       "        vertical-align: top;\n",
       "    }\n",
       "\n",
       "    .dataframe thead th {\n",
       "        text-align: right;\n",
       "    }\n",
       "</style>\n",
       "<table border=\"1\" class=\"dataframe\">\n",
       "  <thead>\n",
       "    <tr style=\"text-align: right;\">\n",
       "      <th></th>\n",
       "      <th>area</th>\n",
       "      <th>peri</th>\n",
       "      <th>shape</th>\n",
       "      <th>perm</th>\n",
       "    </tr>\n",
       "  </thead>\n",
       "  <tbody>\n",
       "    <tr>\n",
       "      <th>42</th>\n",
       "      <td>1016</td>\n",
       "      <td>308.642</td>\n",
       "      <td>0.230081</td>\n",
       "      <td>1300.0</td>\n",
       "    </tr>\n",
       "    <tr>\n",
       "      <th>43</th>\n",
       "      <td>5605</td>\n",
       "      <td>1145.690</td>\n",
       "      <td>0.464125</td>\n",
       "      <td>1300.0</td>\n",
       "    </tr>\n",
       "    <tr>\n",
       "      <th>44</th>\n",
       "      <td>8793</td>\n",
       "      <td>2280.490</td>\n",
       "      <td>0.420477</td>\n",
       "      <td>1300.0</td>\n",
       "    </tr>\n",
       "    <tr>\n",
       "      <th>45</th>\n",
       "      <td>3475</td>\n",
       "      <td>1174.110</td>\n",
       "      <td>0.200744</td>\n",
       "      <td>580.0</td>\n",
       "    </tr>\n",
       "    <tr>\n",
       "      <th>46</th>\n",
       "      <td>1651</td>\n",
       "      <td>597.808</td>\n",
       "      <td>0.262651</td>\n",
       "      <td>580.0</td>\n",
       "    </tr>\n",
       "    <tr>\n",
       "      <th>47</th>\n",
       "      <td>5514</td>\n",
       "      <td>1455.880</td>\n",
       "      <td>0.182453</td>\n",
       "      <td>580.0</td>\n",
       "    </tr>\n",
       "    <tr>\n",
       "      <th>48</th>\n",
       "      <td>9718</td>\n",
       "      <td>1485.580</td>\n",
       "      <td>0.200447</td>\n",
       "      <td>580.0</td>\n",
       "    </tr>\n",
       "  </tbody>\n",
       "</table>\n",
       "</div>"
      ],
      "text/plain": [
       "    area      peri     shape    perm\n",
       "42  1016   308.642  0.230081  1300.0\n",
       "43  5605  1145.690  0.464125  1300.0\n",
       "44  8793  2280.490  0.420477  1300.0\n",
       "45  3475  1174.110  0.200744   580.0\n",
       "46  1651   597.808  0.262651   580.0\n",
       "47  5514  1455.880  0.182453   580.0\n",
       "48  9718  1485.580  0.200447   580.0"
      ]
     },
     "execution_count": 9,
     "metadata": {},
     "output_type": "execute_result"
    }
   ],
   "source": [
    "# si queremos ver las últimas 7 lineas \n",
    "\n",
    "df.tail(7)"
   ]
  },
  {
   "cell_type": "markdown",
   "id": "0f472f1d",
   "metadata": {},
   "source": [
    "- `sample()`\n",
    "\n",
    "Nos muestra filas aleatorias de nuestro *DataFrame*, por defecto nos devuelve solo una, pero podemos especificar el número de filas que queremos ver. "
   ]
  },
  {
   "cell_type": "code",
   "execution_count": 10,
   "id": "4cd14905",
   "metadata": {},
   "outputs": [
    {
     "data": {
      "text/html": [
       "<div>\n",
       "<style scoped>\n",
       "    .dataframe tbody tr th:only-of-type {\n",
       "        vertical-align: middle;\n",
       "    }\n",
       "\n",
       "    .dataframe tbody tr th {\n",
       "        vertical-align: top;\n",
       "    }\n",
       "\n",
       "    .dataframe thead th {\n",
       "        text-align: right;\n",
       "    }\n",
       "</style>\n",
       "<table border=\"1\" class=\"dataframe\">\n",
       "  <thead>\n",
       "    <tr style=\"text-align: right;\">\n",
       "      <th></th>\n",
       "      <th>area</th>\n",
       "      <th>peri</th>\n",
       "      <th>shape</th>\n",
       "      <th>perm</th>\n",
       "    </tr>\n",
       "  </thead>\n",
       "  <tbody>\n",
       "    <tr>\n",
       "      <th>27</th>\n",
       "      <td>7416</td>\n",
       "      <td>1916.24</td>\n",
       "      <td>0.191802</td>\n",
       "      <td>740.0</td>\n",
       "    </tr>\n",
       "  </tbody>\n",
       "</table>\n",
       "</div>"
      ],
      "text/plain": [
       "    area     peri     shape   perm\n",
       "27  7416  1916.24  0.191802  740.0"
      ]
     },
     "execution_count": 10,
     "metadata": {},
     "output_type": "execute_result"
    }
   ],
   "source": [
    "# por defecto nos devuelve una\n",
    "\n",
    "df.sample()"
   ]
  },
  {
   "cell_type": "code",
   "execution_count": 11,
   "id": "d7ad93b8",
   "metadata": {},
   "outputs": [
    {
     "data": {
      "text/html": [
       "<div>\n",
       "<style scoped>\n",
       "    .dataframe tbody tr th:only-of-type {\n",
       "        vertical-align: middle;\n",
       "    }\n",
       "\n",
       "    .dataframe tbody tr th {\n",
       "        vertical-align: top;\n",
       "    }\n",
       "\n",
       "    .dataframe thead th {\n",
       "        text-align: right;\n",
       "    }\n",
       "</style>\n",
       "<table border=\"1\" class=\"dataframe\">\n",
       "  <thead>\n",
       "    <tr style=\"text-align: right;\">\n",
       "      <th></th>\n",
       "      <th>area</th>\n",
       "      <th>peri</th>\n",
       "      <th>shape</th>\n",
       "      <th>perm</th>\n",
       "    </tr>\n",
       "  </thead>\n",
       "  <tbody>\n",
       "    <tr>\n",
       "      <th>25</th>\n",
       "      <td>6360</td>\n",
       "      <td>1977.39</td>\n",
       "      <td>0.280887</td>\n",
       "      <td>740.0</td>\n",
       "    </tr>\n",
       "    <tr>\n",
       "      <th>1</th>\n",
       "      <td>4990</td>\n",
       "      <td>2791.90</td>\n",
       "      <td>0.090330</td>\n",
       "      <td>6.3</td>\n",
       "    </tr>\n",
       "    <tr>\n",
       "      <th>22</th>\n",
       "      <td>11876</td>\n",
       "      <td>4353.14</td>\n",
       "      <td>0.291029</td>\n",
       "      <td>142.0</td>\n",
       "    </tr>\n",
       "    <tr>\n",
       "      <th>48</th>\n",
       "      <td>9718</td>\n",
       "      <td>1485.58</td>\n",
       "      <td>0.200447</td>\n",
       "      <td>580.0</td>\n",
       "    </tr>\n",
       "    <tr>\n",
       "      <th>15</th>\n",
       "      <td>9417</td>\n",
       "      <td>3999.37</td>\n",
       "      <td>0.172567</td>\n",
       "      <td>82.4</td>\n",
       "    </tr>\n",
       "  </tbody>\n",
       "</table>\n",
       "</div>"
      ],
      "text/plain": [
       "     area     peri     shape   perm\n",
       "25   6360  1977.39  0.280887  740.0\n",
       "1    4990  2791.90  0.090330    6.3\n",
       "22  11876  4353.14  0.291029  142.0\n",
       "48   9718  1485.58  0.200447  580.0\n",
       "15   9417  3999.37  0.172567   82.4"
      ]
     },
     "execution_count": 11,
     "metadata": {},
     "output_type": "execute_result"
    }
   ],
   "source": [
    "# ¿y si queremos ver 5? Lo especificamos entre paréntesis. \n",
    "\n",
    "df.sample(5)"
   ]
  },
  {
   "cell_type": "markdown",
   "id": "e571b104",
   "metadata": {},
   "source": [
    "- `shape`\n",
    "\n",
    "Nos devuelve el número de filas y columnas que tenemos en nuestro *DataFrame*."
   ]
  },
  {
   "cell_type": "code",
   "execution_count": 12,
   "id": "37fa7b93",
   "metadata": {},
   "outputs": [
    {
     "data": {
      "text/plain": [
       "(48, 4)"
      ]
     },
     "execution_count": 12,
     "metadata": {},
     "output_type": "execute_result"
    }
   ],
   "source": [
    "# nuestro dataset tiene 48 filas y 4 columnas\n",
    "\n",
    "df.shape"
   ]
  },
  {
   "cell_type": "markdown",
   "id": "c5ce091c",
   "metadata": {},
   "source": [
    "- `dtypes`\n",
    "\n",
    "Nos devuelve el tipo de datos que tenemos en cada una de nuestras columnas."
   ]
  },
  {
   "cell_type": "code",
   "execution_count": 13,
   "id": "5a2ba89e",
   "metadata": {},
   "outputs": [
    {
     "data": {
      "text/plain": [
       "area       int64\n",
       "peri     float64\n",
       "shape    float64\n",
       "perm     float64\n",
       "dtype: object"
      ]
     },
     "execution_count": 13,
     "metadata": {},
     "output_type": "execute_result"
    }
   ],
   "source": [
    "# en este caso tenemos integers y floats\n",
    "\n",
    "df.dtypes"
   ]
  },
  {
   "cell_type": "markdown",
   "id": "8982fd2a",
   "metadata": {},
   "source": [
    "- `columns`\n",
    "\n",
    "Nos muestra el nombre de las columnas de nuestro *DataFrame* ."
   ]
  },
  {
   "cell_type": "code",
   "execution_count": 14,
   "id": "af0af3a0",
   "metadata": {},
   "outputs": [
    {
     "data": {
      "text/plain": [
       "Index(['area', 'peri', 'shape', 'perm'], dtype='object')"
      ]
     },
     "execution_count": 14,
     "metadata": {},
     "output_type": "execute_result"
    }
   ],
   "source": [
    "df.columns"
   ]
  },
  {
   "cell_type": "markdown",
   "id": "73fbc607",
   "metadata": {},
   "source": [
    "- `describe()`\n",
    "\n",
    "Nos devuelve un *DataFrame* con un resumen de los principales estadísticos (media, mediana, desviacón estándar etc.) de nuestras **columnas numéricas**."
   ]
  },
  {
   "cell_type": "code",
   "execution_count": 15,
   "id": "7c06300c",
   "metadata": {},
   "outputs": [
    {
     "data": {
      "text/html": [
       "<div>\n",
       "<style scoped>\n",
       "    .dataframe tbody tr th:only-of-type {\n",
       "        vertical-align: middle;\n",
       "    }\n",
       "\n",
       "    .dataframe tbody tr th {\n",
       "        vertical-align: top;\n",
       "    }\n",
       "\n",
       "    .dataframe thead th {\n",
       "        text-align: right;\n",
       "    }\n",
       "</style>\n",
       "<table border=\"1\" class=\"dataframe\">\n",
       "  <thead>\n",
       "    <tr style=\"text-align: right;\">\n",
       "      <th></th>\n",
       "      <th>area</th>\n",
       "      <th>peri</th>\n",
       "      <th>shape</th>\n",
       "      <th>perm</th>\n",
       "    </tr>\n",
       "  </thead>\n",
       "  <tbody>\n",
       "    <tr>\n",
       "      <th>count</th>\n",
       "      <td>48.000000</td>\n",
       "      <td>48.000000</td>\n",
       "      <td>48.000000</td>\n",
       "      <td>48.000000</td>\n",
       "    </tr>\n",
       "    <tr>\n",
       "      <th>mean</th>\n",
       "      <td>7187.729167</td>\n",
       "      <td>2682.211938</td>\n",
       "      <td>0.218110</td>\n",
       "      <td>415.450000</td>\n",
       "    </tr>\n",
       "    <tr>\n",
       "      <th>std</th>\n",
       "      <td>2683.848862</td>\n",
       "      <td>1431.661164</td>\n",
       "      <td>0.083496</td>\n",
       "      <td>437.818226</td>\n",
       "    </tr>\n",
       "    <tr>\n",
       "      <th>min</th>\n",
       "      <td>1016.000000</td>\n",
       "      <td>308.642000</td>\n",
       "      <td>0.090330</td>\n",
       "      <td>6.300000</td>\n",
       "    </tr>\n",
       "    <tr>\n",
       "      <th>25%</th>\n",
       "      <td>5305.250000</td>\n",
       "      <td>1414.907500</td>\n",
       "      <td>0.162262</td>\n",
       "      <td>76.450000</td>\n",
       "    </tr>\n",
       "    <tr>\n",
       "      <th>50%</th>\n",
       "      <td>7487.000000</td>\n",
       "      <td>2536.195000</td>\n",
       "      <td>0.198862</td>\n",
       "      <td>130.500000</td>\n",
       "    </tr>\n",
       "    <tr>\n",
       "      <th>75%</th>\n",
       "      <td>8869.500000</td>\n",
       "      <td>3989.522500</td>\n",
       "      <td>0.262670</td>\n",
       "      <td>777.500000</td>\n",
       "    </tr>\n",
       "    <tr>\n",
       "      <th>max</th>\n",
       "      <td>12212.000000</td>\n",
       "      <td>4864.220000</td>\n",
       "      <td>0.464125</td>\n",
       "      <td>1300.000000</td>\n",
       "    </tr>\n",
       "  </tbody>\n",
       "</table>\n",
       "</div>"
      ],
      "text/plain": [
       "               area         peri      shape         perm\n",
       "count     48.000000    48.000000  48.000000    48.000000\n",
       "mean    7187.729167  2682.211938   0.218110   415.450000\n",
       "std     2683.848862  1431.661164   0.083496   437.818226\n",
       "min     1016.000000   308.642000   0.090330     6.300000\n",
       "25%     5305.250000  1414.907500   0.162262    76.450000\n",
       "50%     7487.000000  2536.195000   0.198862   130.500000\n",
       "75%     8869.500000  3989.522500   0.262670   777.500000\n",
       "max    12212.000000  4864.220000   0.464125  1300.000000"
      ]
     },
     "execution_count": 15,
     "metadata": {},
     "output_type": "execute_result"
    }
   ],
   "source": [
    "df.describe()"
   ]
  },
  {
   "cell_type": "markdown",
   "id": "df9f57d8",
   "metadata": {},
   "source": [
    "Si nos fijamos esto nos devuelve solo los principales estadísticos de las variables numéricas, pero ... ¿qué pasa con las variables categóricas? Para esto tenemos el parámetro `include` dentro del `describe` donde podremos especificar que tipo de dato queremos. \n",
    "\n",
    "En este caso, todas nuestras variables son de tipo numérico, pero podría darse el caso que tengamos variables de tipo *string*, que en Pandas nos aparacerá como tipo **object**. Para poder acceder a los principales estadísticos de estas columnas haremos lo siguiente: \n",
    "\n",
    "```python\n",
    "df.describe(include = \"object\")\n",
    "```"
   ]
  },
  {
   "cell_type": "markdown",
   "id": "d28ee2d1",
   "metadata": {},
   "source": [
    "- `info()` \n",
    "\n",
    "Nos devuelve un pequeño resumen sobre: \n",
    "\n",
    "- El número de columnas que tenemos.\n",
    "- Los nombres de las columnas.\n",
    "- El número de valores no nulos.\n",
    "- El tipo de los datos de nuestras columnas."
   ]
  },
  {
   "cell_type": "code",
   "execution_count": 16,
   "id": "85d05418",
   "metadata": {},
   "outputs": [
    {
     "name": "stdout",
     "output_type": "stream",
     "text": [
      "<class 'pandas.core.frame.DataFrame'>\n",
      "Int64Index: 48 entries, 1 to 48\n",
      "Data columns (total 4 columns):\n",
      " #   Column  Non-Null Count  Dtype  \n",
      "---  ------  --------------  -----  \n",
      " 0   area    48 non-null     int64  \n",
      " 1   peri    48 non-null     float64\n",
      " 2   shape   48 non-null     float64\n",
      " 3   perm    48 non-null     float64\n",
      "dtypes: float64(3), int64(1)\n",
      "memory usage: 1.9 KB\n"
     ]
    }
   ],
   "source": [
    "df.info()"
   ]
  },
  {
   "cell_type": "markdown",
   "id": "60b4402f",
   "metadata": {},
   "source": [
    "- `unique()`\n",
    "\n",
    "En este caso tendremos que especificar la columna sobre la que queremos trabajar. \n",
    "\n",
    "¿Cómo hacemos esto en pandas? \n",
    "\n",
    "```python\n",
    "# el nombre del DataFrame seguido de corchetes con el nombre de la columna\n",
    "df[\"nombre_columna\"]\n",
    "\n",
    "# esto es lo mismo que: \n",
    "\n",
    "df.nombre_columna\n",
    "```"
   ]
  },
  {
   "cell_type": "code",
   "execution_count": 17,
   "id": "f20cecdb",
   "metadata": {},
   "outputs": [
    {
     "data": {
      "text/plain": [
       "array([ 4990,  7002,  7558,  7352,  7943,  7979,  9333,  8209,  8393,\n",
       "        6425,  9364,  8624, 10651,  8868,  9417,  8874, 10962, 10743,\n",
       "       11878,  9867,  7838, 11876, 12212,  8233,  6360,  4193,  7416,\n",
       "        5246,  6509,  4895,  6775,  7894,  5980,  5318,  7392,  3469,\n",
       "        1468,  3524,  5267,  5048,  1016,  5605,  8793,  3475,  1651,\n",
       "        5514,  9718])"
      ]
     },
     "execution_count": 17,
     "metadata": {},
     "output_type": "execute_result"
    }
   ],
   "source": [
    "# en la columna area tenemos los siguientes valores únicos. \n",
    "\n",
    "df[\"area\"].unique()"
   ]
  },
  {
   "cell_type": "code",
   "execution_count": 18,
   "id": "f2a59a24",
   "metadata": {},
   "outputs": [
    {
     "data": {
      "text/plain": [
       "array([   6.3,   17.1,  119. ,   82.4,   58.6,  142. ,  740. ,  890. ,\n",
       "        950. ,  100. , 1300. ,  580. ])"
      ]
     },
     "execution_count": 18,
     "metadata": {},
     "output_type": "execute_result"
    }
   ],
   "source": [
    "# ¿y que valores únicos tenemos en la columna perm?\n",
    "\n",
    "df[\"perm\"].unique()"
   ]
  },
  {
   "cell_type": "markdown",
   "id": "9f0fe0b7",
   "metadata": {},
   "source": [
    "- `value_counts()`\n",
    "\n",
    "Devuelve una serie que contiene el recuento de valores únicos.\n",
    "\n",
    "El objeto resultante estará en orden descendente para que el primer elemento sea el más frecuente. Excluye los valores NA por defecto.\n",
    "\n",
    "De nuevo tendremos que especificar que columna es sobre la que queremos aplicar el método. "
   ]
  },
  {
   "cell_type": "code",
   "execution_count": 19,
   "id": "2833907a",
   "metadata": {},
   "outputs": [
    {
     "data": {
      "text/plain": [
       "6.3       4\n",
       "17.1      4\n",
       "119.0     4\n",
       "82.4      4\n",
       "58.6      4\n",
       "142.0     4\n",
       "740.0     4\n",
       "890.0     4\n",
       "950.0     4\n",
       "100.0     4\n",
       "1300.0    4\n",
       "580.0     4\n",
       "Name: perm, dtype: int64"
      ]
     },
     "execution_count": 19,
     "metadata": {},
     "output_type": "execute_result"
    }
   ],
   "source": [
    "# en este caso, para cada uno de nuestros valores únicos tenemos 4 valores en nuestro DataFrame\n",
    "\n",
    "df[\"perm\"].value_counts()"
   ]
  },
  {
   "cell_type": "code",
   "execution_count": 20,
   "id": "c1a18d14",
   "metadata": {},
   "outputs": [
    {
     "data": {
      "text/plain": [
       "1461.060    2\n",
       "2791.900    1\n",
       "1376.700    1\n",
       "1916.240    1\n",
       "1585.420    1\n",
       "1851.210    1\n",
       "1239.660    1\n",
       "1728.140    1\n",
       "1426.760    1\n",
       "990.388     1\n",
       "1350.760    1\n",
       "476.322     1\n",
       "1977.390    1\n",
       "1189.460    1\n",
       "1644.960    1\n",
       "941.543     1\n",
       "308.642     1\n",
       "1145.690    1\n",
       "2280.490    1\n",
       "1174.110    1\n",
       "597.808     1\n",
       "1455.880    1\n",
       "1379.350    1\n",
       "3518.440    1\n",
       "3892.600    1\n",
       "3986.240    1\n",
       "3930.660    1\n",
       "3869.320    1\n",
       "3948.540    1\n",
       "4010.150    1\n",
       "4345.750    1\n",
       "4344.750    1\n",
       "3682.040    1\n",
       "3098.650    1\n",
       "4480.050    1\n",
       "4036.540    1\n",
       "4697.650    1\n",
       "3518.040    1\n",
       "3999.370    1\n",
       "3629.070    1\n",
       "4608.660    1\n",
       "4787.620    1\n",
       "4864.220    1\n",
       "4479.410    1\n",
       "3428.740    1\n",
       "4353.140    1\n",
       "1485.580    1\n",
       "Name: peri, dtype: int64"
      ]
     },
     "execution_count": 20,
     "metadata": {},
     "output_type": "execute_result"
    }
   ],
   "source": [
    "df[\"peri\"].value_counts()"
   ]
  },
  {
   "cell_type": "markdown",
   "id": "503bf983",
   "metadata": {},
   "source": [
    "- `isnull()`\n",
    "\n",
    "Nos devuelve un booleano con los valores que faltan en nuestro DataFrame."
   ]
  },
  {
   "cell_type": "code",
   "execution_count": 21,
   "id": "dcb606d1",
   "metadata": {},
   "outputs": [
    {
     "data": {
      "text/html": [
       "<div>\n",
       "<style scoped>\n",
       "    .dataframe tbody tr th:only-of-type {\n",
       "        vertical-align: middle;\n",
       "    }\n",
       "\n",
       "    .dataframe tbody tr th {\n",
       "        vertical-align: top;\n",
       "    }\n",
       "\n",
       "    .dataframe thead th {\n",
       "        text-align: right;\n",
       "    }\n",
       "</style>\n",
       "<table border=\"1\" class=\"dataframe\">\n",
       "  <thead>\n",
       "    <tr style=\"text-align: right;\">\n",
       "      <th></th>\n",
       "      <th>area</th>\n",
       "      <th>peri</th>\n",
       "      <th>shape</th>\n",
       "      <th>perm</th>\n",
       "    </tr>\n",
       "  </thead>\n",
       "  <tbody>\n",
       "    <tr>\n",
       "      <th>1</th>\n",
       "      <td>False</td>\n",
       "      <td>False</td>\n",
       "      <td>False</td>\n",
       "      <td>False</td>\n",
       "    </tr>\n",
       "    <tr>\n",
       "      <th>2</th>\n",
       "      <td>False</td>\n",
       "      <td>False</td>\n",
       "      <td>False</td>\n",
       "      <td>False</td>\n",
       "    </tr>\n",
       "    <tr>\n",
       "      <th>3</th>\n",
       "      <td>False</td>\n",
       "      <td>False</td>\n",
       "      <td>False</td>\n",
       "      <td>False</td>\n",
       "    </tr>\n",
       "    <tr>\n",
       "      <th>4</th>\n",
       "      <td>False</td>\n",
       "      <td>False</td>\n",
       "      <td>False</td>\n",
       "      <td>False</td>\n",
       "    </tr>\n",
       "    <tr>\n",
       "      <th>5</th>\n",
       "      <td>False</td>\n",
       "      <td>False</td>\n",
       "      <td>False</td>\n",
       "      <td>False</td>\n",
       "    </tr>\n",
       "  </tbody>\n",
       "</table>\n",
       "</div>"
      ],
      "text/plain": [
       "    area   peri  shape   perm\n",
       "1  False  False  False  False\n",
       "2  False  False  False  False\n",
       "3  False  False  False  False\n",
       "4  False  False  False  False\n",
       "5  False  False  False  False"
      ]
     },
     "execution_count": 21,
     "metadata": {},
     "output_type": "execute_result"
    }
   ],
   "source": [
    "df.isnull().head()"
   ]
  },
  {
   "cell_type": "markdown",
   "id": "f42328fc",
   "metadata": {},
   "source": [
    "Pero si nos fijamos esto es algo difícil de interpretar, ¿cómo solucionamos esto? "
   ]
  },
  {
   "cell_type": "code",
   "execution_count": 22,
   "id": "adbaeac2",
   "metadata": {},
   "outputs": [
    {
     "data": {
      "text/plain": [
       "area     0\n",
       "peri     0\n",
       "shape    0\n",
       "perm     0\n",
       "dtype: int64"
      ]
     },
     "execution_count": 22,
     "metadata": {},
     "output_type": "execute_result"
    }
   ],
   "source": [
    "# de esta forma nos devuelve el número de valores nulos que tenemos por columnas. En este caso 0 por columna\n",
    "\n",
    "df.isnull().sum()"
   ]
  },
  {
   "cell_type": "markdown",
   "id": "b12024e7",
   "metadata": {},
   "source": [
    "- `isna()`\n",
    "\n",
    "Hace lo mismo que el método anterior, nos devuelve si nuestros valores son nulos o no. "
   ]
  },
  {
   "cell_type": "code",
   "execution_count": 23,
   "id": "a095ed65",
   "metadata": {},
   "outputs": [
    {
     "data": {
      "text/plain": [
       "area     0\n",
       "peri     0\n",
       "shape    0\n",
       "perm     0\n",
       "dtype: int64"
      ]
     },
     "execution_count": 23,
     "metadata": {},
     "output_type": "execute_result"
    }
   ],
   "source": [
    "df.isna().sum()"
   ]
  },
  {
   "cell_type": "markdown",
   "id": "80144866",
   "metadata": {},
   "source": [
    "- `corr()`\n",
    "\n",
    "Calcula la correlación por pares de las columnas, excluyendo los valores NA/nulos. \n",
    "\n",
    "Aunque ya lo veremos más adelante, la correlación trata de establecer la relación o dependencia que existe entre dos variables. Cuanto más cerca del 1 esté este valor, más correlacionadas estarán las variables. El signo indica si esa correlación es positiva o negativa. Es decir:\n",
    "\n",
    "- Positiva: a mayor valor de una variable, mayor valor de la otra. \n",
    "- Negativa: a mayor valor de una variable, menor de la otra. "
   ]
  },
  {
   "cell_type": "code",
   "execution_count": 24,
   "id": "263d9b18",
   "metadata": {},
   "outputs": [
    {
     "data": {
      "text/html": [
       "<div>\n",
       "<style scoped>\n",
       "    .dataframe tbody tr th:only-of-type {\n",
       "        vertical-align: middle;\n",
       "    }\n",
       "\n",
       "    .dataframe tbody tr th {\n",
       "        vertical-align: top;\n",
       "    }\n",
       "\n",
       "    .dataframe thead th {\n",
       "        text-align: right;\n",
       "    }\n",
       "</style>\n",
       "<table border=\"1\" class=\"dataframe\">\n",
       "  <thead>\n",
       "    <tr style=\"text-align: right;\">\n",
       "      <th></th>\n",
       "      <th>area</th>\n",
       "      <th>peri</th>\n",
       "      <th>shape</th>\n",
       "      <th>perm</th>\n",
       "    </tr>\n",
       "  </thead>\n",
       "  <tbody>\n",
       "    <tr>\n",
       "      <th>area</th>\n",
       "      <td>1.000000</td>\n",
       "      <td>0.822506</td>\n",
       "      <td>-0.182161</td>\n",
       "      <td>-0.396637</td>\n",
       "    </tr>\n",
       "    <tr>\n",
       "      <th>peri</th>\n",
       "      <td>0.822506</td>\n",
       "      <td>1.000000</td>\n",
       "      <td>-0.433126</td>\n",
       "      <td>-0.738716</td>\n",
       "    </tr>\n",
       "    <tr>\n",
       "      <th>shape</th>\n",
       "      <td>-0.182161</td>\n",
       "      <td>-0.433126</td>\n",
       "      <td>1.000000</td>\n",
       "      <td>0.556721</td>\n",
       "    </tr>\n",
       "    <tr>\n",
       "      <th>perm</th>\n",
       "      <td>-0.396637</td>\n",
       "      <td>-0.738716</td>\n",
       "      <td>0.556721</td>\n",
       "      <td>1.000000</td>\n",
       "    </tr>\n",
       "  </tbody>\n",
       "</table>\n",
       "</div>"
      ],
      "text/plain": [
       "           area      peri     shape      perm\n",
       "area   1.000000  0.822506 -0.182161 -0.396637\n",
       "peri   0.822506  1.000000 -0.433126 -0.738716\n",
       "shape -0.182161 -0.433126  1.000000  0.556721\n",
       "perm  -0.396637 -0.738716  0.556721  1.000000"
      ]
     },
     "execution_count": 24,
     "metadata": {},
     "output_type": "execute_result"
    }
   ],
   "source": [
    "df.corr()"
   ]
  },
  {
   "cell_type": "markdown",
   "id": "9f7068c8",
   "metadata": {},
   "source": [
    "## Métodos para modificar algunas características"
   ]
  },
  {
   "cell_type": "markdown",
   "id": "8c31271e",
   "metadata": {},
   "source": [
    "- `set_index()`\n",
    "\n",
    "Establezca el índice del DataFrame (etiquetas de fila) utilizando una o más columnas. El índice puede sustituir al índice existente o ampliarlo.\n",
    "\n",
    "La sintaxis que debemos seguir: \n",
    "\n",
    "```python\n",
    "nuestroDataFrame.set_index([\"nombre_columna\"], inplace = True)\n",
    "\n",
    "# con el parámetro `inplace` lo que hacemos es sobreescribir sobre el DataFrame orginal. Es decir, los cambios se ejecutarán sobre nuestro DataFrame sin necesidad de crear uno nuevo\n",
    "```"
   ]
  },
  {
   "cell_type": "code",
   "execution_count": 25,
   "id": "ea96b5f9",
   "metadata": {},
   "outputs": [],
   "source": [
    "df.set_index([\"area\"], inplace = True)"
   ]
  },
  {
   "cell_type": "code",
   "execution_count": 26,
   "id": "7c5f325a",
   "metadata": {},
   "outputs": [
    {
     "data": {
      "text/html": [
       "<div>\n",
       "<style scoped>\n",
       "    .dataframe tbody tr th:only-of-type {\n",
       "        vertical-align: middle;\n",
       "    }\n",
       "\n",
       "    .dataframe tbody tr th {\n",
       "        vertical-align: top;\n",
       "    }\n",
       "\n",
       "    .dataframe thead th {\n",
       "        text-align: right;\n",
       "    }\n",
       "</style>\n",
       "<table border=\"1\" class=\"dataframe\">\n",
       "  <thead>\n",
       "    <tr style=\"text-align: right;\">\n",
       "      <th></th>\n",
       "      <th>peri</th>\n",
       "      <th>shape</th>\n",
       "      <th>perm</th>\n",
       "    </tr>\n",
       "    <tr>\n",
       "      <th>area</th>\n",
       "      <th></th>\n",
       "      <th></th>\n",
       "      <th></th>\n",
       "    </tr>\n",
       "  </thead>\n",
       "  <tbody>\n",
       "    <tr>\n",
       "      <th>4990</th>\n",
       "      <td>2791.90</td>\n",
       "      <td>0.090330</td>\n",
       "      <td>6.3</td>\n",
       "    </tr>\n",
       "    <tr>\n",
       "      <th>7002</th>\n",
       "      <td>3892.60</td>\n",
       "      <td>0.148622</td>\n",
       "      <td>6.3</td>\n",
       "    </tr>\n",
       "    <tr>\n",
       "      <th>7558</th>\n",
       "      <td>3930.66</td>\n",
       "      <td>0.183312</td>\n",
       "      <td>6.3</td>\n",
       "    </tr>\n",
       "    <tr>\n",
       "      <th>7352</th>\n",
       "      <td>3869.32</td>\n",
       "      <td>0.117063</td>\n",
       "      <td>6.3</td>\n",
       "    </tr>\n",
       "    <tr>\n",
       "      <th>7943</th>\n",
       "      <td>3948.54</td>\n",
       "      <td>0.122417</td>\n",
       "      <td>17.1</td>\n",
       "    </tr>\n",
       "  </tbody>\n",
       "</table>\n",
       "</div>"
      ],
      "text/plain": [
       "         peri     shape  perm\n",
       "area                         \n",
       "4990  2791.90  0.090330   6.3\n",
       "7002  3892.60  0.148622   6.3\n",
       "7558  3930.66  0.183312   6.3\n",
       "7352  3869.32  0.117063   6.3\n",
       "7943  3948.54  0.122417  17.1"
      ]
     },
     "execution_count": 26,
     "metadata": {},
     "output_type": "execute_result"
    }
   ],
   "source": [
    "df.head()"
   ]
  },
  {
   "cell_type": "code",
   "execution_count": 27,
   "id": "36b9ba2e",
   "metadata": {},
   "outputs": [
    {
     "data": {
      "text/plain": [
       "Index(['peri', 'shape', 'perm'], dtype='object')"
      ]
     },
     "execution_count": 27,
     "metadata": {},
     "output_type": "execute_result"
    }
   ],
   "source": [
    "# ⚠️ ojo! que cuando ponemos una columna como índice ya no formará parte de nuestras columnas\n",
    "\n",
    "df.columns"
   ]
  },
  {
   "cell_type": "markdown",
   "id": "b91b962b",
   "metadata": {},
   "source": [
    "📌 Si nos fijamos ahora la columna `area` aparece como el índice de nuestro DataFrame. "
   ]
  },
  {
   "cell_type": "markdown",
   "id": "c442303e",
   "metadata": {},
   "source": [
    "- `reset_index()`\n",
    "\n",
    "De la misma forma que podemos poner una columna como índice, podemos quitarla para que pase a formar parte de las columnas. "
   ]
  },
  {
   "cell_type": "code",
   "execution_count": 28,
   "id": "f718fee1",
   "metadata": {},
   "outputs": [],
   "source": [
    "df.reset_index(inplace = True)"
   ]
  },
  {
   "cell_type": "code",
   "execution_count": 29,
   "id": "11fd67a1",
   "metadata": {},
   "outputs": [
    {
     "data": {
      "text/html": [
       "<div>\n",
       "<style scoped>\n",
       "    .dataframe tbody tr th:only-of-type {\n",
       "        vertical-align: middle;\n",
       "    }\n",
       "\n",
       "    .dataframe tbody tr th {\n",
       "        vertical-align: top;\n",
       "    }\n",
       "\n",
       "    .dataframe thead th {\n",
       "        text-align: right;\n",
       "    }\n",
       "</style>\n",
       "<table border=\"1\" class=\"dataframe\">\n",
       "  <thead>\n",
       "    <tr style=\"text-align: right;\">\n",
       "      <th></th>\n",
       "      <th>area</th>\n",
       "      <th>peri</th>\n",
       "      <th>shape</th>\n",
       "      <th>perm</th>\n",
       "    </tr>\n",
       "  </thead>\n",
       "  <tbody>\n",
       "    <tr>\n",
       "      <th>0</th>\n",
       "      <td>4990</td>\n",
       "      <td>2791.90</td>\n",
       "      <td>0.090330</td>\n",
       "      <td>6.3</td>\n",
       "    </tr>\n",
       "    <tr>\n",
       "      <th>1</th>\n",
       "      <td>7002</td>\n",
       "      <td>3892.60</td>\n",
       "      <td>0.148622</td>\n",
       "      <td>6.3</td>\n",
       "    </tr>\n",
       "    <tr>\n",
       "      <th>2</th>\n",
       "      <td>7558</td>\n",
       "      <td>3930.66</td>\n",
       "      <td>0.183312</td>\n",
       "      <td>6.3</td>\n",
       "    </tr>\n",
       "    <tr>\n",
       "      <th>3</th>\n",
       "      <td>7352</td>\n",
       "      <td>3869.32</td>\n",
       "      <td>0.117063</td>\n",
       "      <td>6.3</td>\n",
       "    </tr>\n",
       "    <tr>\n",
       "      <th>4</th>\n",
       "      <td>7943</td>\n",
       "      <td>3948.54</td>\n",
       "      <td>0.122417</td>\n",
       "      <td>17.1</td>\n",
       "    </tr>\n",
       "  </tbody>\n",
       "</table>\n",
       "</div>"
      ],
      "text/plain": [
       "   area     peri     shape  perm\n",
       "0  4990  2791.90  0.090330   6.3\n",
       "1  7002  3892.60  0.148622   6.3\n",
       "2  7558  3930.66  0.183312   6.3\n",
       "3  7352  3869.32  0.117063   6.3\n",
       "4  7943  3948.54  0.122417  17.1"
      ]
     },
     "execution_count": 29,
     "metadata": {},
     "output_type": "execute_result"
    }
   ],
   "source": [
    "df.head()"
   ]
  },
  {
   "cell_type": "markdown",
   "id": "3c048a9b",
   "metadata": {},
   "source": [
    "- `rename()`\n",
    "\n",
    "Nos va a permitir modificar el nombre de nuestras columnas. \n",
    "\n",
    "📌 Necesitaremos usar diccionarios para usar este método. La sintaxis que aplicaremos será: \n",
    "\n",
    "```python\n",
    "MiDataframe.rename(columns = {\"nombre-antiguo\": \"nombre-nuevo\"}, inplace = True)\n",
    "```"
   ]
  },
  {
   "cell_type": "markdown",
   "id": "72ad52b8",
   "metadata": {},
   "source": [
    "En este caso tenemos los nombres de las columnas en ingles y vamos cambiarlas al español: "
   ]
  },
  {
   "cell_type": "code",
   "execution_count": 30,
   "id": "f0e81e09",
   "metadata": {},
   "outputs": [],
   "source": [
    "df.rename(columns = {\"area\": \"area\", \"peri\": \"perimetro\", \"shape\": \"forma\", \"perm\": \"perm\"}, inplace = True)"
   ]
  },
  {
   "cell_type": "code",
   "execution_count": 31,
   "id": "a7585a23",
   "metadata": {},
   "outputs": [
    {
     "data": {
      "text/plain": [
       "Index(['area', 'perimetro', 'forma', 'perm'], dtype='object')"
      ]
     },
     "execution_count": 31,
     "metadata": {},
     "output_type": "execute_result"
    }
   ],
   "source": [
    "# si ahora chequeamos los nombres de las columnas veremos que estos han cambiado. \n",
    "\n",
    "df.columns"
   ]
  },
  {
   "cell_type": "markdown",
   "id": "40fda4a4",
   "metadata": {},
   "source": [
    "Si tenemos muchas columnas que cambiar puede resultar muy tedioso. Pero lo podemos optimizar! \n",
    "\n",
    "🤔 ¿Recordais que con las *list comprehensions*? Podremos hacer lo mismo pero creando diccionarios. Vamos a poner en mayúsculas los nombres de las columnas. "
   ]
  },
  {
   "cell_type": "code",
   "execution_count": 32,
   "id": "ab8912f3",
   "metadata": {},
   "outputs": [],
   "source": [
    "# lo primero que tendremos que hacer es un dict comprehension donde las keys\n",
    "# serán el nombre de la columnas antiguas y los values el nuevo nombre\n",
    "\n",
    "columnas_nuevas = {col :  col.upper() for col in df.columns}"
   ]
  },
  {
   "cell_type": "code",
   "execution_count": 33,
   "id": "0bd3adeb",
   "metadata": {},
   "outputs": [
    {
     "data": {
      "text/plain": [
       "{'area': 'AREA', 'perimetro': 'PERIMETRO', 'forma': 'FORMA', 'perm': 'PERM'}"
      ]
     },
     "execution_count": 33,
     "metadata": {},
     "output_type": "execute_result"
    }
   ],
   "source": [
    "# chequeamos si nuestro diccionario está bien\n",
    "\n",
    "columnas_nuevas"
   ]
  },
  {
   "cell_type": "code",
   "execution_count": 34,
   "id": "348bb7ee",
   "metadata": {},
   "outputs": [],
   "source": [
    "df.rename(columns = columnas_nuevas, inplace = True)"
   ]
  },
  {
   "cell_type": "code",
   "execution_count": 35,
   "id": "1e6a76df",
   "metadata": {},
   "outputs": [
    {
     "data": {
      "text/html": [
       "<div>\n",
       "<style scoped>\n",
       "    .dataframe tbody tr th:only-of-type {\n",
       "        vertical-align: middle;\n",
       "    }\n",
       "\n",
       "    .dataframe tbody tr th {\n",
       "        vertical-align: top;\n",
       "    }\n",
       "\n",
       "    .dataframe thead th {\n",
       "        text-align: right;\n",
       "    }\n",
       "</style>\n",
       "<table border=\"1\" class=\"dataframe\">\n",
       "  <thead>\n",
       "    <tr style=\"text-align: right;\">\n",
       "      <th></th>\n",
       "      <th>AREA</th>\n",
       "      <th>PERIMETRO</th>\n",
       "      <th>FORMA</th>\n",
       "      <th>PERM</th>\n",
       "    </tr>\n",
       "  </thead>\n",
       "  <tbody>\n",
       "    <tr>\n",
       "      <th>0</th>\n",
       "      <td>4990</td>\n",
       "      <td>2791.90</td>\n",
       "      <td>0.090330</td>\n",
       "      <td>6.3</td>\n",
       "    </tr>\n",
       "    <tr>\n",
       "      <th>1</th>\n",
       "      <td>7002</td>\n",
       "      <td>3892.60</td>\n",
       "      <td>0.148622</td>\n",
       "      <td>6.3</td>\n",
       "    </tr>\n",
       "    <tr>\n",
       "      <th>2</th>\n",
       "      <td>7558</td>\n",
       "      <td>3930.66</td>\n",
       "      <td>0.183312</td>\n",
       "      <td>6.3</td>\n",
       "    </tr>\n",
       "    <tr>\n",
       "      <th>3</th>\n",
       "      <td>7352</td>\n",
       "      <td>3869.32</td>\n",
       "      <td>0.117063</td>\n",
       "      <td>6.3</td>\n",
       "    </tr>\n",
       "    <tr>\n",
       "      <th>4</th>\n",
       "      <td>7943</td>\n",
       "      <td>3948.54</td>\n",
       "      <td>0.122417</td>\n",
       "      <td>17.1</td>\n",
       "    </tr>\n",
       "  </tbody>\n",
       "</table>\n",
       "</div>"
      ],
      "text/plain": [
       "   AREA  PERIMETRO     FORMA  PERM\n",
       "0  4990    2791.90  0.090330   6.3\n",
       "1  7002    3892.60  0.148622   6.3\n",
       "2  7558    3930.66  0.183312   6.3\n",
       "3  7352    3869.32  0.117063   6.3\n",
       "4  7943    3948.54  0.122417  17.1"
      ]
     },
     "execution_count": 35,
     "metadata": {},
     "output_type": "execute_result"
    }
   ],
   "source": [
    "# Bien 💪 ya tenemos todas nuestras columnas cambiadas!!\n",
    "\n",
    "df.head()"
   ]
  },
  {
   "cell_type": "markdown",
   "id": "d4c6af57",
   "metadata": {},
   "source": [
    "- `drop()`\n",
    "\n",
    "Elimina las etiquetas especificadas de las filas o columnas.\n",
    "\n",
    "La sintaxis básica que debemos seguir: \n",
    "\n",
    "```python\n",
    "MiDataframe.drop(labels, axis)\n",
    "```\n",
    "\n",
    "Donde: \n",
    "\n",
    "- `labels`: Los elementos que queremos eliminar, que además deben ir en una lista. \n",
    "- `axis`: hace referencia al eje sobre el que queremos aplicar la eliminación: \n",
    "    \n",
    "    - axis = 1 COLUMNAS\n",
    "    - axis = 0 FILAS"
   ]
  },
  {
   "cell_type": "code",
   "execution_count": 36,
   "id": "fb67e07b",
   "metadata": {},
   "outputs": [],
   "source": [
    "# En este caso vamos a crear una DataFrame nuevo para almacenar los cambios de eliminar filas o columnas. \n",
    "# Como lo haremos con columnas: queremos eliminar la columna \"area\" de las columnas\n",
    "\n",
    "df_eliminar = df.drop([\"AREA\"], axis = 1)"
   ]
  },
  {
   "cell_type": "code",
   "execution_count": 37,
   "id": "fcb8197e",
   "metadata": {},
   "outputs": [
    {
     "data": {
      "text/html": [
       "<div>\n",
       "<style scoped>\n",
       "    .dataframe tbody tr th:only-of-type {\n",
       "        vertical-align: middle;\n",
       "    }\n",
       "\n",
       "    .dataframe tbody tr th {\n",
       "        vertical-align: top;\n",
       "    }\n",
       "\n",
       "    .dataframe thead th {\n",
       "        text-align: right;\n",
       "    }\n",
       "</style>\n",
       "<table border=\"1\" class=\"dataframe\">\n",
       "  <thead>\n",
       "    <tr style=\"text-align: right;\">\n",
       "      <th></th>\n",
       "      <th>PERIMETRO</th>\n",
       "      <th>FORMA</th>\n",
       "      <th>PERM</th>\n",
       "    </tr>\n",
       "  </thead>\n",
       "  <tbody>\n",
       "    <tr>\n",
       "      <th>0</th>\n",
       "      <td>2791.90</td>\n",
       "      <td>0.090330</td>\n",
       "      <td>6.3</td>\n",
       "    </tr>\n",
       "    <tr>\n",
       "      <th>1</th>\n",
       "      <td>3892.60</td>\n",
       "      <td>0.148622</td>\n",
       "      <td>6.3</td>\n",
       "    </tr>\n",
       "    <tr>\n",
       "      <th>2</th>\n",
       "      <td>3930.66</td>\n",
       "      <td>0.183312</td>\n",
       "      <td>6.3</td>\n",
       "    </tr>\n",
       "    <tr>\n",
       "      <th>3</th>\n",
       "      <td>3869.32</td>\n",
       "      <td>0.117063</td>\n",
       "      <td>6.3</td>\n",
       "    </tr>\n",
       "    <tr>\n",
       "      <th>4</th>\n",
       "      <td>3948.54</td>\n",
       "      <td>0.122417</td>\n",
       "      <td>17.1</td>\n",
       "    </tr>\n",
       "  </tbody>\n",
       "</table>\n",
       "</div>"
      ],
      "text/plain": [
       "   PERIMETRO     FORMA  PERM\n",
       "0    2791.90  0.090330   6.3\n",
       "1    3892.60  0.148622   6.3\n",
       "2    3930.66  0.183312   6.3\n",
       "3    3869.32  0.117063   6.3\n",
       "4    3948.54  0.122417  17.1"
      ]
     },
     "execution_count": 37,
     "metadata": {},
     "output_type": "execute_result"
    }
   ],
   "source": [
    "# si nos fijamos hemos eliminado la columna \"area\" de nuestro DataFrame\n",
    "df_eliminar.head()"
   ]
  },
  {
   "cell_type": "code",
   "execution_count": 38,
   "id": "d4684c69",
   "metadata": {},
   "outputs": [
    {
     "data": {
      "text/html": [
       "<div>\n",
       "<style scoped>\n",
       "    .dataframe tbody tr th:only-of-type {\n",
       "        vertical-align: middle;\n",
       "    }\n",
       "\n",
       "    .dataframe tbody tr th {\n",
       "        vertical-align: top;\n",
       "    }\n",
       "\n",
       "    .dataframe thead th {\n",
       "        text-align: right;\n",
       "    }\n",
       "</style>\n",
       "<table border=\"1\" class=\"dataframe\">\n",
       "  <thead>\n",
       "    <tr style=\"text-align: right;\">\n",
       "      <th></th>\n",
       "      <th>PERIMETRO</th>\n",
       "      <th>PERM</th>\n",
       "    </tr>\n",
       "  </thead>\n",
       "  <tbody>\n",
       "    <tr>\n",
       "      <th>0</th>\n",
       "      <td>2791.90</td>\n",
       "      <td>6.3</td>\n",
       "    </tr>\n",
       "    <tr>\n",
       "      <th>1</th>\n",
       "      <td>3892.60</td>\n",
       "      <td>6.3</td>\n",
       "    </tr>\n",
       "    <tr>\n",
       "      <th>2</th>\n",
       "      <td>3930.66</td>\n",
       "      <td>6.3</td>\n",
       "    </tr>\n",
       "    <tr>\n",
       "      <th>3</th>\n",
       "      <td>3869.32</td>\n",
       "      <td>6.3</td>\n",
       "    </tr>\n",
       "    <tr>\n",
       "      <th>4</th>\n",
       "      <td>3948.54</td>\n",
       "      <td>17.1</td>\n",
       "    </tr>\n",
       "  </tbody>\n",
       "</table>\n",
       "</div>"
      ],
      "text/plain": [
       "   PERIMETRO  PERM\n",
       "0    2791.90   6.3\n",
       "1    3892.60   6.3\n",
       "2    3930.66   6.3\n",
       "3    3869.32   6.3\n",
       "4    3948.54  17.1"
      ]
     },
     "execution_count": 38,
     "metadata": {},
     "output_type": "execute_result"
    }
   ],
   "source": [
    "# podemos incluso eliminar 1 o más columnas\n",
    "\n",
    "df_eliminar2 = df.drop([\"AREA\", \"FORMA\"], axis = 1)\n",
    "df_eliminar2.head()"
   ]
  },
  {
   "cell_type": "code",
   "execution_count": 39,
   "id": "53d525fa",
   "metadata": {},
   "outputs": [
    {
     "data": {
      "text/html": [
       "<div>\n",
       "<style scoped>\n",
       "    .dataframe tbody tr th:only-of-type {\n",
       "        vertical-align: middle;\n",
       "    }\n",
       "\n",
       "    .dataframe tbody tr th {\n",
       "        vertical-align: top;\n",
       "    }\n",
       "\n",
       "    .dataframe thead th {\n",
       "        text-align: right;\n",
       "    }\n",
       "</style>\n",
       "<table border=\"1\" class=\"dataframe\">\n",
       "  <thead>\n",
       "    <tr style=\"text-align: right;\">\n",
       "      <th></th>\n",
       "      <th>AREA</th>\n",
       "      <th>PERIMETRO</th>\n",
       "      <th>FORMA</th>\n",
       "      <th>PERM</th>\n",
       "    </tr>\n",
       "  </thead>\n",
       "  <tbody>\n",
       "    <tr>\n",
       "      <th>2</th>\n",
       "      <td>7558</td>\n",
       "      <td>3930.66</td>\n",
       "      <td>0.183312</td>\n",
       "      <td>6.3</td>\n",
       "    </tr>\n",
       "    <tr>\n",
       "      <th>3</th>\n",
       "      <td>7352</td>\n",
       "      <td>3869.32</td>\n",
       "      <td>0.117063</td>\n",
       "      <td>6.3</td>\n",
       "    </tr>\n",
       "    <tr>\n",
       "      <th>4</th>\n",
       "      <td>7943</td>\n",
       "      <td>3948.54</td>\n",
       "      <td>0.122417</td>\n",
       "      <td>17.1</td>\n",
       "    </tr>\n",
       "    <tr>\n",
       "      <th>5</th>\n",
       "      <td>7979</td>\n",
       "      <td>4010.15</td>\n",
       "      <td>0.167045</td>\n",
       "      <td>17.1</td>\n",
       "    </tr>\n",
       "    <tr>\n",
       "      <th>6</th>\n",
       "      <td>9333</td>\n",
       "      <td>4345.75</td>\n",
       "      <td>0.189651</td>\n",
       "      <td>17.1</td>\n",
       "    </tr>\n",
       "  </tbody>\n",
       "</table>\n",
       "</div>"
      ],
      "text/plain": [
       "   AREA  PERIMETRO     FORMA  PERM\n",
       "2  7558    3930.66  0.183312   6.3\n",
       "3  7352    3869.32  0.117063   6.3\n",
       "4  7943    3948.54  0.122417  17.1\n",
       "5  7979    4010.15  0.167045  17.1\n",
       "6  9333    4345.75  0.189651  17.1"
      ]
     },
     "execution_count": 39,
     "metadata": {},
     "output_type": "execute_result"
    }
   ],
   "source": [
    "# ¿ y cómo lo haríamos para las filas? \n",
    "# En este caso las \"etiquetas\" serán los valores de los índices de las filas\n",
    "\n",
    "df_eliminar3 = df.drop([0,1], axis = 0)\n",
    "df_eliminar3.head()"
   ]
  },
  {
   "cell_type": "code",
   "execution_count": 40,
   "id": "32f6e425",
   "metadata": {},
   "outputs": [
    {
     "data": {
      "text/plain": [
       "array([2791.9  , 3892.6  , 3930.66 , 3869.32 , 3948.54 , 4010.15 ,\n",
       "       4345.75 , 4344.75 , 3682.04 , 3098.65 , 4480.05 , 3986.24 ,\n",
       "       4036.54 , 3518.04 , 3999.37 , 3629.07 , 4608.66 , 4787.62 ,\n",
       "       4864.22 , 4479.41 , 3428.74 , 4353.14 , 4697.65 , 3518.44 ,\n",
       "       1977.39 , 1379.35 , 1916.24 , 1585.42 , 1851.21 , 1239.66 ,\n",
       "       1728.14 , 1461.06 , 1426.76 ,  990.388, 1350.76 , 1376.7  ,\n",
       "        476.322, 1189.46 , 1644.96 ,  941.543,  308.642, 1145.69 ,\n",
       "       2280.49 , 1174.11 ,  597.808, 1455.88 , 1485.58 ])"
      ]
     },
     "execution_count": 40,
     "metadata": {},
     "output_type": "execute_result"
    }
   ],
   "source": [
    "df.PERIMETRO.unique()"
   ]
  },
  {
   "cell_type": "markdown",
   "id": "63e8f708",
   "metadata": {},
   "source": [
    "- `cut()`\n",
    "\n",
    "Se utiliza para separar los elementos de un *DataFrame* en diferentes intervalos. La función de corte se utiliza principalmente para realizar análisis estadísticos de datos escalares.  \n",
    "\n",
    "Aunque tiene múltiples parámetros, la principal sintaxis que debemos seguir es: \n",
    "\n",
    "```python\n",
    "MiDataframe.cut(x, bins)\n",
    "```\n",
    "Donde: \n",
    "\n",
    "- `x`: es la columna sobre la que queremos aplicar los intervalos\n",
    "- `bins`: son los intervalos nuevos que queremos definir\n",
    "\n",
    "En este caso vamos a aplicar este método a la columna `perm`: \n",
    "\n",
    "- Primero vamos a ver cuales son sus valores únicos para saber mejor como definir nuestros nuevos *bins*\n",
    "\n",
    "    ```python\n",
    "    df.perm.unique()\n",
    "\n",
    "    # Output: \n",
    "    array([   6.3,   17.1,  119. ,   82.4,   58.6,  142. ,  740. ,  890. ,\n",
    "            950. ,  100. , 1300. ,  580. ])\n",
    "    ```\n",
    "\n",
    "- Una vez que tenemos los valores únicos establecemos los nuevos *bins*. Este parámetro lo tenemos que pasar como lista. "
   ]
  },
  {
   "cell_type": "code",
   "execution_count": 41,
   "id": "04c5eb92",
   "metadata": {},
   "outputs": [],
   "source": [
    "df['bins'] = pd.cut(x=df['PERM'], bins=[0, 100, 200,300, 400,500, 600,\n",
    "                                          700, 800, 1000, 1100, 1200, 1300])"
   ]
  },
  {
   "cell_type": "code",
   "execution_count": 42,
   "id": "5a1880e2",
   "metadata": {},
   "outputs": [
    {
     "data": {
      "text/html": [
       "<div>\n",
       "<style scoped>\n",
       "    .dataframe tbody tr th:only-of-type {\n",
       "        vertical-align: middle;\n",
       "    }\n",
       "\n",
       "    .dataframe tbody tr th {\n",
       "        vertical-align: top;\n",
       "    }\n",
       "\n",
       "    .dataframe thead th {\n",
       "        text-align: right;\n",
       "    }\n",
       "</style>\n",
       "<table border=\"1\" class=\"dataframe\">\n",
       "  <thead>\n",
       "    <tr style=\"text-align: right;\">\n",
       "      <th></th>\n",
       "      <th>AREA</th>\n",
       "      <th>PERIMETRO</th>\n",
       "      <th>FORMA</th>\n",
       "      <th>PERM</th>\n",
       "      <th>bins</th>\n",
       "    </tr>\n",
       "  </thead>\n",
       "  <tbody>\n",
       "    <tr>\n",
       "      <th>0</th>\n",
       "      <td>4990</td>\n",
       "      <td>2791.90</td>\n",
       "      <td>0.090330</td>\n",
       "      <td>6.3</td>\n",
       "      <td>(0, 100]</td>\n",
       "    </tr>\n",
       "    <tr>\n",
       "      <th>1</th>\n",
       "      <td>7002</td>\n",
       "      <td>3892.60</td>\n",
       "      <td>0.148622</td>\n",
       "      <td>6.3</td>\n",
       "      <td>(0, 100]</td>\n",
       "    </tr>\n",
       "    <tr>\n",
       "      <th>2</th>\n",
       "      <td>7558</td>\n",
       "      <td>3930.66</td>\n",
       "      <td>0.183312</td>\n",
       "      <td>6.3</td>\n",
       "      <td>(0, 100]</td>\n",
       "    </tr>\n",
       "    <tr>\n",
       "      <th>3</th>\n",
       "      <td>7352</td>\n",
       "      <td>3869.32</td>\n",
       "      <td>0.117063</td>\n",
       "      <td>6.3</td>\n",
       "      <td>(0, 100]</td>\n",
       "    </tr>\n",
       "    <tr>\n",
       "      <th>4</th>\n",
       "      <td>7943</td>\n",
       "      <td>3948.54</td>\n",
       "      <td>0.122417</td>\n",
       "      <td>17.1</td>\n",
       "      <td>(0, 100]</td>\n",
       "    </tr>\n",
       "  </tbody>\n",
       "</table>\n",
       "</div>"
      ],
      "text/plain": [
       "   AREA  PERIMETRO     FORMA  PERM      bins\n",
       "0  4990    2791.90  0.090330   6.3  (0, 100]\n",
       "1  7002    3892.60  0.148622   6.3  (0, 100]\n",
       "2  7558    3930.66  0.183312   6.3  (0, 100]\n",
       "3  7352    3869.32  0.117063   6.3  (0, 100]\n",
       "4  7943    3948.54  0.122417  17.1  (0, 100]"
      ]
     },
     "execution_count": 42,
     "metadata": {},
     "output_type": "execute_result"
    }
   ],
   "source": [
    "# basicamente lo que hemos hecho ha sido crear una nueva columna donde tendremos ciertos intervalos. \n",
    "\n",
    "df.head()"
   ]
  },
  {
   "cell_type": "markdown",
   "id": "047918be",
   "metadata": {},
   "source": [
    "- `replace()`\n",
    "\n",
    "Reemplaza los valores especificados por otro valor que nosotros indiquemos.\n",
    "\n",
    "Los valores del *DataFrame* se sustituyen por otros valores de forma dinámica.\n",
    "\n",
    "📌 Esto difiere de la actualización con `.loc` o `.iloc`, que requieren que se especifique una ubicación para actualizar con algún valor.\n",
    "\n",
    "La sintaxis en este caso: \n",
    "\n",
    "```python\n",
    "MiDataframe.replace(to_replace, value, inplace)\n",
    "```\n",
    "Donde:\n",
    "\n",
    "- `to_replace`: es el valor que queremos reemplazar\n",
    "- `value`: el valor nuevo que queremos incluir\n",
    "- `inplace`: para que los cambios se ejecuten sobre el *DataFrame* orginal."
   ]
  },
  {
   "cell_type": "markdown",
   "id": "c8859c38",
   "metadata": {},
   "source": [
    "En este caso vamos a querer reemplazar los valores `4990` por `area_nueva`"
   ]
  },
  {
   "cell_type": "code",
   "execution_count": 43,
   "id": "12276e93",
   "metadata": {},
   "outputs": [],
   "source": [
    "df.replace(to_replace =4990,\n",
    "                 value =\"AREA_NUEVA\", inplace = True)"
   ]
  },
  {
   "cell_type": "code",
   "execution_count": 44,
   "id": "14c17875",
   "metadata": {},
   "outputs": [
    {
     "data": {
      "text/html": [
       "<div>\n",
       "<style scoped>\n",
       "    .dataframe tbody tr th:only-of-type {\n",
       "        vertical-align: middle;\n",
       "    }\n",
       "\n",
       "    .dataframe tbody tr th {\n",
       "        vertical-align: top;\n",
       "    }\n",
       "\n",
       "    .dataframe thead th {\n",
       "        text-align: right;\n",
       "    }\n",
       "</style>\n",
       "<table border=\"1\" class=\"dataframe\">\n",
       "  <thead>\n",
       "    <tr style=\"text-align: right;\">\n",
       "      <th></th>\n",
       "      <th>AREA</th>\n",
       "      <th>PERIMETRO</th>\n",
       "      <th>FORMA</th>\n",
       "      <th>PERM</th>\n",
       "      <th>bins</th>\n",
       "    </tr>\n",
       "  </thead>\n",
       "  <tbody>\n",
       "    <tr>\n",
       "      <th>0</th>\n",
       "      <td>AREA_NUEVA</td>\n",
       "      <td>2791.90</td>\n",
       "      <td>0.090330</td>\n",
       "      <td>6.3</td>\n",
       "      <td>(0, 100]</td>\n",
       "    </tr>\n",
       "    <tr>\n",
       "      <th>1</th>\n",
       "      <td>7002</td>\n",
       "      <td>3892.60</td>\n",
       "      <td>0.148622</td>\n",
       "      <td>6.3</td>\n",
       "      <td>(0, 100]</td>\n",
       "    </tr>\n",
       "    <tr>\n",
       "      <th>2</th>\n",
       "      <td>7558</td>\n",
       "      <td>3930.66</td>\n",
       "      <td>0.183312</td>\n",
       "      <td>6.3</td>\n",
       "      <td>(0, 100]</td>\n",
       "    </tr>\n",
       "    <tr>\n",
       "      <th>3</th>\n",
       "      <td>7352</td>\n",
       "      <td>3869.32</td>\n",
       "      <td>0.117063</td>\n",
       "      <td>6.3</td>\n",
       "      <td>(0, 100]</td>\n",
       "    </tr>\n",
       "    <tr>\n",
       "      <th>4</th>\n",
       "      <td>7943</td>\n",
       "      <td>3948.54</td>\n",
       "      <td>0.122417</td>\n",
       "      <td>17.1</td>\n",
       "      <td>(0, 100]</td>\n",
       "    </tr>\n",
       "  </tbody>\n",
       "</table>\n",
       "</div>"
      ],
      "text/plain": [
       "         AREA  PERIMETRO     FORMA  PERM      bins\n",
       "0  AREA_NUEVA    2791.90  0.090330   6.3  (0, 100]\n",
       "1        7002    3892.60  0.148622   6.3  (0, 100]\n",
       "2        7558    3930.66  0.183312   6.3  (0, 100]\n",
       "3        7352    3869.32  0.117063   6.3  (0, 100]\n",
       "4        7943    3948.54  0.122417  17.1  (0, 100]"
      ]
     },
     "execution_count": 44,
     "metadata": {},
     "output_type": "execute_result"
    }
   ],
   "source": [
    "# si nos fijamos donde antes ponía \"4990\" ahora pone \"area_nueva\". Este cambio se aplicaría a todo el DataFrame\n",
    "df.head()"
   ]
  },
  {
   "cell_type": "code",
   "execution_count": 45,
   "id": "dca66ee8",
   "metadata": {},
   "outputs": [],
   "source": [
    "# pero también lo podemos aplicar a una columna específica: \n",
    "\n",
    "df[\"PERM\"].replace(to_replace =6.3,\n",
    "                 value =\"error\", inplace = True)"
   ]
  },
  {
   "cell_type": "code",
   "execution_count": 46,
   "id": "c130ba14",
   "metadata": {},
   "outputs": [
    {
     "data": {
      "text/html": [
       "<div>\n",
       "<style scoped>\n",
       "    .dataframe tbody tr th:only-of-type {\n",
       "        vertical-align: middle;\n",
       "    }\n",
       "\n",
       "    .dataframe tbody tr th {\n",
       "        vertical-align: top;\n",
       "    }\n",
       "\n",
       "    .dataframe thead th {\n",
       "        text-align: right;\n",
       "    }\n",
       "</style>\n",
       "<table border=\"1\" class=\"dataframe\">\n",
       "  <thead>\n",
       "    <tr style=\"text-align: right;\">\n",
       "      <th></th>\n",
       "      <th>AREA</th>\n",
       "      <th>PERIMETRO</th>\n",
       "      <th>FORMA</th>\n",
       "      <th>PERM</th>\n",
       "      <th>bins</th>\n",
       "    </tr>\n",
       "  </thead>\n",
       "  <tbody>\n",
       "    <tr>\n",
       "      <th>0</th>\n",
       "      <td>AREA_NUEVA</td>\n",
       "      <td>2791.90</td>\n",
       "      <td>0.090330</td>\n",
       "      <td>error</td>\n",
       "      <td>(0, 100]</td>\n",
       "    </tr>\n",
       "    <tr>\n",
       "      <th>1</th>\n",
       "      <td>7002</td>\n",
       "      <td>3892.60</td>\n",
       "      <td>0.148622</td>\n",
       "      <td>error</td>\n",
       "      <td>(0, 100]</td>\n",
       "    </tr>\n",
       "    <tr>\n",
       "      <th>2</th>\n",
       "      <td>7558</td>\n",
       "      <td>3930.66</td>\n",
       "      <td>0.183312</td>\n",
       "      <td>error</td>\n",
       "      <td>(0, 100]</td>\n",
       "    </tr>\n",
       "    <tr>\n",
       "      <th>3</th>\n",
       "      <td>7352</td>\n",
       "      <td>3869.32</td>\n",
       "      <td>0.117063</td>\n",
       "      <td>error</td>\n",
       "      <td>(0, 100]</td>\n",
       "    </tr>\n",
       "    <tr>\n",
       "      <th>4</th>\n",
       "      <td>7943</td>\n",
       "      <td>3948.54</td>\n",
       "      <td>0.122417</td>\n",
       "      <td>17.1</td>\n",
       "      <td>(0, 100]</td>\n",
       "    </tr>\n",
       "  </tbody>\n",
       "</table>\n",
       "</div>"
      ],
      "text/plain": [
       "         AREA  PERIMETRO     FORMA   PERM      bins\n",
       "0  AREA_NUEVA    2791.90  0.090330  error  (0, 100]\n",
       "1        7002    3892.60  0.148622  error  (0, 100]\n",
       "2        7558    3930.66  0.183312  error  (0, 100]\n",
       "3        7352    3869.32  0.117063  error  (0, 100]\n",
       "4        7943    3948.54  0.122417   17.1  (0, 100]"
      ]
     },
     "execution_count": 46,
     "metadata": {},
     "output_type": "execute_result"
    }
   ],
   "source": [
    "# aquí tenemos nuestros \"error\" en los valores específicados. \n",
    "\n",
    "df.head()"
   ]
  },
  {
   "cell_type": "markdown",
   "id": "844971c6",
   "metadata": {},
   "source": [
    "# Reasignación columnas df[‘x’] = df[‘x’]"
   ]
  },
  {
   "cell_type": "markdown",
   "id": "0e9cb5a2",
   "metadata": {},
   "source": [
    "Pandas nos va a permitir sobreescribir los valores de una columna. Esto puede ser el resultado de operaciones entre columnas o determinadas transformaciones que queramos hacerle a la columna. \n",
    "\n",
    "Veamos un ejemplo: \n",
    "\n",
    "El perímetro está en centímetros y lo vamos a querer transformar a metros."
   ]
  },
  {
   "cell_type": "code",
   "execution_count": 47,
   "id": "ffd91f37",
   "metadata": {},
   "outputs": [],
   "source": [
    "df[\"PERIMETRO\"] = df[\"PERIMETRO\"] / 100"
   ]
  },
  {
   "cell_type": "code",
   "execution_count": 48,
   "id": "1bc70d30",
   "metadata": {},
   "outputs": [
    {
     "data": {
      "text/html": [
       "<div>\n",
       "<style scoped>\n",
       "    .dataframe tbody tr th:only-of-type {\n",
       "        vertical-align: middle;\n",
       "    }\n",
       "\n",
       "    .dataframe tbody tr th {\n",
       "        vertical-align: top;\n",
       "    }\n",
       "\n",
       "    .dataframe thead th {\n",
       "        text-align: right;\n",
       "    }\n",
       "</style>\n",
       "<table border=\"1\" class=\"dataframe\">\n",
       "  <thead>\n",
       "    <tr style=\"text-align: right;\">\n",
       "      <th></th>\n",
       "      <th>AREA</th>\n",
       "      <th>PERIMETRO</th>\n",
       "      <th>FORMA</th>\n",
       "      <th>PERM</th>\n",
       "      <th>bins</th>\n",
       "    </tr>\n",
       "  </thead>\n",
       "  <tbody>\n",
       "    <tr>\n",
       "      <th>0</th>\n",
       "      <td>AREA_NUEVA</td>\n",
       "      <td>27.9190</td>\n",
       "      <td>0.090330</td>\n",
       "      <td>error</td>\n",
       "      <td>(0, 100]</td>\n",
       "    </tr>\n",
       "    <tr>\n",
       "      <th>1</th>\n",
       "      <td>7002</td>\n",
       "      <td>38.9260</td>\n",
       "      <td>0.148622</td>\n",
       "      <td>error</td>\n",
       "      <td>(0, 100]</td>\n",
       "    </tr>\n",
       "    <tr>\n",
       "      <th>2</th>\n",
       "      <td>7558</td>\n",
       "      <td>39.3066</td>\n",
       "      <td>0.183312</td>\n",
       "      <td>error</td>\n",
       "      <td>(0, 100]</td>\n",
       "    </tr>\n",
       "    <tr>\n",
       "      <th>3</th>\n",
       "      <td>7352</td>\n",
       "      <td>38.6932</td>\n",
       "      <td>0.117063</td>\n",
       "      <td>error</td>\n",
       "      <td>(0, 100]</td>\n",
       "    </tr>\n",
       "    <tr>\n",
       "      <th>4</th>\n",
       "      <td>7943</td>\n",
       "      <td>39.4854</td>\n",
       "      <td>0.122417</td>\n",
       "      <td>17.1</td>\n",
       "      <td>(0, 100]</td>\n",
       "    </tr>\n",
       "  </tbody>\n",
       "</table>\n",
       "</div>"
      ],
      "text/plain": [
       "         AREA  PERIMETRO     FORMA   PERM      bins\n",
       "0  AREA_NUEVA    27.9190  0.090330  error  (0, 100]\n",
       "1        7002    38.9260  0.148622  error  (0, 100]\n",
       "2        7558    39.3066  0.183312  error  (0, 100]\n",
       "3        7352    38.6932  0.117063  error  (0, 100]\n",
       "4        7943    39.4854  0.122417   17.1  (0, 100]"
      ]
     },
     "execution_count": 48,
     "metadata": {},
     "output_type": "execute_result"
    }
   ],
   "source": [
    "# Si ahora volvemos a ver la columna, veremos que los valores han cambiado\n",
    "# pero que no se ha creado ninguna nueva columna \n",
    "\n",
    "df.head()"
   ]
  },
  {
   "cell_type": "markdown",
   "id": "4cbe9b60",
   "metadata": {},
   "source": [
    "**EJERCICIOS** \n",
    "\n",
    "1️⃣ Usa la librería `PyDataset` para descargarte un *DataFrame*. En este caso puedes elegir el que más te guste! \n",
    "\n",
    "2️⃣ Haz una exploración del *DataFrame*:\n",
    "\n",
    "* Muestra las primeras 5 filas\n",
    "* ¿Cuántas filas y columnas hay en el *DataFrame*?\n",
    "* ¿Cuántos nulos hay?\n",
    "* ¿Cuáles son los principales estádisticos de nuestras columnas numéricas?\n",
    "* ¿Qué correlación existe entre nuestras columnas? \n",
    "    \n",
    "    **BONUS** ¿Podrías hacer una pequeña interpretación de los resultados que nos sale de la correlación?\n",
    "\n",
    "* Cambia el nombre de las columnas. Dependiendo del *DataFrame* haremos unos cambios u otros. Algunos cambios que podemos hacer son:\n",
    "\n",
    "    * Poner los nombres todo en minúsculas o mayúsculas\n",
    "    * Eliminar los espacios en los nombres\n",
    "        \n",
    "3️⃣ Guarda el *DataFrame* con los cambios hechos en un archivo `csv`"
   ]
  },
  {
   "cell_type": "markdown",
   "id": "3bb9a49d",
   "metadata": {},
   "source": []
  }
 ],
 "metadata": {
  "kernelspec": {
   "display_name": "Python 3.9.7 ('base')",
   "language": "python",
   "name": "python3"
  },
  "language_info": {
   "codemirror_mode": {
    "name": "ipython",
    "version": 3
   },
   "file_extension": ".py",
   "mimetype": "text/x-python",
   "name": "python",
   "nbconvert_exporter": "python",
   "pygments_lexer": "ipython3",
   "version": "3.9.7"
  },
  "toc": {
   "base_numbering": 1,
   "nav_menu": {},
   "number_sections": true,
   "sideBar": true,
   "skip_h1_title": false,
   "title_cell": "Table of Contents",
   "title_sidebar": "Contents",
   "toc_cell": true,
   "toc_position": {},
   "toc_section_display": true,
   "toc_window_display": false
  },
  "vscode": {
   "interpreter": {
    "hash": "f7912e45f56376859e46a323936f3af5ef395502effe5c6049b04a4785be6cad"
   }
  }
 },
 "nbformat": 4,
 "nbformat_minor": 5
}
