{
 "cells": [
  {
   "attachments": {},
   "cell_type": "markdown",
   "metadata": {},
   "source": [
    "# Cargamos los datos "
   ]
  },
  {
   "cell_type": "code",
   "execution_count": null,
   "metadata": {},
   "outputs": [],
   "source": [
    "df = pd.read_pickle('datos/datos_actualizados.pkl')\n",
    "df.head(2)"
   ]
  },
  {
   "attachments": {},
   "cell_type": "markdown",
   "metadata": {},
   "source": [
    "# Creación del esquema para SQL "
   ]
  },
  {
   "attachments": {},
   "cell_type": "markdown",
   "metadata": {},
   "source": [
    "## Conexión con el servidor de SQL y Creación BBDD"
   ]
  },
  {
   "cell_type": "code",
   "execution_count": null,
   "metadata": {},
   "outputs": [],
   "source": [
    "def crear_bbdd(nombre_bbdd):\n",
    "\n",
    "    mydb = mysql.connector.connect(\n",
    "      host=\"localhost\",\n",
    "      user=\"root\",\n",
    "      password=\"admin\" # aquí tendréis que poner vuestra contraseña de MySQL\n",
    "    )\n",
    "    print(\"Conexión realizada con éxito\")\n",
    "    \n",
    "    mycursor = mydb.cursor()\n",
    "\n",
    "    try:\n",
    "        mycursor.execute(f\"CREATE DATABASE IF NOT EXISTS {nombre_bbdd};\")\n",
    "        print(mycursor)\n",
    "    except mysql.connector.Error as err:\n",
    "        print(err)\n",
    "        print(\"Error Code:\", err.errno)\n",
    "        print(\"SQLSTATE\", err.sqlstate)\n",
    "        print(\"Message\", err.msg)"
   ]
  },
  {
   "cell_type": "code",
   "execution_count": null,
   "metadata": {},
   "outputs": [],
   "source": [
    "mydb = crear_bbdd(\"clima\")"
   ]
  },
  {
   "attachments": {},
   "cell_type": "markdown",
   "metadata": {},
   "source": [
    "## Creación de tablas"
   ]
  },
  {
   "cell_type": "code",
   "execution_count": null,
   "metadata": {},
   "outputs": [],
   "source": [
    "def crear_insertar_tabla(nombre_bbdd, contraseña, query):\n",
    "    \n",
    "    # nos conectamsos con el servidor usando el conector de sql\n",
    "    cnx = mysql.connector.connect(user='root', password=f\"{contraseña}\",\n",
    "                                     host='127.0.0.1', database=f\"{nombre_bbdd}\")\n",
    "    # iniciamos el cursor\n",
    "    mycursor = cnx.cursor()\n",
    "    \n",
    "    # intentamos hacer la query\n",
    "    try: \n",
    "        mycursor.execute(query)\n",
    "        cnx.commit() \n",
    "    # en caso de que podamos ejecutar la query devuelvenos un error para saber en que nos estamos equivocando\n",
    "    except mysql.connector.Error as err:\n",
    "        print(err)\n",
    "        print(\"Error Code:\", err.errno)\n",
    "        print(\"SQLSTATE\", err.sqlstate)\n",
    "        print(\"Message\", err.msg)"
   ]
  },
  {
   "attachments": {},
   "cell_type": "markdown",
   "metadata": {},
   "source": [
    "# definimos tablas a insertar"
   ]
  },
  {
   "cell_type": "code",
   "execution_count": null,
   "metadata": {},
   "outputs": [],
   "source": [
    "tabla_tiempo = '''\n",
    "CREATE TABLE IF NOT EXISTS `clima`.`tiempo` (\n",
    "  `idtiempo` INT NOT NULL AUTO_INCREMENT,\n",
    "  `timepoint`INT NOT NULL,\n",
    "  `fecha` DATE NOT NULL,\n",
    "  PRIMARY KEY (`idtiempo`))\n",
    "ENGINE = InnoDB;\n",
    "'''"
   ]
  },
  {
   "cell_type": "code",
   "execution_count": null,
   "metadata": {},
   "outputs": [],
   "source": [
    "tabla_localidades = '''\n",
    "CREATE TABLE IF NOT EXISTS `clima`.`localidades` (\n",
    "  `idlocalidad` INT NOT NULL AUTO_INCREMENT,\n",
    "  `latitud` DECIMAL(6,4) NOT NULL,\n",
    "  `longitud` DECIMAL(6,4) NOT NULL,\n",
    "  `ciudad` VARCHAR(45) NOT NULL,\n",
    "  PRIMARY KEY (`idlocalidad`))\n",
    "ENGINE = InnoDB;\n",
    "'''"
   ]
  },
  {
   "cell_type": "code",
   "execution_count": null,
   "metadata": {},
   "outputs": [],
   "source": [
    "tabla_mediciones = '''\n",
    "CREATE TABLE IF NOT EXISTS `clima`.`mediciones` (\n",
    "  `idmedicion` INT NOT NULL AUTO_INCREMENT,\n",
    "  `cloudcover` INT NOT NULL,\n",
    "  `lifted_index` INT NOT NULL,\n",
    "  `prec_type` VARCHAR(10) NOT NULL,\n",
    "  `prec_amount` INT NOT NULL,\n",
    "  `temp2m` INT NOT NULL,\n",
    "  `rh2m` INT NOT NULL,\n",
    "  `weather` VARCHAR(15) NOT NULL,\n",
    "  `wind_direction` VARCHAR(15) NOT NULL,\n",
    "  `wind_speed` INT NOT NULL,\n",
    "  `seeing` DECIMAL NOT NULL,\n",
    "  `transparency` INT NOT NULL,\n",
    "  `idtiempo` INT NOT NULL,\n",
    "  `idlocalidad` INT NOT NULL,\n",
    "  PRIMARY KEY ( `idmedicion`, `idtiempo`, `idlocalidad`),\n",
    "  INDEX `fk_mediciones_tiempo1_idx` (`idtiempo` ASC) ,\n",
    "  INDEX `fk_mediciones_localidades1_idx` (`idlocalidad` ASC) ,\n",
    "  CONSTRAINT `fk_mediciones_tiempo1`\n",
    "    FOREIGN KEY (`idtiempo`)\n",
    "    REFERENCES `clima`.`tiempo` (`idtiempo`),\n",
    "  CONSTRAINT `fk_mediciones_localidades1`\n",
    "    FOREIGN KEY (`idlocalidad`)\n",
    "    REFERENCES `clima`.`localidades` (`idlocalidad`))\n",
    "ENGINE = InnoDB;\n",
    "\n",
    "'''"
   ]
  },
  {
   "attachments": {},
   "cell_type": "markdown",
   "metadata": {},
   "source": [
    "Llamamos a la función para crear cada una de las tablas de nuestra BBDD."
   ]
  },
  {
   "cell_type": "code",
   "execution_count": null,
   "metadata": {},
   "outputs": [],
   "source": [
    "crear_insertar_tabla(\"clima\",\"admin\", tabla_tiempo)"
   ]
  },
  {
   "cell_type": "code",
   "execution_count": null,
   "metadata": {},
   "outputs": [],
   "source": [
    "crear_insertar_tabla(\"clima\", \"admin\", tabla_localidades)"
   ]
  },
  {
   "cell_type": "code",
   "execution_count": null,
   "metadata": {},
   "outputs": [],
   "source": [
    "crear_insertar_tabla(\"clima\", \"admin\", tabla_mediciones)"
   ]
  },
  {
   "attachments": {},
   "cell_type": "markdown",
   "metadata": {},
   "source": [
    "## Insercción de datos "
   ]
  },
  {
   "cell_type": "code",
   "execution_count": null,
   "metadata": {},
   "outputs": [],
   "source": [
    "# manos a la obra \n",
    "\n",
    "for indice, fila in df.iterrows(): # itreamos por el dataframe.\n",
    "    \n",
    "    # definimos nuestra query, igual que si lo hicieramos en workbench. ⚠️ Como estamos definiendo nuestra query en varias líneas usamos las triples comillas\n",
    "    # lo valores que introduciremos serán los del dataframe que estamos iterando, por lo que usaremos los formats de los strings. \n",
    "    \n",
    "    query_tiempo = f\"\"\"\n",
    "            INSERT INTO tiempo (timepoint, fecha) # como la primary key la hemos puesto como autoincremental no hace falta introducirla en el insert\n",
    "            VALUES ( \"{fila[\"timepoint\"]}\", \"{fila['fecha']}\");\n",
    "            \"\"\"\n",
    "    # una vez definida la query llamamos a la función que nos inserta los datos. \n",
    "    crear_insertar_tabla(\"clima\", \"admin\", query_tiempo)"
   ]
  },
  {
   "attachments": {},
   "cell_type": "markdown",
   "metadata": {},
   "source": [
    "# chequear si existe en mi tabla"
   ]
  },
  {
   "cell_type": "code",
   "execution_count": null,
   "metadata": {},
   "outputs": [],
   "source": [
    "# con esta query extraermos todos los valores únicos que tenemos en nuestra BBDD para la ciudad.\n",
    "\n",
    "def check_ciudades(contraseña, nombre_bbdd):\n",
    "    \n",
    "    cnx = mysql.connector.connect(user='root', password=f'{contraseña}',\n",
    "                                  host='127.0.0.1', database=f\"{nombre_bbdd}\")\n",
    "    mycursor = cnx.cursor()\n",
    "\n",
    "\n",
    "    query_existe_ciudad = f\"\"\"\n",
    "            SELECT DISTINCT ciudad FROM localidades\n",
    "            \"\"\"\n",
    "    mycursor.execute(query_existe_ciudad)\n",
    "    ciudades = mycursor.fetchall()\n",
    "    return ciudades"
   ]
  },
  {
   "cell_type": "code",
   "execution_count": null,
   "metadata": {},
   "outputs": [],
   "source": [
    "# qué nos devuelve esta función \n",
    "\n",
    "check_ciudades(\"admin\", \"clima\")"
   ]
  },
  {
   "cell_type": "code",
   "execution_count": null,
   "metadata": {},
   "outputs": [],
   "source": [
    "# Tenemos una lista con una tupla, por lo que nos tenemos que quedarnos con el elemento 0. \n",
    "\n",
    "check_ciudades(\"admin\", \"clima\")[0]"
   ]
  },
  {
   "attachments": {},
   "cell_type": "markdown",
   "metadata": {},
   "source": [
    "Sobre este resultado ya podremos chequear si la ciudad que queremos insertar esta en nuestra BBDD o no. Vamos manos a la obra. "
   ]
  },
  {
   "cell_type": "code",
   "execution_count": null,
   "metadata": {},
   "outputs": [],
   "source": [
    "for indice, fila in df.iterrows():\n",
    "    \n",
    "    # creamos la query que no inserta datos en la tabla localidades\n",
    "    query_localidad = f\"\"\"\n",
    "                INSERT INTO localidades (latitud, longitud, ciudad) \n",
    "                VALUES ( \"{fila[\"latitud\"]}\", \"{fila['longitud']}\", \"{fila['ciudad']}\");\n",
    "                \"\"\"\n",
    "    # llamamos a la funcion check_ciudades para saber que ciudades tenemos en la BBDD\n",
    "    ciudades = check_ciudades(\"admin\", \"clima\")\n",
    "    \n",
    "    # Si la BBDD de datos esta vacía,  podemos insertar la ciudad. \n",
    "    # \n",
    "    if len(ciudades) == 0 or fila['ciudad'] not in ciudades[0]: \n",
    "        crear_insertar_tabla(\"clima\",\"admin\", query_localidad)\n",
    "\n",
    "    else:\n",
    "        print(f\"{fila['ciudad']} ya esta en nuestra BBDD\")    "
   ]
  },
  {
   "attachments": {},
   "cell_type": "markdown",
   "metadata": {},
   "source": [
    "## Insercción de datos en la tabla de mediciones:"
   ]
  },
  {
   "cell_type": "code",
   "execution_count": null,
   "metadata": {},
   "outputs": [],
   "source": [
    "def sacar_id_ciudad(contraseña, nombre_bbdd, ciudad):\n",
    "    \n",
    "    # creamos la conexion con el servidor y la BBDD\n",
    "    cnx = mysql.connector.connect(user='root', password= f'{contraseña}',\n",
    "                                  host='127.0.0.1', database=f\"{nombre_bbdd}\")\n",
    "    mycursor = cnx.cursor()\n",
    "\n",
    "    # creamos la query para sacar el id de la ciudad que queramos\n",
    "    query_sacar_id = f\"SELECT idlocalidad FROM localidades WHERE ciudad = '{ciudad}'\"\n",
    "    \n",
    "    # puede que el id de la ciudad que estemos intentando insertar no este en nuestra BBDD. Por lo que vamos a hacer un try except para que no nos falle el código\n",
    "    try: \n",
    "        mycursor.execute(query_sacar_id)\n",
    "        id_ = mycursor.fetchall()[0][0]\n",
    "        return id_\n",
    "    \n",
    "    except: \n",
    "        return \"Sorry, no tenemos esa ciudad en la BBDD y por lo tanto no te podemos dar su id. \""
   ]
  },
  {
   "cell_type": "code",
   "execution_count": null,
   "metadata": {},
   "outputs": [],
   "source": [
    "sacar_id_ciudad(\"admin\", \"clima\", 'Madrid')"
   ]
  },
  {
   "cell_type": "code",
   "execution_count": null,
   "metadata": {},
   "outputs": [],
   "source": [
    "def sacar_id_fecha(contraseña, nombre_bbdd, timepoint, fecha):\n",
    "        \n",
    "        cnx = mysql.connector.connect(user='root', password=f'{contraseña}',\n",
    "                                      host='127.0.0.1', database=f\"{nombre_bbdd}\")\n",
    "        mycursor = cnx.cursor()\n",
    "\n",
    "\n",
    "        query_sacar_id = f\"SELECT idtiempo FROM tiempo WHERE timepoint = {timepoint} and fecha = '{fecha}'\"\n",
    "        \n",
    "        try: \n",
    "            mycursor.execute(query_sacar_id)\n",
    "            id_ = mycursor.fetchall()[0][0]\n",
    "            return id_\n",
    "        \n",
    "        except: \n",
    "             return \"Sorry, no tenemos esa fecha en la BBDD y por lo tanto no te podemos dar su id. \""
   ]
  },
  {
   "cell_type": "code",
   "execution_count": null,
   "metadata": {},
   "outputs": [],
   "source": [
    "sacar_id_fecha(\"admin\", \"clima\", 3, '2022-03-16' )"
   ]
  },
  {
   "attachments": {},
   "cell_type": "markdown",
   "metadata": {},
   "source": [
    "Una vez que somos capaces de sacar los `id` para la fecha y las localidades ya podremos insertar los datos en la BBDD. "
   ]
  },
  {
   "cell_type": "code",
   "execution_count": null,
   "metadata": {},
   "outputs": [],
   "source": [
    "for indice, fila in df.iterrows():\n",
    "    \n",
    "    id_ciudad = sacar_id_ciudad(\"admin\", \"clima\", fila['ciudad'])\n",
    "    id_fecha = sacar_id_fecha(\"admin\", \"clima\", fila[\"timepoint\"], fila[\"fecha\"])\n",
    "    \n",
    "    query_medidas = f\"\"\"\n",
    "                INSERT INTO mediciones (cloudcover, lifted_index, prec_type, prec_amount, temp2m, rh2m, weather, wind_direction, wind_speed, seeing, transparency, idtiempo, idlocalidad) \n",
    "                VALUES ({fila[\"cloudcover\"]}, {fila['lifted_index']}, \"{fila['prec_type']}\", {fila['prec_amount']},{fila['temp2m']},{fila['rh2m']}, \"{fila['weather']}\",\"{fila['wind10m.direction']}\",{fila['wind10m.speed']}, {fila['seeing']}, {fila['transparency']}, {id_fecha}, {id_ciudad});\n",
    "                \"\"\"\n",
    "    crear_insertar_tabla(\"clima\",\"admin\", query_medidas)"
   ]
  },
  {
   "cell_type": "code",
   "execution_count": null,
   "metadata": {},
   "outputs": [],
   "source": []
  }
 ],
 "metadata": {
  "kernelspec": {
   "display_name": "Python 3",
   "language": "python",
   "name": "python3"
  },
  "language_info": {
   "name": "python",
   "version": "3.6.9 (default, Jun 29 2022, 11:45:57) \n[GCC 8.4.0]"
  },
  "orig_nbformat": 4,
  "vscode": {
   "interpreter": {
    "hash": "31f2aee4e71d21fbe5cf8b01ff0e069b9275f58929596ceb00d14d90e3e16cd6"
   }
  }
 },
 "nbformat": 4,
 "nbformat_minor": 2
}
