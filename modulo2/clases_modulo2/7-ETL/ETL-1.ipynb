{
 "cells": [
  {
   "cell_type": "markdown",
   "metadata": {
    "toc": true
   },
   "source": [
    "<h1>Table of Contents<span class=\"tocSkip\"></span></h1>\n",
    "<div class=\"toc\"><ul class=\"toc-item\"><li><span><a href=\"#¿Qué-significa-ETL?\" data-toc-modified-id=\"¿Qué-significa-ETL?-1\"><span class=\"toc-item-num\">1&nbsp;&nbsp;</span>¿Qué significa ETL?</a></span></li><li><span><a href=\"#Fases-de-una-ETL\" data-toc-modified-id=\"Fases-de-una-ETL-2\"><span class=\"toc-item-num\">2&nbsp;&nbsp;</span>Fases de una ETL</a></span></li><li><span><a href=\"#¿Existe-una-ETL-universal?\" data-toc-modified-id=\"¿Existe-una-ETL-universal?-3\"><span class=\"toc-item-num\">3&nbsp;&nbsp;</span>¿Existe una ETL universal?</a></span></li><li><span><a href=\"#Fase-de-extracción-(Extracción)\" data-toc-modified-id=\"Fase-de-extracción-(Extracción)-4\"><span class=\"toc-item-num\">4&nbsp;&nbsp;</span>Fase de extracción (Extracción)</a></span><ul class=\"toc-item\"><li><span><a href=\"#Tipos-de-ficheros-en-ETL\" data-toc-modified-id=\"Tipos-de-ficheros-en-ETL-4.1\"><span class=\"toc-item-num\">4.1&nbsp;&nbsp;</span>Tipos de ficheros en ETL</a></span></li><li><span><a href=\"#¿Qué-es-una-API-y-que-uso-tiene?\" data-toc-modified-id=\"¿Qué-es-una-API-y-que-uso-tiene?-4.2\"><span class=\"toc-item-num\">4.2&nbsp;&nbsp;</span>¿Qué es una API y que uso tiene?</a></span></li><li><span><a href=\"#Utilizando-API's\" data-toc-modified-id=\"Utilizando-API's-4.3\"><span class=\"toc-item-num\">4.3&nbsp;&nbsp;</span>Utilizando API's</a></span><ul class=\"toc-item\"><li><span><a href=\"#Tipo-de-respuestas-de-las-API's\" data-toc-modified-id=\"Tipo-de-respuestas-de-las-API's-4.3.1\"><span class=\"toc-item-num\">4.3.1&nbsp;&nbsp;</span>Tipo de respuestas de las API's</a></span></li><li><span><a href=\"#¿Que-es-Requests?\" data-toc-modified-id=\"¿Que-es-Requests?-4.3.2\"><span class=\"toc-item-num\">4.3.2&nbsp;&nbsp;</span>¿Que es Requests?</a></span></li><li><span><a href=\"#¿Qué-debemos-hacer-para-trabar-con-Request?\" data-toc-modified-id=\"¿Qué-debemos-hacer-para-trabar-con-Request?-4.3.3\"><span class=\"toc-item-num\">4.3.3&nbsp;&nbsp;</span>¿Qué debemos hacer para trabar con Request?</a></span></li></ul></li><li><span><a href=\"#Importando-los-paquetes-necesarios\" data-toc-modified-id=\"Importando-los-paquetes-necesarios-4.4\"><span class=\"toc-item-num\">4.4&nbsp;&nbsp;</span>Importando los paquetes necesarios</a></span><ul class=\"toc-item\"><li><span><a href=\"#Comprobando-que-la-API-funciona\" data-toc-modified-id=\"Comprobando-que-la-API-funciona-4.4.1\"><span class=\"toc-item-num\">4.4.1&nbsp;&nbsp;</span>Comprobando que la API funciona</a></span></li></ul></li></ul></li><li><span><a href=\"#Ejercicio-1\" data-toc-modified-id=\"Ejercicio-1-5\"><span class=\"toc-item-num\">5&nbsp;&nbsp;</span>Ejercicio 1</a></span><ul class=\"toc-item\"><li><span><a href=\"#Extrayendo-los-datos-de-la-API\" data-toc-modified-id=\"Extrayendo-los-datos-de-la-API-5.1\"><span class=\"toc-item-num\">5.1&nbsp;&nbsp;</span>Extrayendo los datos de la API</a></span></li></ul></li><li><span><a href=\"#Ejercicio-2\" data-toc-modified-id=\"Ejercicio-2-6\"><span class=\"toc-item-num\">6&nbsp;&nbsp;</span>Ejercicio 2</a></span><ul class=\"toc-item\"><li><span><a href=\"#Obteniendo-los-datos-en-json\" data-toc-modified-id=\"Obteniendo-los-datos-en-json-6.1\"><span class=\"toc-item-num\">6.1&nbsp;&nbsp;</span>Obteniendo los datos en json</a></span></li></ul></li><li><span><a href=\"#Ejercicio-3\" data-toc-modified-id=\"Ejercicio-3-7\"><span class=\"toc-item-num\">7&nbsp;&nbsp;</span>Ejercicio 3</a></span></li><li><span><a href=\"#Ejercicio-4\" data-toc-modified-id=\"Ejercicio-4-8\"><span class=\"toc-item-num\">8&nbsp;&nbsp;</span>Ejercicio 4</a></span></li></ul></div>"
   ]
  },
  {
   "cell_type": "markdown",
   "metadata": {},
   "source": [
    "# ¿Qué significa ETL? "
   ]
  },
  {
   "cell_type": "markdown",
   "metadata": {},
   "source": [
    "Las siglas ETL, es un anglicismo de la combinacion de 3 palabras: Extract - Transform - Load. En castellano se podría traducir como ETC: Extracción - Transformación - Carga.\n",
    "\n",
    "Hace referencia a las diferentes fases llevadas a cabo sobre un conjunto de diferentes fuentes de datos, desde sus fuentes originales, su combinación en un mismo conjunto de datos y su carga en una base de datos o almacén de datos. Con la finalidad de que los datos esten depurados y sean accesibles para el resto de partes de una organización. Y  permita su futuro ańalisis de los datos para guiar las decisiones de negocio.\n",
    "\n",
    "Este proceso se esta llevando a cabo en la mayoría de las empresas actualmente debido a que muchas empresas se estań sumando a la transformación tecnológica de la 4a revolución industrial, para poder empezar a explotar los datos que poseen de forma masiva con el fin de mantenerse relevantes en el mrecado actual."
   ]
  },
  {
   "cell_type": "markdown",
   "metadata": {},
   "source": [
    "# Fases de una ETL"
   ]
  },
  {
   "cell_type": "markdown",
   "metadata": {},
   "source": [
    "Como ya se puede intuir, una ETL esta formada por diferentes fases, cada una distinta a la anterior pero necesarias todas en conjunto para poder explotar los datos de forma eficiente. Por tanto, las fases son las siguentes:\n",
    "- Extracción: En esta fase se involucra todo lo relacionado con la obtención de los datos en crudo de las diferentes fuentes que se van a utilizar para realizar este proceso, así como su almacenado en algun sistema intermedio para luego realizar su procesamiento en las siguientes fases de la ETL. Algunos de los tipos de datos que se pueden obtener en esta etapa pueden ser:\n",
    "    - Tablas de bases de datos SQL o NoSQL\n",
    "    - Ficheros de texto plano\n",
    "    - Emails,\n",
    "    - Información de páginas web\n",
    "    - Hojas de cálculo\n",
    "    - Ficheros obtenidos de API's\n",
    "    - Otros tipos de datos.\n",
    "\n",
    "- Transformación: En esta fase se procesa toda la información extraida, para unificarlo en un mismo conjunto de datos con el fin de obtener unos datos con los cuales se puedan realizar procesos de analítica de datos sobre los mismos. Algunas de los procesos que se realiza en esta fase suelen incluir:\n",
    "    - Formetear fechas\n",
    "    - Reordenar filas o columnas\n",
    "    - Unir o separar datos\n",
    "    - Combinar las fuentes de datos\n",
    "    - Limpiar y estandarizar los datos\n",
    "    - Verificar y validar los datos\n",
    "    - Eliminar duplicados o datos erroneos\n",
    "    - Filtrado, realización de calculos o agrupaciones\n",
    "\n",
    "- Carga: Esta es la última etapa del proceso de ETL donde los datos procesados se cargan en su formato de destino, ya sea una hoja de cálculo con los datos agregados, una base de datos o un almacen de datos. La naturaleza, el tamaño y la complejidad de los datos será el factor determinante para escoger un sistema de datos adecuado para esta fase. Los sistemas más comunes suelen ser:\n",
    "    - Ficheros csv\n",
    "    - Ficheros json\n",
    "    - Bases de datos\n",
    "    - Almacenes de datos (Data Warehouse)\n",
    "    - Lagos de datos (Data Lakes)\n",
    "\n",
    "A lo largo de las proximas sesiones veremos los pasos a realizar en más detalle para cada una de las fases del proceso ETL."
   ]
  },
  {
   "cell_type": "markdown",
   "metadata": {},
   "source": [
    "# ¿Existe una ETL universal?"
   ]
  },
  {
   "attachments": {},
   "cell_type": "markdown",
   "metadata": {},
   "source": [
    "La respuesta corta a esta pregunta es No. No obstante la respuesta más elaborada sería que más o menos, si. Esto se debe a que a efectos prácticos los diferentes pasos a la hora de realizar un proceso de ETL esta directamente ligado con los requerimientos del proyecto que se deba de llevar a cabo. Por ejemplo, no resulta lo mismo si tienes que agregar fuentes de datos únicamente pertenecientes a una empresa o si has de agregar datos de diferentes fuentes como pueden ser de las obtenidas con una API o si utilizas datos de la web, utilizando *web scrapping*, para extraer los datos de una página web. Tambien dependerá de si la ETL se va a realizar una única vez o se ha realizar de forma continuada, ya que se trabaja en un proyecto en el cuál vamos recibiendo datos de forma periódica. \n",
    "Así mismo, tambien depende del medio donde se realice la carga final de los datos una vez han sido procesados, ya puede ser en un fichero csv, sobre una base de datos o en un almacen de datos.\n",
    "\n",
    "A pesar de lo anterior, si que suele ser bastante común realizar las mismas operaciones de la fase de transformación de los datos. Ya que siempre deseamos que en el producto final se dispongan de unos datos con los que se pueda trabajar facilmente para poder realizar un posterior análisis.\n",
    "\n",
    "A consecuencia de esto, en más de una ocasión las ETL se optimizan para poder reutilizar algunas de las operaciones que se realizan sobre los datos para futuras ETL que se puedan llevar a cabo y se automatiza lo máximo posible, para ahorrar trabajo y esfuerzo futuro."
   ]
  },
  {
   "cell_type": "markdown",
   "metadata": {},
   "source": [
    "# Fase de extracción (Extracción)"
   ]
  },
  {
   "cell_type": "markdown",
   "metadata": {},
   "source": [
    "Como ya se ha comentado, el proceso de ETL consta de varias fases, siendo la primera de estas la extracción. A lo largo de lo que queda en esta leccíon vamos a centrarnos en esta primera fase para explicar las diferentes fuentes de las que pueden venir los datos y como realizar obtener los datos necesarios para las posteriores fases.\n",
    "Esta fase es de vital importancia, ya que si se obtienen los datos de forma incorrecta, puede causar problemas en las posteriores fases. Cosa la cual no queremos, ya que creo que a nadie le gusta hacerse la vida más dificil por placer, ¿verdad?\n",
    "\n",
    "Por lo tanto en esta etapa, también sera importante verificasr la calidad y integridad de los datos obtenidos, antes de proceder a las siguentes fases del proceso ETL."
   ]
  },
  {
   "cell_type": "markdown",
   "metadata": {},
   "source": [
    "## Tipos de ficheros en ETL"
   ]
  },
  {
   "cell_type": "markdown",
   "metadata": {},
   "source": [
    "En el día a día nos vamos a encontrar con ficheros de todo tipo a la hora de realizar nuestro trabajo como analístas de datos. No obstante existen una serie de formatos de ficheros que serán los más comunes a la hora de trabajar. De esta forma vamos a hablar brevemente de los que posiblemente os encontreis con mayar frecuencia en el día a día.\n",
    "La práctica totalidad de estos ficheros ya los hemos trabajando en lecciones anteriores pero vamos ahora a ver  los tipos de datos que nos podemos encontrar.\n",
    "\n",
    "Tipo de fichero:\n",
    "\n",
    "- CSV: Los ficheros de tipo csv, como se explico en la lección de carga de datos, son ficheros cuyos valores estan separados por comas ( aunque el algunos casos por punto y coma). Su uso esta muy extendido ya que se suele utilizar para el intercambio de datos entre varias aplicaciones. Por ejemplo, si no se tiene acceso a una base datos, es muy probable que el engarcado de la extracción de la base de datos mande un fichero con los datos requeridos en este formato. Una de las ventajas es su gran compatibilidad, aunque cuando son ficheros de tamaño considerable se pueden volver engorrosos. Así mismo, más de una vez al utilizar coma o punto y coma para el separador, podemos encontrar que los datos incluidos también tengan estos elementos, por ejemplo si tenemos una cadenad de texto de tipo string larga. Esto puede llevar a problemas a la hora de realizar la lectura, si su extracción original no se ha tenido en cuenta esta serie de factores. <br>\n",
    "<br>\n",
    "\n",
    "\n",
    "\n",
    "- Xls o xlsx: El todopoderoso formato de archivos del bien conocido Excel, este tipo de ficheros es también de los más utilizados y extendidos. Esto se debe a que historicamente se ha utilizado Excel para almacenar todo tipo de datos, como si de bases de datos se trataran, cosa que realmente no lo son. Las posibilidades de que los datos estén mal formateados o contentan errores, es bastate común. Ya que en función de como se escriba algunos datos, si no se ha configurado correctamente le tipo de datos en el fichero original de excel puede ocurrir que algunas veces interprete números como fechas o que realice conversiones erroreas de números de telefono, elimando ceros por delante de resto de números. \n",
    "<br>\n",
    "<br>\n",
    "\n",
    "\n",
    "- Queries de bases de datos: Como era de esperar, la obtención de datos de las bases de datos es algo común el día a día de una analista de datos, por esta razón se os ha enseñado en el módulo anterior a trabajar con SQL, con el fin de poder acceder a las bases de datos para su extracción. Cabe la posibilidad de que en algunos casos dependiendo de la naturaleza de los datos con los que se han de trabajar se os limite el acceso a las BBDD. Por ejemplo, no es lo mismo trabajar con datos de producción de un producto, que trabajar con datos sensible como pueden ser datos de Recursos Humanos, donde contentan los salarios de los diferentes empleados de la empresa.\n",
    "<br>\n",
    "<br>\n",
    "- API's: Otra de las fuentes de datos son los obtenidos de las API's, en el siguiente apartado explicaremos en detalle que es una API. Estos tipos de datos siempre son extraidos de fuentes externas a la empresa, ya que vienen por lo general de datos accesibles mediante peticiones por internet a empresas terceras o organismos públicos."
   ]
  },
  {
   "cell_type": "markdown",
   "metadata": {},
   "source": [
    "## ¿Qué es una API y que uso tiene?"
   ]
  },
  {
   "attachments": {},
   "cell_type": "markdown",
   "metadata": {},
   "source": [
    "Las siglas API hacen referencia a *Application Programming Interface* o en castellano Interfaz de Programación de Aplicaciones, es un tipo de conexión entre ordenadores o diferentes programas del ordenadores, haciendo uso de funciones o subrutinas que ofrece una bibloteca para ser utilizado por otro *software*. \n",
    "En nuestro caso de día a día, lo vamos a utilizar para obtener datos de fuentes externas. \n",
    "\n",
    "Esto es de especial utilidad ya que se puede automatizar la extracción de los datos para que se realicen de forma automática y agilizar la actualización de los datos.\n",
    "\n",
    "Por ejemplo, en muchos casos se publican datos estadísiticos de forma pública, como podrían ser los datos de INE sobre la pobalción activa en España.\n",
    "\n",
    "Imaginemos ahora que nos piden una actualización mensual sobre los datos de la población activa en España para todas las comunidades autónomas.\n",
    " Para obtener estos datos tendríamos varias formas de proceder, por un lado podríamos ir a la página del INE, buscar manualmente el conjunto de datos y descargarlo haciendo click en el botón de descarga. Por otro lado, en caso de que exista una API (ya que no siempre existe), podríamos hacer uso de la API que hayan implementado para poder correr un pequeño script de Python o un Jupyter notebook, que automaticamente se conectase al INE, obtuviera los datos y los guardase en un fichero."
   ]
  },
  {
   "cell_type": "markdown",
   "metadata": {},
   "source": [
    "## Utilizando API's\n",
    "\n",
    "Vamos a explicar ahora como utilizar una API, ya que es algo que eventualmente antes o despues en vuestra vida de analístas de datos os encontrareis y es importante al menos quedarse con las ideas básicas de como funcionan, para que cuando lo necesiteis, sepais por donde empezar!"
   ]
  },
  {
   "cell_type": "markdown",
   "metadata": {},
   "source": [
    "### Tipo de respuestas de las API's\n",
    "\n",
    "A la hora de hacer uso de una API es necesario conocer (o buscar en google si se olvida), los códigos de respuesta de HTTP de Internet. Procedemos a explicarlos resumidamente:\n",
    "\n",
    "|Código|Valor código|Significado|Explicación|\n",
    "|----|-------|------|------|\n",
    "|1XX||Informa de una repuesta correcta| Se utiliza para transmitir información. Uso infrecuente|\n",
    "|2XX||Código de exito| Informa que el servidor ha recibido la petición del cliente y la ha procesado correctamente|\n",
    "||200|OK| Informa al cliente sobre la petición exitosa|\n",
    "||201|Creado| Si ha lanzado una petición de modificación de la informacion y se ha creado lo solicitado por la peticion|\n",
    "||202|Aceptado| Se informa que la peticion se ha recibido, pero está aún procesándose|\n",
    "||204|Sin contenido|Se informa al cliente que la peticion se ha procesado, pero no hay contenido para devolver|\n",
    "|3XX||Redirección| Se ha redireccionado a otra URL|\n",
    "|4XX||Informan al cliente de algún error durante la petición|\n",
    "||401|Petición incorrecta| Algo ha ido mal durante la petición y no se ha podido procesar correctamente por el servidor|\n",
    "||402|Sin autorización| El cliente debe identificarse para poder realizar la petición|\n",
    "||403|Prohibido| La petición del cliente es correcta, pero el servidor no le permite procesar la petición. Ya que el cliente no tiene los permisos necesarios|\n",
    "||404| No encontrado| El recurso solicitado en la petición no existe|\n",
    "|5XX||Error del servidor| Informa de un error del servidor al procesar la petición y por lo tanto no puede enviar una respuesta|\n",
    "||501|Error interno del servidor| El servidor ha encontrado un error interno y no puede procesar peticiones|\n",
    "||503| Servicio no disponible| El servidor no es accesible por exceso de peticiones o por estar fuera de servicio por motivos de mantenimiento|"
   ]
  },
  {
   "cell_type": "markdown",
   "metadata": {},
   "source": [
    "### ¿Que es Requests?"
   ]
  },
  {
   "attachments": {},
   "cell_type": "markdown",
   "metadata": {},
   "source": [
    "La librería de `requests` es una librería de Python que nos permite realizar peticiones de tipo HTTP a una URL específica, dicho de otra forma, nos permite acceder al contenido de páginas web desde el propio Python, sin necesidad de utilizar un explorador Web.\n",
    "\n",
    "Esta librería es muy util para obtener la información en bruto de paginas web, lo que se conoce comúnmente como Web Scrapping. Así como para hacer uso de API's, para solicitar la información a servidores de terceros.\n",
    "\n",
    "En nuestro caso vamos a centrarnos en el segundo de los usos, ya que en este curso no esta contemplado el primer caso de uso y, por lo tanto, no será explicado.\n",
    "No obstante, si os pica la curiosidad, os recomendamos encarecidamente que investigueis por vuestra cuenta ;)"
   ]
  },
  {
   "attachments": {},
   "cell_type": "markdown",
   "metadata": {},
   "source": [
    "### ¿Qué debemos hacer para trabar con `requests`?"
   ]
  },
  {
   "attachments": {},
   "cell_type": "markdown",
   "metadata": {},
   "source": [
    "- 1️⃣ Lo primero que tenemos que hacer es instalar la librería a través de la terminal. Para ello nos vamos a nuestra terminal y escribimos:\n",
    "\n",
    "    ```python\n",
    "    pip install requests\n",
    "    ```\n",
    "\n",
    "- 2️⃣ Una vez instalado nos vamos a nuestro jupyter notebook y tendremos que importar la librería, por convencion se hace de la siguiente forma. \n",
    "\n",
    "    ```python\n",
    "    import requests\n",
    "    ```"
   ]
  },
  {
   "cell_type": "markdown",
   "metadata": {},
   "source": [
    "**Nota: Es bastante usual que cuando queramos hacer uso de API's, nos obliquen a registrarnos en el sistema que vayamos a utilizar. Ya que dejar una API abierta al publico, nos es lo más recomendable por motivos de ciberseguridad. En nuestro caso haremos uso de API's publicas para evitar tener que registrarnos.**"
   ]
  },
  {
   "cell_type": "markdown",
   "metadata": {},
   "source": [
    "## Importando los paquetes necesarios"
   ]
  },
  {
   "cell_type": "code",
   "execution_count": 40,
   "metadata": {},
   "outputs": [],
   "source": [
    "from IPython.core.interactiveshell import InteractiveShell # Nos permite mostar más de una salida por celda\n",
    "InteractiveShell.ast_node_interactivity = \"all\" # Nos permite mostar más de una salida por celda\n",
    "\n",
    "import requests\n",
    "import pandas as pd\n",
    "import numpy as np"
   ]
  },
  {
   "attachments": {},
   "cell_type": "markdown",
   "metadata": {},
   "source": [
    "Vamos ahora a explicar como utilizar algunas de las funciones del módulo `requests` para comprobar si el link de una API es funcional, las distintas opciones de uso que nos proporciona la API, así como, el como extraer los datos de la misma.\n",
    "\n",
    "Los pasos que deberemos seguir cuando estamos trabajando con una API son:\n",
    "\n",
    "- Leer la documentación de la API\n",
    "\n",
    "- Comprobar que estoy pidiendo los datos de forma correcta\n",
    "\n",
    "- Extraer los datos "
   ]
  },
  {
   "attachments": {},
   "cell_type": "markdown",
   "metadata": {},
   "source": [
    "### La documentación de las API's\n",
    "\n",
    "\n",
    "Cada API es un mundo, y cada una de ellas va a tener un documentación diferente, esto es lo que las convierte en unas herramientas un poco más complejas. En la lección de hoy usaremos dos API's: \n",
    "\n",
    "- `simpsons`: para la lección. Donde podremos extraer información de frases de la serie. La documentación de esta API la tenéis [aquí](https://thesimpsonsquoteapi.glitch.me/). Intentemos entender lo que nos pone la documentación. Lo primero que veremos es lo siguiente: \n",
    "\n",
    "  Basicamente, lo que nos están diciendo aquí es que información/datos nos puede dar esta API y en que formato nos va a dar esta información. \n",
    "\n",
    "    - El último de los apartados nos dice en que formato nos devuelve el contenido. Nos dice que nos devuelve un json, tipo de dato que ya habíamos visto, y que para que lo entendamos todas es un diccionario. \n",
    "\n",
    "    - Además tenemos los 4 primeros puntos, que van desde \"For basic usage with one quote on return (que nos devolverá una frase) hasta  \"for filtered character and multiple quotes\" (que nos permitirá seleccionar frases en función del personaje). De la misma forma que cuando extraemos datos de una BBDD utilizando distintas queries, de una API podremos sacar distintos tipos de datos en función de lo que se llaman los *endpoints* o lo que es lo mismo las distintas urls que podemos usar. \n",
    "\n",
    "    Un poco más abajo veremos ejemplos más claros, para entenderlo mejor. \n",
    "\n",
    "![api](https://github.com/Adalab/data_imagenes/blob/main/Modulo-2/ETL/API_Simpsons.png?raw=true)\n",
    "\n",
    "  \n",
    "\n",
    "\n",
    "\n",
    "- `7timer`: para los ejercicios de la clase invertida. La documentación de esta API la tenéis [aquí](https://www.7timer.info/index.php?product=civil&lon=-122.2897&lat=37.8342&lang=en). Esta API nos va a servir para extraer información climática de paises o ciudades! En el ejemplo anterior hemos visto que teníamos varias url y que en función de la url que selecciones obtendremos unos datos u otros. En este caso, la API funciona de una forma un poco mñas diferente (como hemos dicho, cada API es un mundo!). Para entender mejor la API, veamos su url: \n",
    "\n",
    "  ```python\n",
    "  url = \"http://www.7timer.info/bin/api.pl?lon=40.4165&lat=-3.70256&product=civil&output=json\"\n",
    "\n",
    "  # si nos fijamos en detalle en esta url podríamos pensar que hay ciertos valores que podríamos modificar, como por ejemplo la latitud y la longitud ya que con estos parámetros \n",
    "  ## podríamos cambiarlos en función del país o ciudad que queramos. \n",
    "  # Otro valor que podríamos modificar es el de output, que en este caso toma el valor de json (recordad que era como un diccionario), también lo podríamos cambiar por xml\n",
    "  # por último, otro valor que podemos modificar es el \"product\" que en este caso es civil. El función del tipo de producto obtendremos unos datos climáticos u otros. \n",
    "  # un poco más abajo tenéis una descripción de cada uno de los productos que podemos tener. \n",
    "  ```\n",
    "\n",
    "  Describamos ahora los distintos tipos de productos podemos obtener de esta API: \n",
    "\n",
    "  - civil: previsión general a 7 días y 3 horas\n",
    "  - astro: previsión a 72 horas para observaciones astronómicas\n",
    "  - civillight: previsión simplificada a 7 días\n",
    "  - meteo: previsión a 7 días con información meteorológica detallada\n",
    "\n",
    "  A continuación os presentamos una tabla con los datos concretos que podemos sacar de cada producto\n",
    "\n",
    "  | Producto  | **CIVIL**  | **ASTRO**   | **CIVILLIGHT**  | **METEO**   |\n",
    "  |---|---|---|---|---|\n",
    "  | Cobertura de Nubes (*Cloud Cover*)  |  Si | Si  | Si  | Si  |\n",
    "  | Perfil de Nubes(*Cloud Profile*)  |  No | No  | No  |  Si |\n",
    "  | Ìndice de Elevación (*Lifted Index*) | Si  | Si  | No  | Si  |\n",
    "  | Temp. a 2m (*2m Temperature*)  | Si  | Si  | Si  | Si  |\n",
    "  | Temp. max a 2m (*Max 2m Temp*)  | No   | No  | Si  | No  |\n",
    "  |Temp. min a 2m (*Min 2m Temp*)   |  No | No  | Si  | No  |\n",
    "  | Humedad relativa a 2m (*2m Relative Humidity*)  | Si  | Si   | No  | Si  |\n",
    "  | Perfil R.H. (*R.H. Profile*)  |  No | No  | No  | Si  |\n",
    "  | Viento a 10m (*10m Wind*)  | Si  | Si  | Si  | Si   |\n",
    "  | Perfil de Viento (*Wind Profile*) | No   | No   | No   | Si  |\n",
    "  | Tipo de precipitación (*Precipitation Type*)  | Si  | Si  | Si  | Si  |\n",
    "  |  Cantidad de precipitación (*Precipitation Amount*) | Si  | No  | No  | Si  |\n",
    "  | Capacidad ver estrellas (*Astro Seeing*)  |  No | Si  | No   | No  |\n",
    "  | Transparencia de la atmosfera (*Atmos Transparency*)  | No  | Si | No  | No  |\n",
    "  | Presión MSL (*MSL Pressure*)   | No  | No  | No  | Si  |\n",
    "  |  Profundidad Nieve (*Snow Depth*) | No  | No  | No  | Si  |\n",
    "  | Tipo de Tiempo (*Weather Type*)  | Si  | No  |No   | No  |\n",
    "  |   |   |   |   |   |\n",
    "\n",
    "  🚨 **NOTA** Esta API es la ue deberéis usar para los ejercicios de la clase invertida, en concreto ya os daremos la url que deberéis usar, con la longitud, latitud y producto ya elegidos. \n"
   ]
  },
  {
   "attachments": {},
   "cell_type": "markdown",
   "metadata": {},
   "source": [
    "### Comprobando que la API funciona\n",
    "\n",
    "Para ello primero vamos a ver como comprobar si una API es funcional, este será siempre el primer paso a realizar, ya que no tendría sentido intentar extraer información del servidor al que se realiza la peticion, si el servidor en sí esta fuera de servicio.\n",
    "\n",
    "Para realizar esto utilizaremos, primero necesitaremos conocer a que dirección o url queremos realizar la petición:\n",
    "```python\n",
    "url = '' # Link de la url de la que queremos extraer datos\n",
    "header = {} # Contiene información sobre las peticiones realizas, es opcional, y puede incluir el tipo de ficheros que quieres pedirle al servidor o las credenciales de autentificación.\n",
    "```\n",
    "```python\n",
    "\n",
    "# pedimos a la API que nos de los datos, es como cuando en mysqconnector creabamos la conexión desde Python y le decíamos con que BBDD queríamos trabajar.\n",
    "response = request.get(url=url, header=*opcional)\n",
    "\n",
    "# nos devuelve si la petición de los datos ha sido correcta o no\n",
    "response.status_code \n",
    "\n",
    "#  Nos devuelve en texto el motivo de código de estado\n",
    "response.reason \n",
    "```"
   ]
  },
  {
   "cell_type": "code",
   "execution_count": 41,
   "metadata": {},
   "outputs": [
    {
     "data": {
      "text/plain": [
       "200"
      ]
     },
     "execution_count": 41,
     "metadata": {},
     "output_type": "execute_result"
    },
    {
     "data": {
      "text/plain": [
       "'OK'"
      ]
     },
     "execution_count": 41,
     "metadata": {},
     "output_type": "execute_result"
    }
   ],
   "source": [
    "# volviendo a la documentación, la primera url que nos pone en la documentación es para sacar una frase de un personaje aleatorio de los simpson\n",
    "# para eso en la casilla en blanco que tenemos a la derecha nos muestra la url que deberemos usar. Por lo tanto, la copiamos y la metemos en una variable. La podemos llamar como queramos, en nuestro caso, la llamamos \"url\"\n",
    "url = 'https://thesimpsonsquoteapi.glitch.me/quotes'\n",
    "\n",
    "# hacemos la petición de los datos a la API\n",
    "response = requests.get(url=url)\n",
    "\n",
    "# pedimos a la API que nos diga si lo estamos haciendo bien con el método status_code\n",
    "response.status_code\n",
    "\n",
    "# le pedimos que nos diga el por qué\n",
    "response.reason\n"
   ]
  },
  {
   "attachments": {},
   "cell_type": "markdown",
   "metadata": {},
   "source": [
    "Si nos ha devuelto un 200, implica que la petición se ha podido tramitar correctamente. Así que no tenemos nada de lo que preocuparnos. Recordad que al inicio de la lección os mostramos una tabla con todos los posibles errores que nos podemos encontrar cuando hacemos una llamada a una API. "
   ]
  },
  {
   "attachments": {},
   "cell_type": "markdown",
   "metadata": {},
   "source": [
    "Primer ejemplo superado, si vemos el resto de los datos que nos puede dar la API la cosa cambia un poco, ya que no está diciendo que le tendremos que pasar algunos parámetros, por ejemplo: \n",
    "\n",
    "- En el de \"For multiple quotes, you can provide a count query with the number of quotes you'd like\" debemos usar otra url, esta es: \n",
    "\n",
    "    ```python\n",
    "    url = \"https://thesimpsonsquoteapi.glitch.me/quotes?count=num\"\n",
    "\n",
    "    # pero aquí debemos pasar el número de frases que queremos, ya que por defecto nos devuelve solo una. Ese número lo tendremos que especificar en la url, donde pone num\n",
    "    ```\n",
    "- En el de \"For filtered character and multiple quotes, you can provide a character and num query\" debemos usar otra url, esta es: \n",
    "\n",
    "    ```python\n",
    "    #otros ejemplo que tenemos en esta API es de conseguir un número determinado de frases para un personaje concreto\n",
    "\n",
    "    url2 = \"https://thesimpsonsquoteapi.glitch.me/quotes?count=num&character=personaje\"\n",
    "    ```\n",
    "\n",
    "Para poder pasarle estos valores, que pueden ser distintos, a la API debemos usar lo que se llaman `params`, que basicamente consistitán en contruir un diccionario con los valores que queremos. Donde la `key` se llame igual que el parámetro y el `value` deberá ser un *string* con los valores concretos que queremos. \n",
    "\n",
    "```python\n",
    "\n",
    "# Para la segunda de las llamadas, donde su url será la básica que teníamos en el primer ejemplo al que luego le añadiremos el  número de frases que queremos usando el parámetro params\n",
    "url = \"https://thesimpsonsquoteapi.glitch.me/quotes\"\n",
    "\n",
    "# definimos el diccionario\n",
    "\n",
    "variables = {\"count\": \"3\"} # lo llamamos count porque así nos lo dice la documentación y 3 porque quiero que me de tres frases. \n",
    "```\n",
    "\n",
    "```python\n",
    "\n",
    "# para el segundo de los ejemplos que pusimos arriba, nos preguntan por dos cosas, por el personaje y por el número de frases que queremos de dicho personaje. Por lo tanto, este diccionario deberá tener dos keys. \n",
    "\n",
    "url2 = \"https://thesimpsonsquoteapi.glitch.me/quotes\"\n",
    "\n",
    "variables2 = {\"count\": \"10\", \n",
    "                \"character\": \"maggie\"}\n",
    "```\n",
    "\n",
    "\n",
    "Solo nos falta saber como añadir esta \"información extra\" a nuestra url, como hemos dicho usaremos el parámetro `params`. Veamoslo con un ejemplo: \n"
   ]
  },
  {
   "cell_type": "code",
   "execution_count": 42,
   "metadata": {},
   "outputs": [
    {
     "data": {
      "text/plain": [
       "200"
      ]
     },
     "execution_count": 42,
     "metadata": {},
     "output_type": "execute_result"
    }
   ],
   "source": [
    "# definimos nuestro diccionario\n",
    "variable = {'count': 3}\n",
    "\n",
    "# añadimos a la petición el parámetro headers para añadir esa información que queríamos\n",
    "response = requests.get('https://thesimpsonsquoteapi.glitch.me/quotes', params=variable)\n",
    "\n",
    "# vemos si estamos haciendo bien la llamada:\n",
    "response.status_code"
   ]
  },
  {
   "cell_type": "code",
   "execution_count": 43,
   "metadata": {},
   "outputs": [
    {
     "data": {
      "text/plain": [
       "200"
      ]
     },
     "execution_count": 43,
     "metadata": {},
     "output_type": "execute_result"
    }
   ],
   "source": [
    "# definimos nuestro diccionario\n",
    "variables2 = {\"count\": \"10\", \n",
    "                \"character\": \"maggie\"}\n",
    "\n",
    "# añadimos a la petición el parámetro headers para añadir esa información que queríamos\n",
    "response = requests.get(url='https://thesimpsonsquoteapi.glitch.me/quotes',params=variables2)\n",
    "\n",
    "# vemos si estamos haciendo bien la llamada:\n",
    "response.status_code"
   ]
  },
  {
   "attachments": {},
   "cell_type": "markdown",
   "metadata": {},
   "source": [
    "## Extrayendo los datos de la API\n",
    "\n",
    "\n",
    "Viendo ahora que el link de API es accesible, vamos a ver como extraer la información que deseamos de la misma. Ya que ese es el fín último que deseamos del uso de esta herramienta.\n",
    "\n",
    "Para ello, primero vamos a mostrar por pantalla los datos que hemos extraido, para hacernos una idea de la clase de datos a los que nos estamos enfrentando. Para hacer esto tenemoos dos opciones: \n",
    "```python\n",
    "# usando la sentencia .text que nos lo devuelve en formato de string\n",
    "response.text\n",
    "\n",
    "# usando la sentencia .json que nos lo devuelve en formato json\n",
    "response.json()\n",
    "```"
   ]
  },
  {
   "cell_type": "code",
   "execution_count": 44,
   "metadata": {},
   "outputs": [],
   "source": [
    "# hagamoslo para la primera de las url que vimos de los simpsons, donde nos devolvía una frase aleatoria de un personaje aleatorio\n",
    "\n",
    "# establecemos la url a la que queremos hacer la llamada\n",
    "url = 'https://thesimpsonsquoteapi.glitch.me/quotes'\n",
    "\n",
    "# hacemos la llamada usando el método get\n",
    "response = requests.get(url=url)\n",
    "\n",
    "# almacenamos el resultado en una variable que se llama \"frase_json\" donde tendremos el json\n",
    "frase_json = response.json()\n",
    "\n",
    "# almacenamos el resultado en una variable que se llama \"frase_str\" donde tendremos el string\n",
    "frase_str = response.text"
   ]
  },
  {
   "cell_type": "code",
   "execution_count": 45,
   "metadata": {},
   "outputs": [
    {
     "name": "stdout",
     "output_type": "stream",
     "text": [
      "[{'quote': \"Hello, Simpson. I'm riding the bus today becuase Mother hid my car keys to punish me for talking to a woman on the phone. She was right to do it.\", 'character': 'Principal Skinner', 'image': 'https://cdn.glitch.com/3c3ffadc-3406-4440-bb95-d40ec8fcde72%2FSeymourSkinner.png?1497567511460', 'characterDirection': 'Right'}]\n",
      "---------------\n",
      "[{\"quote\":\"Hello, Simpson. I'm riding the bus today becuase Mother hid my car keys to punish me for talking to a woman on the phone. She was right to do it.\",\"character\":\"Principal Skinner\",\"image\":\"https://cdn.glitch.com/3c3ffadc-3406-4440-bb95-d40ec8fcde72%2FSeymourSkinner.png?1497567511460\",\"characterDirection\":\"Right\"}]\n"
     ]
    }
   ],
   "source": [
    "# veamos los resultados: \n",
    "\n",
    "print(frase_json)\n",
    "\n",
    "print(\"---------------\")\n",
    "\n",
    "print(frase_str)"
   ]
  },
  {
   "cell_type": "code",
   "execution_count": 46,
   "metadata": {},
   "outputs": [
    {
     "data": {
      "text/plain": [
       "200"
      ]
     },
     "execution_count": 46,
     "metadata": {},
     "output_type": "execute_result"
    },
    {
     "data": {
      "text/plain": [
       "[{'quote': \"Me fail English? That's unpossible.\",\n",
       "  'character': 'Ralph Wiggum',\n",
       "  'image': 'https://cdn.glitch.com/3c3ffadc-3406-4440-bb95-d40ec8fcde72%2FRalphWiggum.png?1497567511523',\n",
       "  'characterDirection': 'Left'},\n",
       " {'quote': \"That's where I saw the leprechaun...He told me to burn things.\",\n",
       "  'character': 'Ralph Wiggum',\n",
       "  'image': 'https://cdn.glitch.com/3c3ffadc-3406-4440-bb95-d40ec8fcde72%2FRalphWiggum.png?1497567511523',\n",
       "  'characterDirection': 'Left'},\n",
       " {'quote': 'They taste like...burning.',\n",
       "  'character': 'Ralph Wiggum',\n",
       "  'image': 'https://cdn.glitch.com/3c3ffadc-3406-4440-bb95-d40ec8fcde72%2FRalphWiggum.png?1497567511523',\n",
       "  'characterDirection': 'Left'},\n",
       " {'quote': \"Oh boy, sleep! That's where I'm a viking!\",\n",
       "  'character': 'Ralph Wiggum',\n",
       "  'image': 'https://cdn.glitch.com/3c3ffadc-3406-4440-bb95-d40ec8fcde72%2FRalphWiggum.png?1497567511523',\n",
       "  'characterDirection': 'Left'},\n",
       " {'quote': 'Hi, Super Nintendo Chalmers!',\n",
       "  'character': 'Ralph Wiggum',\n",
       "  'image': 'https://cdn.glitch.com/3c3ffadc-3406-4440-bb95-d40ec8fcde72%2FRalphWiggum.png?1497567511523',\n",
       "  'characterDirection': 'Left'}]"
      ]
     },
     "execution_count": 46,
     "metadata": {},
     "output_type": "execute_result"
    }
   ],
   "source": [
    "# vemoas otro ejemplo, en este caso con la llamada a la API para un personaje en concreto y un número de frases concreto\n",
    "\n",
    "# definimos nuestro diccionario\n",
    "variables2 = {\"count\": \"10\", \n",
    "                \"character\": \"Ralph Wiggum\"}\n",
    "\n",
    "# añadimos a la petición el parámetro headers para añadir esa información que queríamos\n",
    "response2 = requests.get(url=f'https://thesimpsonsquoteapi.glitch.me/quotes',params=variables2)\n",
    "\n",
    "# vemos si estamos haciendo bien la llamada:\n",
    "response2.status_code\n",
    "\n",
    "\n",
    "ralph_json = response2.json()\n",
    "ralph_json"
   ]
  },
  {
   "attachments": {},
   "cell_type": "markdown",
   "metadata": {},
   "source": [
    "Todo esto esta muy bien, pero en realidad nosotras ya estamos familirazadas con Pandas, ¿habrá alguna forma de convertir la respuesta de la API a un *dataframe*? Y la respuesta es SI!!! Para esto necesitaremos usar el método `pd.json_normalize()`, cuya sintaxis es la siguiente: \n",
    "\n",
    "```python\n",
    "pd.json_normalize(response.json())\n",
    "```"
   ]
  },
  {
   "cell_type": "code",
   "execution_count": 47,
   "metadata": {},
   "outputs": [
    {
     "data": {
      "text/plain": [
       "200"
      ]
     },
     "execution_count": 47,
     "metadata": {},
     "output_type": "execute_result"
    },
    {
     "data": {
      "text/html": [
       "<div>\n",
       "<style scoped>\n",
       "    .dataframe tbody tr th:only-of-type {\n",
       "        vertical-align: middle;\n",
       "    }\n",
       "\n",
       "    .dataframe tbody tr th {\n",
       "        vertical-align: top;\n",
       "    }\n",
       "\n",
       "    .dataframe thead th {\n",
       "        text-align: right;\n",
       "    }\n",
       "</style>\n",
       "<table border=\"1\" class=\"dataframe\">\n",
       "  <thead>\n",
       "    <tr style=\"text-align: right;\">\n",
       "      <th></th>\n",
       "      <th>quote</th>\n",
       "      <th>character</th>\n",
       "      <th>image</th>\n",
       "      <th>characterDirection</th>\n",
       "    </tr>\n",
       "  </thead>\n",
       "  <tbody>\n",
       "    <tr>\n",
       "      <th>0</th>\n",
       "      <td>Yeah. Call this an unfair generalization if yo...</td>\n",
       "      <td>Moe Szyslak</td>\n",
       "      <td>https://cdn.glitch.com/3c3ffadc-3406-4440-bb95...</td>\n",
       "      <td>Right</td>\n",
       "    </tr>\n",
       "    <tr>\n",
       "      <th>1</th>\n",
       "      <td>Marriage is like a coffin and each kid is anot...</td>\n",
       "      <td>Homer Simpson</td>\n",
       "      <td>https://cdn.glitch.com/3c3ffadc-3406-4440-bb95...</td>\n",
       "      <td>Right</td>\n",
       "    </tr>\n",
       "    <tr>\n",
       "      <th>2</th>\n",
       "      <td>Hello, Simpson. I'm riding the bus today becua...</td>\n",
       "      <td>Principal Skinner</td>\n",
       "      <td>https://cdn.glitch.com/3c3ffadc-3406-4440-bb95...</td>\n",
       "      <td>Right</td>\n",
       "    </tr>\n",
       "  </tbody>\n",
       "</table>\n",
       "</div>"
      ],
      "text/plain": [
       "                                               quote          character  \\\n",
       "0  Yeah. Call this an unfair generalization if yo...        Moe Szyslak   \n",
       "1  Marriage is like a coffin and each kid is anot...      Homer Simpson   \n",
       "2  Hello, Simpson. I'm riding the bus today becua...  Principal Skinner   \n",
       "\n",
       "                                               image characterDirection  \n",
       "0  https://cdn.glitch.com/3c3ffadc-3406-4440-bb95...              Right  \n",
       "1  https://cdn.glitch.com/3c3ffadc-3406-4440-bb95...              Right  \n",
       "2  https://cdn.glitch.com/3c3ffadc-3406-4440-bb95...              Right  "
      ]
     },
     "execution_count": 47,
     "metadata": {},
     "output_type": "execute_result"
    }
   ],
   "source": [
    "# vemoas otro ejemplo, en este caso con la llamada a la API con un número de frases concreto\n",
    "\n",
    "# definimos nuestro diccionario\n",
    "variable = {'count': \"3\"}\n",
    "\n",
    "# añadimos a la petición el parámetro headers para añadir esa información que queríamos\n",
    "response2 = requests.get(url=f'https://thesimpsonsquoteapi.glitch.me/quotes',params=variable)\n",
    "\n",
    "# vemos si estamos haciendo bien la llamada:\n",
    "response2.status_code\n",
    "\n",
    "\n",
    "maggie_df = pd.json_normalize(response2.json())\n",
    "maggie_df"
   ]
  },
  {
   "attachments": {},
   "cell_type": "markdown",
   "metadata": {},
   "source": [
    "Y voilá!!! Ya tenemos todos los datos en un dataframe que podremos usar para juntar con otros datos, hacer gráficas y limpiar 💪🏽. "
   ]
  },
  {
   "attachments": {},
   "cell_type": "markdown",
   "metadata": {},
   "source": [
    "### Almacenando el dataset\n",
    "\n",
    "Ahora solo nos quedaría guardar el dataset extraido, para ello vamos a hacer uso de la función de pandas que ya conocemos de lecciones anteriores. Realmente podemos almacenar el dataset en el formato que más nos interese, no obstante vamos a guardarlo en formato pickle (recordamos que es un formato que únicamente puede ser leido en Pyhon), ya que nos preserva la clase de tipo de datos y tiene una mayor velocidad de lectura desde pandas frente a csv."
   ]
  },
  {
   "cell_type": "code",
   "execution_count": 48,
   "metadata": {},
   "outputs": [],
   "source": [
    "maggie_df.to_pickle('../files/API_simpsons.pkl')"
   ]
  },
  {
   "cell_type": "markdown",
   "metadata": {},
   "source": [
    "## Límites de la extracción de datos de una API"
   ]
  },
  {
   "cell_type": "markdown",
   "metadata": {},
   "source": [
    "Otra cosa a considerar a la hora de utilizar una API, es la existencia del límite de peticiones que se pueden realizar de una sola vez al servidor. Por ejemplo, podría existir una página que solo te pudiera mostrar los 10000 primeros registros que contiene por cada petición realizada.\n",
    "Estos límites se establecen para evitar el colapso del servidor que procesa las peticiones. Ya que podría haber gente malintencionada que crease un programa que hiciera millones de peticiones por segundo, hasta conseguir que el servidor se colgase y dejase de estar operativo.\n",
    "\n",
    "\n",
    "Esto ya dependerá de la configuración propia de cada API. Para ello será importante ir a la documentación de uso de aquellas API's que deseemos utilizar, para utilizarla de la forma más efectiva posible.\n",
    "\n",
    "No obstante, a pesar de la limitación de registros accesibles de una API, podemos solventar este problema de diferentes formas. \n",
    "\n",
    "Por ejemplo la forma más sencilla sería la de ir realizando peticiones de forma secuencial almacenando los datos por cada una de las peticiones e ir agregando los datos conforme los vamos recibiendo.\n",
    "\n",
    "Alternativamente a lo mejor se puede solicitar acceso a mayor cantidad de información por petición si se compra una licencia de uso de la API en cuestión, esto ya dependerá de el tipo de información que estemos buscando, de donde se originan los datos o quien es el dueño de la información.\n",
    "\n",
    "Por hoy es más que suficiente, en la siguiente lección más y mejor!"
   ]
  },
  {
   "attachments": {},
   "cell_type": "markdown",
   "metadata": {},
   "source": [
    "# Ejericicios de la clase invertida\n",
    "\n",
    "- **Ejercicio 1**: haciendo uso de instrucciones de control de flujo, implementa un pequeño código que nos muestre por pantalla si la petición realizada ha fallado o si por el contrario ha sido exitosa. Para ello haz hincapie en mostrar si las respuestas han sido de tipo 200, 402 o 404 o otra, mostrando adicionalmente el valor de respuesta obtenido. Así como la razón del código de estado devuelto. Utiliza para ello la [siguiente](http://www.7timer.info/bin/api.pl?lon=40.4165&lat=-3.70256&product=civil&output=json) url.\n",
    "\n",
    "- **Ejercicio 2**: utilizando de nuevo la URL del ejercicio anterior. Explora los diferentes formatos de los datos y muestralo por pantalla: XML y JSON. Explicando así mismo las diferencias más notables que ves.\n",
    "\n",
    "- **Ejercicio 3**: utilizano de nuevo la URL del ejercicio anterior, extrae ahora los datos de la URL anterior y almacénalo como un dataframe de pandas, con nombre df_API_tiempo_madrid. Nota: Es posible que tengas que realizar algún paso adicional, para que se quede con la estructura correcta ;)\n",
    "\n",
    "- **Ejercicio 4**: guarda ahora los datos extraidos en el ejercicio 3, en formato pickle, con el nombre **datos_tiempo_madrid**. Adicionalmente lo vamos a guardar también en csv ya que lo usaremos en la sesión siguente, ponedle el nombre de **datos_Madrid**. "
   ]
  }
 ],
 "metadata": {
  "kernelspec": {
   "display_name": "base",
   "language": "python",
   "name": "python3"
  },
  "language_info": {
   "codemirror_mode": {
    "name": "ipython",
    "version": 3
   },
   "file_extension": ".py",
   "mimetype": "text/x-python",
   "name": "python",
   "nbconvert_exporter": "python",
   "pygments_lexer": "ipython3",
   "version": "3.9.7"
  },
  "toc": {
   "base_numbering": 1,
   "nav_menu": {},
   "number_sections": true,
   "sideBar": true,
   "skip_h1_title": false,
   "title_cell": "Table of Contents",
   "title_sidebar": "Contents",
   "toc_cell": true,
   "toc_position": {},
   "toc_section_display": true,
   "toc_window_display": true
  },
  "vscode": {
   "interpreter": {
    "hash": "f7912e45f56376859e46a323936f3af5ef395502effe5c6049b04a4785be6cad"
   }
  }
 },
 "nbformat": 4,
 "nbformat_minor": 2
}
