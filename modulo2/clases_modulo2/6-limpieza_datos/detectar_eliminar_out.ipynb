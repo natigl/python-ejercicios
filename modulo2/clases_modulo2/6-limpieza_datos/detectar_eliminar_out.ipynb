{
 "cells": [
  {
   "cell_type": "code",
   "execution_count": null,
   "metadata": {},
   "outputs": [],
   "source": [
    "# cálculo del Q1\n",
    "Q1 = np.nanpercentile(df['m2016'], 25)\n",
    "Q1"
   ]
  },
  {
   "cell_type": "code",
   "execution_count": null,
   "metadata": {},
   "outputs": [],
   "source": [
    "# cálculo del Q3\n",
    "Q3 = np.nanpercentile(df['m2016'], 75)\n",
    "Q3"
   ]
  },
  {
   "cell_type": "code",
   "execution_count": null,
   "metadata": {},
   "outputs": [],
   "source": [
    "#calculemos el IQR \n",
    "\n",
    "IQR = Q3 - Q1\n",
    "IQR"
   ]
  },
  {
   "cell_type": "code",
   "execution_count": null,
   "metadata": {},
   "outputs": [],
   "source": [
    "# multiplicamos el IQR por 1.5\n",
    "\n",
    "outlier_step = 1.5 * IQR\n",
    "outlier_step"
   ]
  },
  {
   "cell_type": "code",
   "execution_count": null,
   "metadata": {},
   "outputs": [],
   "source": [
    "outliers_data = df[(df[\"m2016\"] < Q1 - outlier_step) | (df[\"m2016\"] > Q3 + outlier_step)]"
   ]
  },
  {
   "cell_type": "code",
   "execution_count": null,
   "metadata": {},
   "outputs": [],
   "source": [
    "# sacamos los índices de los outliers \n",
    "x = list(outliers_data.index)\n",
    "x "
   ]
  },
  {
   "attachments": {},
   "cell_type": "markdown",
   "metadata": {},
   "source": [
    "# FUNCIÓN PARA SACAR DICCIONARIO CON KEYS NOMBRES COLUMNAS VALUES INDICES\n"
   ]
  },
  {
   "cell_type": "code",
   "execution_count": null,
   "metadata": {},
   "outputs": [],
   "source": [
    "def detectar_outliers(lista_columnas, dataframe): \n",
    "    \n",
    "    dicc_indices = {} # creamos un diccionario donde almacenaremos índices de los outliers\n",
    "    \n",
    "    # iteramos por la lista de las columnas numéricas de nuestro dataframe\n",
    "    for col in lista_columnas:\n",
    "        \n",
    "        #calculamos los cuartiles Q1 y Q3\n",
    "        Q1 = np.nanpercentile(df[col], 25)\n",
    "        Q3 = np.nanpercentile(df[col], 75)\n",
    "        \n",
    "        # calculamos el rango intercuartil\n",
    "        IQR = Q3 - Q1\n",
    "        \n",
    "        # calculamos los límites\n",
    "        outlier_step = 1.5 * IQR\n",
    "        \n",
    "        # filtramos nuestro dataframe para indentificar los outliers\n",
    "        outliers_data = dataframe[(dataframe[col] < Q1 - outlier_step) | (dataframe[col] > Q3 + outlier_step)]\n",
    "        \n",
    "        \n",
    "        if outliers_data.shape[0] > 0: # chequeamos si nuestro dataframe tiene alguna fila. \n",
    "        \n",
    "            dicc_indices[col] = (list(outliers_data.index)) # si tiene fila es que hay outliers y por lo tanto lo añadimos a nuestro diccionario\n",
    "        \n",
    "\n",
    "    \n",
    "    return dicc_indices "
   ]
  },
  {
   "cell_type": "code",
   "execution_count": null,
   "metadata": {},
   "outputs": [],
   "source": [
    "ind = detectar_outliers(lista_columnas, df)"
   ]
  },
  {
   "attachments": {},
   "cell_type": "markdown",
   "metadata": {},
   "source": [
    "# ELIMINAR OUTLIERS"
   ]
  },
  {
   "cell_type": "code",
   "execution_count": null,
   "metadata": {},
   "outputs": [],
   "source": [
    "# sacamos los valores de nuestro diccionario. \n",
    "\n",
    "valores = ind.values()"
   ]
  },
  {
   "cell_type": "code",
   "execution_count": null,
   "metadata": {},
   "outputs": [],
   "source": [
    "# hacemos una set comprehension para aplanar nuestra lista de listas y dejar un set. Puede ser que nos encontremos con índices que están repetidos, ya que puede ser que una fila tenga valores que sean outliers para dos columnas. \n",
    "# si recordamos de las primeras clases, en Python tenemos los sets que no permitían tener valores duplicados.\n",
    "\n",
    "valores = {indice for sublista in valores for indice in sublista}\n",
    "print(valores)"
   ]
  },
  {
   "cell_type": "code",
   "execution_count": null,
   "metadata": {},
   "outputs": [],
   "source": [
    "# nos hacemos una copia del dataframe original\n",
    "\n",
    "df_sin_outliers2 = df.copy()"
   ]
  },
  {
   "cell_type": "code",
   "execution_count": null,
   "metadata": {},
   "outputs": [],
   "source": [
    "# eliminamos usando la lista de índices las filas que hemos identificado como outliers\n",
    "\n",
    "final = df_sin_outliers2.drop(df_sin_outliers2.index[list(valores)])"
   ]
  },
  {
   "attachments": {},
   "cell_type": "markdown",
   "metadata": {},
   "source": [
    "# REEMPLAZAR OUTLIERS"
   ]
  },
  {
   "cell_type": "code",
   "execution_count": null,
   "metadata": {},
   "outputs": [],
   "source": [
    "# lo que vamos a hacer es iterar por el diccionario que nos devuelve la función \n",
    "for k, v in ind.items():\n",
    "    media = df[k].mean() # calculamos la media para cada una de las columnas que tenemos en nuestro diccionario\n",
    "    for i in v: # iteremos por la lista de valores para cada columna\n",
    "        df.loc[i,k] = media # usando el loc, reemmplazamos los valores de los outliers por la media que hemos calculado al inicio"
   ]
  }
 ],
 "metadata": {
  "kernelspec": {
   "display_name": "Python 3",
   "language": "python",
   "name": "python3"
  },
  "language_info": {
   "name": "python",
   "version": "3.6.9 (default, Jun 29 2022, 11:45:57) \n[GCC 8.4.0]"
  },
  "orig_nbformat": 4,
  "vscode": {
   "interpreter": {
    "hash": "31f2aee4e71d21fbe5cf8b01ff0e069b9275f58929596ceb00d14d90e3e16cd6"
   }
  }
 },
 "nbformat": 4,
 "nbformat_minor": 2
}
